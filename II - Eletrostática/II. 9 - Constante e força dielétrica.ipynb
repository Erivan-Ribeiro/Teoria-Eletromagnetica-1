{
 "cells": [
  {
   "attachments": {},
   "cell_type": "markdown",
   "id": "3a85463a",
   "metadata": {
    "tags": []
   },
   "source": [
    "$\\newcommand{\\ax}{\\mathbf{a}_x}$\n",
    "$\\newcommand{\\ay}{\\mathbf{a}_y}$\n",
    "$\\newcommand{\\az}{\\mathbf{a}_z}$\n",
    "$\\newcommand{\\arho}{\\mathbf{a}_\\rho}$\n",
    "$\\newcommand{\\ap}{\\mathbf{a}_\\phi}$\n",
    "$\\newcommand{\\ar}{\\mathbf{a}_r}$\n",
    "$\\newcommand{\\at}{\\mathbf{a}_\\theta}$\n",
    "$\\newcommand{\\grad}[1]{\\nabla #1}$\n",
    "$\\renewcommand{\\div}[1]{\\mathbf{\\nabla} \\cdot \\mathbf{#1}}$\n",
    "$\\newcommand{\\rot}[1]{\\mathbf{\\nabla} \\times \\mathbf{#1}}$\n",
    "$\\newcommand{\\parcial}[2]{\\displaystyle\\frac{\\partial #1}{\\partial #2}}$\n",
    "$\\newcommand{\\pard}[2]{\\displaystyle\\frac{\\partial^2 {#1}}{\\partial {#2}^2}}$\n",
    "$\\newcommand{\\lapcart}[1]{\\pard{#1}{x}+\\pard{#1}{y}+\\pard{#1}{z}}$\n",
    "$\\newcommand{\\lapcili}[1]{\\frac{1}{\\rho}\\parcial{}{\\rho}\\left(\\rho \\parcial{#1}{\\rho}\\right)+\\frac{1}{\\rho^2}\\pard{#1}{\\phi}+\\pard{#1}{z}}$\n",
    "$\\newcommand{\\lapesf}[1]{\\frac{1}{r^2}\\parcial{}{r}\\left(r^2 \\parcial{#1}{r}\\right)+\\frac{1}{r^2\\sin \\theta }\\left(\\sin \\theta \\, \\parcial{#1}{\\theta}\\right)+\\frac{1}{r^2\\sin \\theta}\\pard{V}{\\phi}}$\n",
    "\n"
   ]
  },
  {
   "attachments": {},
   "cell_type": "markdown",
   "id": "b25518e0",
   "metadata": {},
   "source": [
    "# Constante e força dielétrica"
   ]
  },
  {
   "attachments": {},
   "cell_type": "markdown",
   "id": "482b755d",
   "metadata": {},
   "source": [
    "<center> <img src='Ex5.5.svg'> </center>"
   ]
  },
  {
   "cell_type": "code",
   "execution_count": null,
   "id": "b2735df8",
   "metadata": {},
   "outputs": [],
   "source": []
  },
  {
   "attachments": {},
   "cell_type": "markdown",
   "id": "183df663",
   "metadata": {},
   "source": [
    "<center> <img src='Pratico5.5.svg'> </center>"
   ]
  },
  {
   "attachments": {},
   "cell_type": "markdown",
   "id": "4787e56f",
   "metadata": {},
   "source": [
    "<center> <img src='Ex5.6.svg'> </center>"
   ]
  },
  {
   "cell_type": "code",
   "execution_count": null,
   "id": "4ea1374d",
   "metadata": {},
   "outputs": [],
   "source": []
  },
  {
   "attachments": {},
   "cell_type": "markdown",
   "id": "48e1622d",
   "metadata": {},
   "source": [
    "<center> <img src='Pratico5.6.svg'> </center>"
   ]
  },
  {
   "attachments": {},
   "cell_type": "markdown",
   "id": "d3e5e380",
   "metadata": {},
   "source": [
    "<center> <img src='Ex5.7.svg'> </center>"
   ]
  },
  {
   "cell_type": "code",
   "execution_count": null,
   "id": "713fc20b",
   "metadata": {},
   "outputs": [],
   "source": []
  },
  {
   "attachments": {},
   "cell_type": "markdown",
   "id": "b461ee12",
   "metadata": {},
   "source": [
    "<center> <img src='Pratico5.7.svg'> </center>"
   ]
  },
  {
   "attachments": {},
   "cell_type": "markdown",
   "id": "9aeb11a3",
   "metadata": {},
   "source": [
    "<center> <img src='Ex5.8.svg'> </center>"
   ]
  },
  {
   "cell_type": "code",
   "execution_count": null,
   "id": "18f10640",
   "metadata": {},
   "outputs": [],
   "source": []
  },
  {
   "attachments": {},
   "cell_type": "markdown",
   "id": "99e605ca",
   "metadata": {},
   "source": [
    "<center> <img src='Pratico5.8.svg'> </center>"
   ]
  }
 ],
 "metadata": {
  "kernelspec": {
   "display_name": "Python 3 (ipykernel)",
   "language": "python",
   "name": "python3"
  },
  "language_info": {
   "codemirror_mode": {
    "name": "ipython",
    "version": 3
   },
   "file_extension": ".py",
   "mimetype": "text/x-python",
   "name": "python",
   "nbconvert_exporter": "python",
   "pygments_lexer": "ipython3",
   "version": "3.11.1"
  }
 },
 "nbformat": 4,
 "nbformat_minor": 5
}
