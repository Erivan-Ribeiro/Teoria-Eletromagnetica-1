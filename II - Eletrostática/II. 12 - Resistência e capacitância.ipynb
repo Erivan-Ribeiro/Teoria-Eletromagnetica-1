{
 "cells": [
  {
   "attachments": {},
   "cell_type": "markdown",
   "id": "3a85463a",
   "metadata": {
    "tags": []
   },
   "source": [
    "$\\newcommand{\\ax}{\\mathbf{a}_x}$\n",
    "$\\newcommand{\\ay}{\\mathbf{a}_y}$\n",
    "$\\newcommand{\\az}{\\mathbf{a}_z}$\n",
    "$\\newcommand{\\arho}{\\mathbf{a}_\\rho}$\n",
    "$\\newcommand{\\ap}{\\mathbf{a}_\\phi}$\n",
    "$\\newcommand{\\ar}{\\mathbf{a}_r}$\n",
    "$\\newcommand{\\at}{\\mathbf{a}_\\theta}$\n",
    "$\\newcommand{\\grad}[1]{\\nabla #1}$\n",
    "$\\renewcommand{\\div}[1]{\\mathbf{\\nabla} \\cdot \\mathbf{#1}}$\n",
    "$\\newcommand{\\rot}[1]{\\mathbf{\\nabla} \\times \\mathbf{#1}}$\n",
    "$\\newcommand{\\parcial}[2]{\\displaystyle\\frac{\\partial #1}{\\partial #2}}$\n",
    "$\\newcommand{\\pard}[2]{\\displaystyle\\frac{\\partial^2 {#1}}{\\partial {#2}^2}}$\n",
    "$\\newcommand{\\lapcart}[1]{\\pard{#1}{x}+\\pard{#1}{y}+\\pard{#1}{z}}$\n",
    "$\\newcommand{\\lapcili}[1]{\\frac{1}{\\rho}\\parcial{}{\\rho}\\left(\\rho \\parcial{#1}{\\rho}\\right)+\\frac{1}{\\rho^2}\\pard{#1}{\\phi}+\\pard{#1}{z}}$\n",
    "$\\newcommand{\\lapesf}[1]{\\frac{1}{r^2}\\parcial{}{r}\\left(r^2 \\parcial{#1}{r}\\right)+\\frac{1}{r^2\\sin \\theta }\\left(\\sin \\theta \\, \\parcial{#1}{\\theta}\\right)+\\frac{1}{r^2\\sin \\theta}\\pard{V}{\\phi}}$\n",
    "\n"
   ]
  },
  {
   "attachments": {},
   "cell_type": "markdown",
   "id": "b25518e0",
   "metadata": {},
   "source": [
    "# Resistência e capacitância"
   ]
  },
  {
   "attachments": {},
   "cell_type": "markdown",
   "id": "08551049",
   "metadata": {},
   "source": [
    "## Resistência:"
   ]
  },
  {
   "attachments": {},
   "cell_type": "markdown",
   "id": "ac116573",
   "metadata": {},
   "source": [
    "$$\n",
    "R = \\frac{V}{I} = \\frac{\\int \\mathbf{E}\\cdot d\\mathbf{l}}{\\int \\sigma\\mathbf{E}\\cdot d\\mathbf{S}}"
   ]
  },
  {
   "attachments": {},
   "cell_type": "markdown",
   "id": "bc178f91",
   "metadata": {},
   "source": [
    "## Capacitância"
   ]
  },
  {
   "attachments": {},
   "cell_type": "markdown",
   "id": "fa573699",
   "metadata": {},
   "source": [
    "$$\n",
    "C = \\frac{Q}{V} = \\frac{\\oint \\epsilon \\mathbf{E}\\cdot d\\mathbf{S}}{\\int \\mathbf{E}\\cdot d\\mathbf{l}}\n",
    "$$"
   ]
  },
  {
   "attachments": {},
   "cell_type": "markdown",
   "id": "7f74542d",
   "metadata": {},
   "source": [
    "## Placas paralelas"
   ]
  },
  {
   "attachments": {},
   "cell_type": "markdown",
   "id": "20f853ec",
   "metadata": {},
   "source": [
    "<center> <img src = './Figs/Fig 6.13.svg'> </center>"
   ]
  },
  {
   "attachments": {},
   "cell_type": "markdown",
   "id": "b11291d3",
   "metadata": {},
   "source": [
    "Densidade de carga no local:\n",
    "$$\n",
    "\\rho_s = \\frac{Q}{S}\n",
    "$$"
   ]
  },
  {
   "attachments": {},
   "cell_type": "markdown",
   "id": "7200cf1a",
   "metadata": {},
   "source": [
    "Campo:\n",
    "$$\n",
    "    \\mathbf{E} = \\frac{\\rho_s}{\\epsilon}(-\\ax) = \\frac{-Q}{s\\epsilon}\\ax\n",
    "$$\n",
    "\n",
    "Potencial:\n",
    "$$\n",
    "\\begin{align}\n",
    "    V &= -\\int \\mathbf{E}\\cdot d\\mathbf{l} = \\int_0^d \\frac{-Q}{s\\epsilon}\\ax \\cdot dx \\,\\ax\\\\\n",
    "    &= \\frac{Qd}{\\epsilon S}\n",
    "\\end{align}\n",
    "$$\n",
    "\n",
    "Logo:\n",
    "$$\n",
    "    \\frac{Q}{V} = C = \\frac{\\epsilon S}{d}\n",
    "$$"
   ]
  },
  {
   "attachments": {},
   "cell_type": "markdown",
   "id": "a30a3373",
   "metadata": {},
   "source": [
    "A capacitância pode ser usada para medir a permissividade relativa.\n",
    "$$\n",
    "    \\epsilon_r = \\frac{C}{C_o} = \\frac{\\text{Cap. com dielétrico}}{\\text{Cap. sem dielétrico}}\n",
    "$$"
   ]
  },
  {
   "attachments": {},
   "cell_type": "markdown",
   "id": "3b03c569",
   "metadata": {},
   "source": [
    "## Capacitor coaxial (cilíndrico)"
   ]
  },
  {
   "attachments": {},
   "cell_type": "markdown",
   "id": "13a842dc",
   "metadata": {},
   "source": [
    "<center> <img src = './Figs/Fig 6.14.svg'> </center>"
   ]
  },
  {
   "attachments": {},
   "cell_type": "markdown",
   "id": "5f886150",
   "metadata": {},
   "source": [
    "Aplique a lei de Gauss: superfície gaussiana cinlíndrica entre as placas.\n",
    "$$\n",
    "\\begin{align}\n",
    "    \\mathbf{E} &= E_\\rho \\arho\\\\\n",
    "    Q &= \\epsilon \\oint_S \\mathbf{E}\\cdot d\\mathbf{S} = \\epsilon \\, E_\\rho\\, 2\\pi \\rho\\, L\n",
    "\\end{align}\n",
    "$$\n",
    "\n",
    "Campo:\n",
    "$$\n",
    "E_\\rho = \\frac{Q}{2\\pi \\epsilon\\rho\\, L} \n",
    "$$\n",
    "\n",
    "Potencial:\n",
    "$$\n",
    "\\begin{align}\n",
    "V & = - \\int \\mathbf{E}\\cdot d\\mathbf{l} = -\\int_{b}^a \\frac{Q}{2\\pi \\epsilon\\rho\\, L} \\arho \\cdot d\\rho\\,\\arho\\\\\n",
    "& = \\frac{Q}{2\\pi \\epsilon L}\\ln \\frac{b}{a}\n",
    "\\end{align}\n",
    "$$\n",
    "\n",
    "Capacitância\n",
    "$$\n",
    "    C = \\frac{Q}{V} = \\frac{2\\pi \\epsilon L}{\\ln \\frac{b}{a}}\n",
    "$$\n"
   ]
  },
  {
   "attachments": {},
   "cell_type": "markdown",
   "id": "f0613873",
   "metadata": {},
   "source": [
    "## Capacitor esférico"
   ]
  },
  {
   "attachments": {},
   "cell_type": "markdown",
   "id": "3f60c7d2",
   "metadata": {},
   "source": [
    "<center> <img src = './Figs/Fig 6.15.svg'> </center>"
   ]
  },
  {
   "attachments": {},
   "cell_type": "markdown",
   "id": "4704ff9d",
   "metadata": {},
   "source": [
    "Lei de Gauss. Superfície esférica de raio $r$ no interior do capacitor. \n",
    "\n",
    "$$\n",
    "    \\begin{align}\n",
    "    Q &= \\epsilon \\oint_S \\mathbf{E}\\cdot d\\mathbf{S} = \\epsilon\\, E_r \\,4 \\pi  r^2\\\\\n",
    "    E_r &= \\frac{Q}{4\\pi \\epsilon \\, r^2}\\\\\n",
    "    \\mathbf{E} &= E_r\\, \\ar \n",
    "    \\end{align}\n",
    "$$"
   ]
  },
  {
   "attachments": {},
   "cell_type": "markdown",
   "id": "765afc75",
   "metadata": {},
   "source": [
    "Potencial:\n",
    "$$\n",
    "\\begin{align}\n",
    "    V &= -\\int \\mathbf{E\\cdot} d\\mathbf{l} = -\\int_{b}^a\\frac{Q}{4\\pi \\epsilon \\, r^2} \\,\\ar \\cdot dr\\,\\ar\\\\\n",
    "    &= \\frac{Q}{4 \\pi \\epsilon} \\left(\\frac{1}{a}-\\frac{1}{b}\\right)\n",
    "\\end{align}\n",
    "$$"
   ]
  },
  {
   "attachments": {},
   "cell_type": "markdown",
   "id": "ad59c750",
   "metadata": {},
   "source": [
    "Capacitância:\n",
    "\n",
    "$$\n",
    "    C = \\frac{Q}{V} = \\frac{4\\pi \\epsilon}{\\frac{1}{a}-\\frac{1}{b}}\n",
    "$$"
   ]
  }
 ],
 "metadata": {
  "kernelspec": {
   "display_name": "Python 3 (ipykernel)",
   "language": "python",
   "name": "python3"
  },
  "language_info": {
   "codemirror_mode": {
    "name": "ipython",
    "version": 3
   },
   "file_extension": ".py",
   "mimetype": "text/x-python",
   "name": "python",
   "nbconvert_exporter": "python",
   "pygments_lexer": "ipython3",
   "version": "3.11.1"
  }
 },
 "nbformat": 4,
 "nbformat_minor": 5
}
