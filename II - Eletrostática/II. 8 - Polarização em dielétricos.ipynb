{
 "cells": [
  {
   "attachments": {},
   "cell_type": "markdown",
   "id": "3a85463a",
   "metadata": {
    "tags": []
   },
   "source": [
    "$\\newcommand{\\ax}{\\mathbf{a}_x}$\n",
    "$\\newcommand{\\ay}{\\mathbf{a}_y}$\n",
    "$\\newcommand{\\az}{\\mathbf{a}_z}$\n",
    "$\\newcommand{\\arho}{\\mathbf{a}_\\rho}$\n",
    "$\\newcommand{\\ap}{\\mathbf{a}_\\phi}$\n",
    "$\\newcommand{\\ar}{\\mathbf{a}_r}$\n",
    "$\\newcommand{\\at}{\\mathbf{a}_\\theta}$\n",
    "$\\newcommand{\\grad}[1]{\\nabla #1}$\n",
    "$\\renewcommand{\\div}[1]{\\mathbf{\\nabla} \\cdot \\mathbf{#1}}$\n",
    "$\\newcommand{\\rot}[1]{\\mathbf{\\nabla} \\times \\mathbf{#1}}$\n",
    "$\\newcommand{\\parcial}[2]{\\displaystyle\\frac{\\partial #1}{\\partial #2}}$\n",
    "$\\newcommand{\\pard}[2]{\\displaystyle\\frac{\\partial^2 {#1}}{\\partial {#2}^2}}$\n",
    "$\\newcommand{\\lapcart}[1]{\\pard{#1}{x}+\\pard{#1}{y}+\\pard{#1}{z}}$\n",
    "$\\newcommand{\\lapcili}[1]{\\frac{1}{\\rho}\\parcial{}{\\rho}\\left(\\rho \\parcial{#1}{\\rho}\\right)+\\frac{1}{\\rho^2}\\pard{#1}{\\phi}+\\pard{#1}{z}}$\n",
    "$\\newcommand{\\lapesf}[1]{\\frac{1}{r^2}\\parcial{}{r}\\left(r^2 \\parcial{#1}{r}\\right)+\\frac{1}{r^2\\sin \\theta }\\left(\\sin \\theta \\, \\parcial{#1}{\\theta}\\right)+\\frac{1}{r^2\\sin \\theta}\\pard{V}{\\phi}}$\n",
    "\n"
   ]
  },
  {
   "attachments": {},
   "cell_type": "markdown",
   "id": "b25518e0",
   "metadata": {},
   "source": [
    "# Polarização em dielétricos"
   ]
  },
  {
   "attachments": {},
   "cell_type": "markdown",
   "id": "18e7ac47",
   "metadata": {},
   "source": [
    "Em um dielétrico, a quantidade de elétrons livres nas camadas mais externas do material é bastante inferior em relação à quantidade observada em condutores.\n",
    "\n",
    "Isso não quer dizer que não haja movimento de carga se aplicado um campo externo. Ele ocorre, por um intervalo de tempo, e depois as cargas se acomodam e ficam praticamente estáticas.\n",
    "\n",
    "Assim, o dielétrico tende a ficar polarizado, com cargas estáticas formadas na superfície. O comportamento é semelhante a um dipolo elétrico. "
   ]
  },
  {
   "attachments": {},
   "cell_type": "markdown",
   "id": "bd7a5d2c",
   "metadata": {},
   "source": [
    "## Equações importantes do dielétrico:"
   ]
  },
  {
   "attachments": {},
   "cell_type": "markdown",
   "id": "b0e28421",
   "metadata": {},
   "source": [
    "Polarização total:\n",
    "$$\n",
    "\\mathbf{P} = \\lim_{\\Delta v\\rightarrow 0}\\frac{\\sum Q_k\\mathbf{d}_k}{\\Delta v}\n",
    "$$\n",
    "\n",
    "Supondo o dielétrico formado por pequenos dipolos."
   ]
  },
  {
   "attachments": {},
   "cell_type": "markdown",
   "id": "48540773",
   "metadata": {},
   "source": [
    "Densidade superficial de polarização\n",
    "$$\n",
    "\\rho_{ps} = \\mathbf{P\\cdot}\\mathbf{a}_n\\\\\n",
    "$$\n",
    "$\\mathbf{a}_n$ é o vetor normal à superfície do dielétrico. "
   ]
  },
  {
   "attachments": {},
   "cell_type": "markdown",
   "id": "56a6a46e",
   "metadata": {},
   "source": [
    "Densidade volumétrica de polarização\n",
    "$$\n",
    "\\rho_{pv} = -\\div{P}\n",
    "$$"
   ]
  },
  {
   "attachments": {},
   "cell_type": "markdown",
   "id": "bb4e3da1",
   "metadata": {},
   "source": [
    "Densidade de fluxo no dielétrico:\n",
    "$$\n",
    "\\mathbf{D} = \\epsilon_0\\mathbf{E} + \\mathbf{{P}}\n",
    "$$\n",
    "\n",
    "O dielétrico produz um aumento do campo líquido no interior, devido à polarização. "
   ]
  },
  {
   "attachments": {},
   "cell_type": "markdown",
   "id": "efe82183",
   "metadata": {},
   "source": [
    "Dielétrico linear:\n",
    "$$\n",
    "\\mathbf{P} = \\chi_0\\,\\epsilon_0\\,\\mathbf{E}\n",
    "$$\n",
    "\n",
    "$\\chi_0$ é chamada *suscetibilidade elétrica*. Mede o quanto o dielétrico é sensível ao campo elétrico. "
   ]
  }
 ],
 "metadata": {
  "kernelspec": {
   "display_name": "Python 3 (ipykernel)",
   "language": "python",
   "name": "python3"
  },
  "language_info": {
   "codemirror_mode": {
    "name": "ipython",
    "version": 3
   },
   "file_extension": ".py",
   "mimetype": "text/x-python",
   "name": "python",
   "nbconvert_exporter": "python",
   "pygments_lexer": "ipython3",
   "version": "3.11.1"
  }
 },
 "nbformat": 4,
 "nbformat_minor": 5
}
