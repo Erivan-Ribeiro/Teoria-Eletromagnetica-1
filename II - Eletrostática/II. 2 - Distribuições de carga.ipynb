{
 "cells": [
  {
   "attachments": {},
   "cell_type": "markdown",
   "id": "3a85463a",
   "metadata": {
    "tags": []
   },
   "source": [
    "$\\newcommand{\\ax}{\\mathbf{a}_x}$\n",
    "$\\newcommand{\\ay}{\\mathbf{a}_y}$\n",
    "$\\newcommand{\\az}{\\mathbf{a}_z}$\n",
    "$\\newcommand{\\arho}{\\mathbf{a}_\\rho}$\n",
    "$\\newcommand{\\ap}{\\mathbf{a}_\\phi}$\n",
    "$\\newcommand{\\ar}{\\mathbf{a}_r}$\n",
    "$\\newcommand{\\at}{\\mathbf{a}_\\theta}$\n",
    "$\\newcommand{\\grad}[1]{\\nabla #1}$\n",
    "$\\renewcommand{\\div}[1]{\\mathbf{\\nabla} \\cdot \\mathbf{#1}}$\n",
    "$\\newcommand{\\rot}[1]{\\mathbf{\\nabla} \\times \\mathbf{#1}}$\n",
    "$\\newcommand{\\parcial}[2]{\\displaystyle\\frac{\\partial #1}{\\partial #2}}$\n",
    "$\\newcommand{\\pard}[2]{\\displaystyle\\frac{\\partial^2 {#1}}{\\partial {#2}^2}}$\n",
    "$\\newcommand{\\lapcart}[1]{\\pard{#1}{x}+\\pard{#1}{y}+\\pard{#1}{z}}$\n",
    "$\\newcommand{\\lapcili}[1]{\\frac{1}{\\rho}\\parcial{}{\\rho}\\left(\\rho \\parcial{#1}{\\rho}\\right)+\\frac{1}{\\rho^2}\\pard{#1}{\\phi}+\\pard{#1}{z}}$\n",
    "$\\newcommand{\\lapesf}[1]{\\frac{1}{r^2}\\parcial{}{r}\\left(r^2 \\parcial{#1}{r}\\right)+\\frac{1}{r^2\\sin \\theta }\\left(\\sin \\theta \\, \\parcial{#1}{\\theta}\\right)+\\frac{1}{r^2\\sin \\theta}\\pard{V}{\\phi}}$\n",
    "\n"
   ]
  },
  {
   "attachments": {},
   "cell_type": "markdown",
   "id": "b25518e0",
   "metadata": {},
   "source": [
    "# Campos gerados por distribuições de carga"
   ]
  },
  {
   "attachments": {},
   "cell_type": "markdown",
   "id": "abd4df78",
   "metadata": {},
   "source": [
    "## Distribuições contínuas de carga\n",
    "\n",
    "Linear. Densidade $\\rho_L$, carga/comprimento.\n",
    "\n",
    "Superficial. Densidade $\\rho_S$, carga/área.\n",
    "\n",
    "Volumétrica. Densidade $\\rho_V$, carga/volume."
   ]
  },
  {
   "attachments": {},
   "cell_type": "markdown",
   "id": "b0677c6d",
   "metadata": {},
   "source": [
    "## Elemento de carga\n",
    "\n",
    "Trabalha como se fosse um ponto de carga na distribuição considerada. Além disso, se somarmos todos os elementos ao longo da geometria (linha, área ou volume), o resultado é a carga total dela. Por exemplo, para uma distribuição linear:\n",
    "$$\n",
    "\\begin{align}\n",
    "    dQ = \\rho_L \\, dl \\Rightarrow Q = \\int_L \\rho_L dl\n",
    "\\end{align}\n",
    "$$\n"
   ]
  },
  {
   "attachments": {},
   "cell_type": "markdown",
   "id": "a72ac356",
   "metadata": {},
   "source": [
    "## Contribuição do elemento e campo total\n",
    "\n",
    "Contribuição é calculada como se o elemento fosse uma carga pontual e o campo total pela soma de todas as contribuições (integral) da geometria. \n",
    "$$\n",
    "\\begin{align}\n",
    "    \\mathbf{E} &= \\int_{L} \\frac{dQ}{4\\pi \\epsilon_0 R^2}\\mathbf{a}_R\n",
    "\\end{align}\n",
    "$$\n",
    "\n",
    "Assim, se o problema é de distribuição linear ou superficial, use o $dQ$ correspondente. A parte complicada é descrever como o vetor $\\mathbf{R}$ de um ponto arbitrário do espaço varia em relação aos elementos de carga $dQ$. "
   ]
  },
  {
   "cell_type": "code",
   "execution_count": 18,
   "id": "dc9e0d6a",
   "metadata": {},
   "outputs": [],
   "source": [
    "import sympy as sp\n",
    "from IPython.display import display, Math"
   ]
  },
  {
   "attachments": {},
   "cell_type": "markdown",
   "id": "571d7ab7",
   "metadata": {},
   "source": [
    "Vamos resolver primeiro o problema da linha de carga. Considere um condutor carregado com densidade linear $\\rho_L$. O condutor está posicionado ao longo do eixo $z$. A extremidade inferior está no ponto $z=A$ e a superior em $z=B$. Desejamos determinar o campo elétrico provocado por esse condutor em um ponto arbitrário no espaço. Vamos resolver usando simbólico. "
   ]
  },
  {
   "cell_type": "code",
   "execution_count": 19,
   "id": "11cc8fc2",
   "metadata": {},
   "outputs": [],
   "source": [
    "# Definindo símbolos\n",
    "# Primeiro as coordenadas do ponto e do elemento de carga\n",
    "x,y,z,z0 = sp.symbols(['x','y','z','z_0'], nonzero=True)\n",
    "# Constantes do problema\n",
    "rL, eps0 = sp.symbols(['\\\\rho_L','\\\\epsilon_0'])\n",
    "# Extremidades da liha\n",
    "A,B = sp.symbols(['A', 'B'])"
   ]
  },
  {
   "cell_type": "code",
   "execution_count": 20,
   "id": "3bdb6b9d",
   "metadata": {},
   "outputs": [],
   "source": [
    "# Ponto arbitrário no espaço\n",
    "P = sp.ImmutableDenseMatrix([x,y,z])\n",
    "# Posição do elemento de carga\n",
    "X = sp.ImmutableDenseMatrix([0,0,z0])\n",
    "# Vetor deslocamento\n",
    "R = P-X"
   ]
  },
  {
   "cell_type": "code",
   "execution_count": 21,
   "id": "476bad50",
   "metadata": {},
   "outputs": [
    {
     "data": {
      "text/latex": [
       "$\\displaystyle \\mathbf{E} = \\int\\limits_{A}^{B} \\left[\\begin{matrix}\\frac{\\rho_{L} x}{4 \\pi \\epsilon_{0} \\left(x^{2} + y^{2} + \\left(z - z_{0}\\right)^{2}\\right)^{\\frac{3}{2}}}\\\\\\frac{\\rho_{L} y}{4 \\pi \\epsilon_{0} \\left(x^{2} + y^{2} + \\left(z - z_{0}\\right)^{2}\\right)^{\\frac{3}{2}}}\\\\\\frac{\\rho_{L} \\left(z - z_{0}\\right)}{4 \\pi \\epsilon_{0} \\left(x^{2} + y^{2} + \\left(z - z_{0}\\right)^{2}\\right)^{\\frac{3}{2}}}\\end{matrix}\\right]\\, dz_{0}$"
      ],
      "text/plain": [
       "<IPython.core.display.Math object>"
      ]
     },
     "metadata": {},
     "output_type": "display_data"
    },
    {
     "data": {
      "text/latex": [
       "$\\displaystyle = \\left[\\begin{matrix}\\frac{\\rho_{L} x \\left|{B - z}\\right|}{4 \\pi \\epsilon_{0} \\left(x^{2} \\sqrt{x^{2} + y^{2} + \\left(B - z\\right)^{2}} + y^{2} \\sqrt{x^{2} + y^{2} + \\left(B - z\\right)^{2}}\\right)} - \\frac{\\rho_{L} x \\left|{A - z}\\right|}{4 \\pi \\epsilon_{0} \\left(x^{2} \\sqrt{x^{2} + y^{2} + \\left(A - z\\right)^{2}} + y^{2} \\sqrt{x^{2} + y^{2} + \\left(A - z\\right)^{2}}\\right)}\\\\\\frac{\\rho_{L} y \\left|{B - z}\\right|}{4 \\pi \\epsilon_{0} \\left(x^{2} \\sqrt{x^{2} + y^{2} + \\left(B - z\\right)^{2}} + y^{2} \\sqrt{x^{2} + y^{2} + \\left(B - z\\right)^{2}}\\right)} - \\frac{\\rho_{L} y \\left|{A - z}\\right|}{4 \\pi \\epsilon_{0} \\left(x^{2} \\sqrt{x^{2} + y^{2} + \\left(A - z\\right)^{2}} + y^{2} \\sqrt{x^{2} + y^{2} + \\left(A - z\\right)^{2}}\\right)}\\\\\\frac{\\rho_{L}}{4 \\pi \\epsilon_{0} \\sqrt{B^{2} - 2 B z + x^{2} + y^{2} + z^{2}}} - \\frac{\\rho_{L}}{4 \\pi \\epsilon_{0} \\sqrt{A^{2} - 2 A z + x^{2} + y^{2} + z^{2}}}\\end{matrix}\\right]$"
      ],
      "text/plain": [
       "<IPython.core.display.Math object>"
      ]
     },
     "metadata": {},
     "output_type": "display_data"
    }
   ],
   "source": [
    "# Construindo a integral\n",
    "E = sp.Integral(rL*R/(4*sp.pi*eps0*R.norm()**3),(z0,A,B))\n",
    "display(Math('\\mathbf{E} = '+ sp.latex(E)))\n",
    "# Agora resolve\n",
    "display(Math('= ' +  sp.latex(E.doit())))"
   ]
  },
  {
   "cell_type": "code",
   "execution_count": 22,
   "id": "3e143b9f",
   "metadata": {},
   "outputs": [
    {
     "data": {
      "text/latex": [
       "$\\displaystyle \\left[\\begin{matrix}\\frac{\\rho_{L} \\left|{B - z}\\right|}{4 \\pi \\epsilon_{0} \\rho \\sqrt{B^{2} - 2 B z + \\rho^{2} + z^{2}}} - \\frac{\\rho_{L} \\left|{A - z}\\right|}{4 \\pi \\epsilon_{0} \\rho \\sqrt{A^{2} - 2 A z + \\rho^{2} + z^{2}}}\\\\0\\\\\\frac{\\rho_{L}}{4 \\pi \\epsilon_{0} \\sqrt{B^{2} - 2 B z + \\rho^{2} + z^{2}}} - \\frac{\\rho_{L}}{4 \\pi \\epsilon_{0} \\sqrt{A^{2} - 2 A z + \\rho^{2} + z^{2}}}\\end{matrix}\\right]$"
      ],
      "text/plain": [
       "<IPython.core.display.Math object>"
      ]
     },
     "metadata": {},
     "output_type": "display_data"
    }
   ],
   "source": [
    "# Converte para coordenadas cilíndricas\n",
    "# Coordenadas cilíndricas\n",
    "rho = sp.symbols('\\\\rho', positive=True)\n",
    "phi = sp.symbols('\\\\phi', real=True)\n",
    "# Transformações de coordenadas cilíndricas\n",
    "coord_cili = [(x,rho*sp.cos(phi)),(y,rho*sp.sin(phi))]\n",
    "# Matriz de transformação\n",
    "ret2cil = sp.ImmutableDenseMatrix([[sp.cos(phi), sp.sin(phi),0],[-sp.sin(phi), sp.cos(phi),0],[0,0,1]])\n",
    "# Converte\n",
    "Ecil = ret2cil@E.doit().subs(coord_cili)\n",
    "Ecil = Ecil.simplify()\n",
    "display(Math(sp.latex(Ecil)))"
   ]
  },
  {
   "attachments": {},
   "cell_type": "markdown",
   "id": "9d406440",
   "metadata": {},
   "source": [
    "## Linha infinita\n",
    "\n",
    "As expressões anteriores podem ser simplificadas em alguns casos especiais. Por exemplo, se quisermos analisar o campo bem próximo da linha, a impressão que vamos ter é que o comprimento da linha $B-A$ é muito grande. Em termos matemáticos é como se a linha fosse \"infinita\". Neste caso, podemos tentar simplificar as expressões fazendo $A\\rightarrow -\\infty$ e $B\\rightarrow \\infty$. O resultado é:"
   ]
  },
  {
   "cell_type": "code",
   "execution_count": 23,
   "id": "41a5a686",
   "metadata": {},
   "outputs": [
    {
     "data": {
      "text/latex": [
       "$\\displaystyle \\mathbf{E} = \\int\\limits_{-\\infty}^{\\infty} \\left[\\begin{matrix}\\frac{\\rho_{L} x}{4 \\pi \\epsilon_{0} \\left(x^{2} + y^{2} + \\left(z - z_{0}\\right)^{2}\\right)^{\\frac{3}{2}}}\\\\\\frac{\\rho_{L} y}{4 \\pi \\epsilon_{0} \\left(x^{2} + y^{2} + \\left(z - z_{0}\\right)^{2}\\right)^{\\frac{3}{2}}}\\\\\\frac{\\rho_{L} \\left(z - z_{0}\\right)}{4 \\pi \\epsilon_{0} \\left(x^{2} + y^{2} + \\left(z - z_{0}\\right)^{2}\\right)^{\\frac{3}{2}}}\\end{matrix}\\right]\\, dz_{0} = \\left[\\begin{matrix}\\frac{\\rho_{L} x}{2 \\pi \\epsilon_{0} \\left(x^{2} + y^{2}\\right)}\\\\\\frac{\\rho_{L} y}{2 \\pi \\epsilon_{0} \\left(x^{2} + y^{2}\\right)}\\\\0\\end{matrix}\\right]$"
      ],
      "text/plain": [
       "<IPython.core.display.Math object>"
      ]
     },
     "metadata": {},
     "output_type": "display_data"
    }
   ],
   "source": [
    "# Resolvendo novamente, mas agora com limites infinitos\n",
    "A = -sp.oo\n",
    "B = sp.oo\n",
    "Einf = sp.Integral(rL*R/(4*sp.pi*eps0*R.norm()**3),(z0,A,B))\n",
    "display(Math(r'\\mathbf{E} = ' + \n",
    "             sp.latex(Einf) + ' = ' \n",
    "             + sp.latex(Einf.doit())))"
   ]
  },
  {
   "cell_type": "code",
   "execution_count": 24,
   "id": "151f543f",
   "metadata": {},
   "outputs": [
    {
     "data": {
      "text/latex": [
       "$\\displaystyle \\mathbf{E} = \\left[\\begin{matrix}\\frac{\\rho \\rho_{L} \\sin^{2}{\\left(\\phi \\right)}}{2 \\pi \\epsilon_{0} \\left(\\rho^{2} \\sin^{2}{\\left(\\phi \\right)} + \\rho^{2} \\cos^{2}{\\left(\\phi \\right)}\\right)} + \\frac{\\rho \\rho_{L} \\cos^{2}{\\left(\\phi \\right)}}{2 \\pi \\epsilon_{0} \\left(\\rho^{2} \\sin^{2}{\\left(\\phi \\right)} + \\rho^{2} \\cos^{2}{\\left(\\phi \\right)}\\right)}\\\\0\\\\0\\end{matrix}\\right] = \\left[\\begin{matrix}\\frac{\\rho_{L}}{2 \\pi \\epsilon_{0} \\rho}\\\\0\\\\0\\end{matrix}\\right]$"
      ],
      "text/plain": [
       "<IPython.core.display.Math object>"
      ]
     },
     "metadata": {},
     "output_type": "display_data"
    }
   ],
   "source": [
    "# Convertendo agora para coordenadas cilíndricas\n",
    "E_inf_cil = ret2cil@Einf.doit().subs(coord_cili)\n",
    "display(Math(r'\\mathbf{E} = ' + \n",
    "             sp.latex(E_inf_cil) + \n",
    "             ' = ' + sp.latex(E_inf_cil.simplify())))"
   ]
  },
  {
   "cell_type": "code",
   "execution_count": 25,
   "id": "ecfd8818",
   "metadata": {},
   "outputs": [],
   "source": [
    "# Plotagem\n",
    "import numpy as np\n",
    "from matplotlib import pyplot as plt\n",
    "\n",
    "a = np.arange(-2,2,.21)\n",
    "a = a[a!=0]\n",
    "X, Y = np.meshgrid(a,a)"
   ]
  },
  {
   "cell_type": "code",
   "execution_count": 26,
   "id": "c6131a8b",
   "metadata": {},
   "outputs": [
    {
     "data": {
      "image/png": "[encoded data removed]",
      "text/plain": [
       "<Figure size 640x480 with 1 Axes>"
      ]
     },
     "metadata": {},
     "output_type": "display_data"
    }
   ],
   "source": [
    "Efun = Einf.doit()\n",
    "Efun = Efun.subs([(eps0,1e-9/(36.*np.pi)),(rL,1.e-10)]).evalf()\n",
    "Ex = sp.lambdify([x,y], Efun[0])\n",
    "Ey = sp.lambdify([x,y], Efun[1])\n",
    "Ez = sp.lambdify([x,y], Efun[2])\n",
    "\n",
    "#ax = plt.figure().add_subplot(projection='3d')\n",
    "#ax.quiver(X,Y,Z,Ex(X,Y),Ey(X,Y),Ez(X,Y))\n",
    "#plt.show()\n",
    "plt.quiver(X,Y,Ex(X,Y),Ey(X,Y));"
   ]
  },
  {
   "attachments": {},
   "cell_type": "markdown",
   "id": "348a8dc0",
   "metadata": {},
   "source": [
    "## Placa circular"
   ]
  },
  {
   "attachments": {},
   "cell_type": "markdown",
   "id": "548d6436",
   "metadata": {},
   "source": [
    "Nesse problema queremos o fluxo/campo produzido por uma placa circular de determinado raio $r$, carregada com uma densidade $q_s$. O campo deve ser calculado apenas em um ponto a uma distância $h$ da placa, ao longo de uma linha perpendicular e passando pelo centro da placa. \n",
    "\n",
    "<center> <img src='placa-circular.svg'> </center>"
   ]
  },
  {
   "cell_type": "code",
   "execution_count": 33,
   "id": "50da8dfe",
   "metadata": {},
   "outputs": [],
   "source": [
    "# Vetores do problema\n",
    "h = sp.symbols('h', positive=True)\n",
    "qs = sp.symbols('q_s')\n",
    "# Ponto acima da placa\n",
    "P = sp.ImmutableDenseMatrix([0,0,h])"
   ]
  },
  {
   "cell_type": "code",
   "execution_count": 35,
   "id": "9d30b5fb",
   "metadata": {},
   "outputs": [
    {
     "name": "stdout",
     "output_type": "stream",
     "text": [
      "Vetor deslocamento: \n"
     ]
    },
    {
     "data": {
      "text/latex": [
       "$\\displaystyle \\mathbf{R} = \\left[\\begin{matrix}0\\\\0\\\\h\\end{matrix}\\right]-\\left[\\begin{matrix}x\\\\y\\\\0\\end{matrix}\\right]=\\left[\\begin{matrix}- x\\\\- y\\\\h\\end{matrix}\\right]$"
      ],
      "text/plain": [
       "<IPython.core.display.Math object>"
      ]
     },
     "metadata": {},
     "output_type": "display_data"
    }
   ],
   "source": [
    "#\n",
    "Q = sp.ImmutableDenseMatrix([x,y,0])\n",
    "\n",
    "# Vetor deslocamento\n",
    "R = P-Q\n",
    "print('Vetor deslocamento: ')\n",
    "display(Math(r'\\mathbf{R} = ' + sp.latex(P) + '-' + sp.latex(Q) + '=' + sp.latex(R)))"
   ]
  },
  {
   "attachments": {},
   "cell_type": "markdown",
   "id": "cee932d4",
   "metadata": {},
   "source": [
    "Uma observação importante neste ponto. O vetor posição possui uma simetria de quadrante. Pegue dois pontos diametralmente opostos no disco, isto é, com coordenadas $x$ e $y$ de sinais opostos. \n",
    "$$ \\begin{align}\n",
    "\\mathbf{R}_1 &= \\left[-x,\\, -y,\\, h\\right]^T\\\\\n",
    "\\mathbf{R}_2 &= \\left[-(-x),\\, -(-y),\\, h\\right]^T\n",
    "\\end{align}\n",
    "$$\n",
    "\n",
    "Observe que as duas primeiras componentes desses vetores são opostas, de modo que se somarmos quais dois vetores simétricos, as duas primeiras componentes sempre se anularão. Isso vale para qualquer quadrante do disco.\n",
    "\n",
    "<center> <img src='simetria-disco.svg'> </center>\n",
    "\n",
    "Lembre que integrar os elementos é basicamente somar todos os elementos possíveis.\n",
    "\n",
    "As componentes do vetor de campo são a soma das componentes do vetor deslocamento. Assim, podemos concluir que o campo terá apenas a componente na direção $z$. "
   ]
  },
  {
   "cell_type": "code",
   "execution_count": 36,
   "id": "005a9642",
   "metadata": {},
   "outputs": [
    {
     "name": "stdout",
     "output_type": "stream",
     "text": [
      "Transforma o vetor para componentes cilíndricas: \n"
     ]
    },
    {
     "data": {
      "text/latex": [
       "$\\displaystyle \\mathbf{R} = \\left[\\begin{matrix}\\cos{\\left(\\phi \\right)} & \\sin{\\left(\\phi \\right)} & 0\\\\- \\sin{\\left(\\phi \\right)} & \\cos{\\left(\\phi \\right)} & 0\\\\0 & 0 & 1\\end{matrix}\\right]\\left[\\begin{matrix}- x\\\\- y\\\\h\\end{matrix}\\right]=\\left[\\begin{matrix}- x \\cos{\\left(\\phi \\right)} - y \\sin{\\left(\\phi \\right)}\\\\x \\sin{\\left(\\phi \\right)} - y \\cos{\\left(\\phi \\right)}\\\\h\\end{matrix}\\right]$"
      ],
      "text/plain": [
       "<IPython.core.display.Math object>"
      ]
     },
     "metadata": {},
     "output_type": "display_data"
    },
    {
     "name": "stdout",
     "output_type": "stream",
     "text": [
      "Converte as coordenadas das componentes para sistema cilíndrico\n"
     ]
    },
    {
     "data": {
      "text/latex": [
       "$\\displaystyle \\mathbf{R} = \\left[\\begin{matrix}- \\rho \\sin^{2}{\\left(\\phi \\right)} - \\rho \\cos^{2}{\\left(\\phi \\right)}\\\\0\\\\h\\end{matrix}\\right]$"
      ],
      "text/plain": [
       "<IPython.core.display.Math object>"
      ]
     },
     "metadata": {},
     "output_type": "display_data"
    },
    {
     "name": "stdout",
     "output_type": "stream",
     "text": [
      "Simplifica: \n"
     ]
    },
    {
     "data": {
      "text/latex": [
       "$\\displaystyle \\mathbf{R} = \\left[\\begin{matrix}- \\rho\\\\0\\\\h\\end{matrix}\\right]$"
      ],
      "text/plain": [
       "<IPython.core.display.Math object>"
      ]
     },
     "metadata": {},
     "output_type": "display_data"
    }
   ],
   "source": [
    "# Transforma o vetor para componentes cilíndricas\n",
    "print('Transforma o vetor para componentes cilíndricas: ')\n",
    "display(Math(r'\\mathbf{R} = ' + sp.latex(ret2cil) + sp.latex(R) + '=' + sp.latex(ret2cil@R)))\n",
    "R = ret2cil@R\n",
    "\n",
    "# Converte as coordenadas das componentes para sistema cilíndrico\n",
    "print('Converte as coordenadas das componentes para sistema cilíndrico')\n",
    "display(Math(r'\\mathbf{R} = ' + sp.latex(R.subs(coord_cili))))\n",
    "R = R.subs(coord_cili)\n",
    "\n",
    "# Simplifica\n",
    "print('Simplifica: ')\n",
    "display(Math(r'\\mathbf{R} = ' + sp.latex(R.simplify())))\n",
    "R = R.simplify()"
   ]
  },
  {
   "attachments": {},
   "cell_type": "markdown",
   "id": "10a2f1b9",
   "metadata": {},
   "source": [
    "O elemento de campo vai ser: \n",
    "$$d\\mathbf{E} = \\frac{dQ\\,\\mathbf{R}}{4\\pi \\epsilon_0|\\mathbf{R}|^3}$$"
   ]
  },
  {
   "cell_type": "code",
   "execution_count": 32,
   "id": "9ff0517f",
   "metadata": {},
   "outputs": [
    {
     "data": {
      "text/latex": [
       "$\\displaystyle d\\mathbf{E} = \\frac{dQ\\,\\left[\\begin{matrix}- \\rho\\\\0\\\\h\\end{matrix}\\right]}{4\\pi \\epsilon_0\\,\\left(\\rho^{2} + h^{2}\\right)^{\\frac{3}{2}}}$"
      ],
      "text/plain": [
       "<IPython.core.display.Math object>"
      ]
     },
     "metadata": {},
     "output_type": "display_data"
    }
   ],
   "source": [
    "#\n",
    "display(Math(r'd\\mathbf{E} = \\frac{dQ\\,' + \n",
    "             sp.latex(R) + r'}{4\\pi \\epsilon_0\\,' +\n",
    "             sp.latex(R.norm()**3) + '}'  ))"
   ]
  },
  {
   "attachments": {},
   "cell_type": "markdown",
   "id": "535ba1fe",
   "metadata": {},
   "source": [
    "Nosso elemento de carga é cilíndrico, posicionado sobre o disco: \n",
    "$$dQ = q_s\\,dS = q_s\\,\\rho\\, d\\rho\\, d\\phi$$"
   ]
  },
  {
   "cell_type": "code",
   "execution_count": 39,
   "id": "8c0f4111",
   "metadata": {},
   "outputs": [
    {
     "data": {
      "text/latex": [
       "$\\displaystyle \\mathbf{E} = \\int\\limits_{0}^{2 \\pi}\\int\\limits_{0}^{r} \\left[\\begin{matrix}- \\frac{\\rho^{2} q_{s}}{4 \\pi \\epsilon_{0} \\left(\\rho^{2} + h^{2}\\right)^{\\frac{3}{2}}}\\\\0\\\\\\frac{\\rho h q_{s}}{4 \\pi \\epsilon_{0} \\left(\\rho^{2} + h^{2}\\right)^{\\frac{3}{2}}}\\end{matrix}\\right]\\, d\\rho\\, d\\phi$"
      ],
      "text/plain": [
       "<IPython.core.display.Math object>"
      ]
     },
     "metadata": {},
     "output_type": "display_data"
    }
   ],
   "source": [
    "# Integral do campo\n",
    "r = sp.symbols('r',positive=True)\n",
    "E = sp.Integral(sp.Integral(qs*R*rho/(4*sp.pi*eps0*R.norm()**3)\n",
    "                            ,(rho,0,r)),(phi,0,2*sp.pi))\n",
    "display(Math(r'\\mathbf{E} = '+ sp.latex(E)))"
   ]
  },
  {
   "attachments": {},
   "cell_type": "markdown",
   "id": "218e704c",
   "metadata": {},
   "source": [
    "Agora... a primeira componente é realmente difícil de resolver. Você pode tentar, mas o sympy vai demorar muito tempo e não vai devolver uma resposta. Felizmente, sabemos que a primeira componente vai se anular, graças às condições de simetria do problema. Então, vamos nos preocupar apenas com a componente $z$. "
   ]
  },
  {
   "cell_type": "code",
   "execution_count": 43,
   "id": "4a9b0a7e",
   "metadata": {},
   "outputs": [
    {
     "data": {
      "text/latex": [
       "$\\displaystyle E_z = \\int\\limits_{0}^{2 \\pi}\\int\\limits_{0}^{r} \\frac{\\rho h q_{s}}{4 \\pi \\epsilon_{0} \\left(\\rho^{2} + h^{2}\\right)^{\\frac{3}{2}}}\\, d\\rho\\, d\\phi$"
      ],
      "text/plain": [
       "<IPython.core.display.Math object>"
      ]
     },
     "metadata": {},
     "output_type": "display_data"
    }
   ],
   "source": [
    "# Extrai apenas a componente z\n",
    "Ez = sp.Integral(sp.Integral(qs*R[2]*rho/(4*sp.pi*eps0*R.norm()**3),\n",
    "                             (rho,0,r)),(phi,0,2*sp.pi))\n",
    "display(Math('E_z = ' + sp.latex(Ez)))"
   ]
  },
  {
   "cell_type": "code",
   "execution_count": 45,
   "id": "6346a1c4",
   "metadata": {},
   "outputs": [
    {
     "data": {
      "text/latex": [
       "$\\displaystyle E_z = 2 \\pi \\left(- \\frac{h q_{s}}{4 \\pi \\epsilon_{0} \\sqrt{h^{2} + r^{2}}} + \\frac{q_{s}}{4 \\pi \\epsilon_{0}}\\right)$"
      ],
      "text/plain": [
       "<IPython.core.display.Math object>"
      ]
     },
     "metadata": {},
     "output_type": "display_data"
    },
    {
     "data": {
      "text/latex": [
       "$\\displaystyle E_z = - \\frac{h q_{s}}{2 \\epsilon_{0} \\sqrt{h^{2} + r^{2}}} + \\frac{q_{s}}{2 \\epsilon_{0}}$"
      ],
      "text/plain": [
       "<IPython.core.display.Math object>"
      ]
     },
     "metadata": {},
     "output_type": "display_data"
    }
   ],
   "source": [
    "# Resolve a integral\n",
    "display(Math('E_z = ' + sp.latex(Ez.doit())))\n",
    "display(Math('E_z = ' + sp.latex(Ez.doit().simplify())))"
   ]
  },
  {
   "attachments": {},
   "cell_type": "markdown",
   "id": "9f7a1e22",
   "metadata": {},
   "source": [
    "Suponha que $q_s = 2\\epsilon_0$ e $r = 1$. Vamos plotar essa função e estudar seu comportamento. "
   ]
  },
  {
   "cell_type": "code",
   "execution_count": 53,
   "id": "ab17813d",
   "metadata": {},
   "outputs": [
    {
     "data": {
      "image/png": "[encoded data removed]",
      "text/plain": [
       "<Figure size 640x480 with 1 Axes>"
      ]
     },
     "metadata": {},
     "output_type": "display_data"
    }
   ],
   "source": [
    "# Plotagem da componente z do campo\n",
    "from sympy.plotting import plot\n",
    "campo = Ez.doit().simplify().subs({qs: 2*eps0, r:1})\n",
    "plot(campo, xlim=[0,4],ylim=[0,1]);\n"
   ]
  },
  {
   "attachments": {},
   "cell_type": "markdown",
   "id": "00339fb1",
   "metadata": {},
   "source": [
    "Outro resultado interessante é se fizermos $r\\rightarrow \\infty$. Isso é equivalente ao problema da placa infinita. Na prática queremos dizer que a distância $h$ é pequena em relação ao raio da placa."
   ]
  },
  {
   "cell_type": "code",
   "execution_count": 55,
   "id": "fda62cc8",
   "metadata": {},
   "outputs": [
    {
     "data": {
      "text/latex": [
       "$\\displaystyle E_z = \\frac{q_{s}}{2 \\epsilon_{0}}$"
      ],
      "text/plain": [
       "<IPython.core.display.Math object>"
      ]
     },
     "metadata": {},
     "output_type": "display_data"
    }
   ],
   "source": [
    "# Campo produzido por placa infinita:\n",
    "Ez_inf = sp.limit(Ez.doit().simplify(), r,sp.oo)\n",
    "display(Math('E_z = ' + sp.latex(Ez_inf)))"
   ]
  },
  {
   "attachments": {},
   "cell_type": "markdown",
   "id": "988d704c",
   "metadata": {},
   "source": [
    "Perceba que o campo é uniforme. "
   ]
  }
 ],
 "metadata": {
  "kernelspec": {
   "display_name": "Python 3 (ipykernel)",
   "language": "python",
   "name": "python3"
  },
  "language_info": {
   "codemirror_mode": {
    "name": "ipython",
    "version": 3
   },
   "file_extension": ".py",
   "mimetype": "text/x-python",
   "name": "python",
   "nbconvert_exporter": "python",
   "pygments_lexer": "ipython3",
   "version": "3.11.1"
  }
 },
 "nbformat": 4,
 "nbformat_minor": 5
}
