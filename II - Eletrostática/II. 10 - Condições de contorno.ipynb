{
 "cells": [
  {
   "attachments": {},
   "cell_type": "markdown",
   "id": "3a85463a",
   "metadata": {
    "tags": []
   },
   "source": [
    "$\\newcommand{\\ax}{\\mathbf{a}_x}$\n",
    "$\\newcommand{\\ay}{\\mathbf{a}_y}$\n",
    "$\\newcommand{\\az}{\\mathbf{a}_z}$\n",
    "$\\newcommand{\\arho}{\\mathbf{a}_\\rho}$\n",
    "$\\newcommand{\\ap}{\\mathbf{a}_\\phi}$\n",
    "$\\newcommand{\\ar}{\\mathbf{a}_r}$\n",
    "$\\newcommand{\\at}{\\mathbf{a}_\\theta}$\n",
    "$\\newcommand{\\grad}[1]{\\nabla #1}$\n",
    "$\\renewcommand{\\div}[1]{\\mathbf{\\nabla} \\cdot \\mathbf{#1}}$\n",
    "$\\newcommand{\\rot}[1]{\\mathbf{\\nabla} \\times \\mathbf{#1}}$\n",
    "$\\newcommand{\\parcial}[2]{\\displaystyle\\frac{\\partial #1}{\\partial #2}}$\n",
    "$\\newcommand{\\pard}[2]{\\displaystyle\\frac{\\partial^2 {#1}}{\\partial {#2}^2}}$\n",
    "$\\newcommand{\\lapcart}[1]{\\pard{#1}{x}+\\pard{#1}{y}+\\pard{#1}{z}}$\n",
    "$\\newcommand{\\lapcili}[1]{\\frac{1}{\\rho}\\parcial{}{\\rho}\\left(\\rho \\parcial{#1}{\\rho}\\right)+\\frac{1}{\\rho^2}\\pard{#1}{\\phi}+\\pard{#1}{z}}$\n",
    "$\\newcommand{\\lapesf}[1]{\\frac{1}{r^2}\\parcial{}{r}\\left(r^2 \\parcial{#1}{r}\\right)+\\frac{1}{r^2\\sin \\theta }\\left(\\sin \\theta \\, \\parcial{#1}{\\theta}\\right)+\\frac{1}{r^2\\sin \\theta}\\pard{V}{\\phi}}$\n",
    "\n"
   ]
  },
  {
   "attachments": {},
   "cell_type": "markdown",
   "id": "b25518e0",
   "metadata": {},
   "source": [
    "# Condições de contorno"
   ]
  },
  {
   "attachments": {},
   "cell_type": "markdown",
   "id": "3d3d4e98",
   "metadata": {},
   "source": [
    "Estas são equações que precisamos aplicar quando lidamos com problemas de um campo que atravessa diferentes meios no espaço.\n",
    "\n",
    "Os casos de interesse são quando campo atravessa interfaces:\n",
    "- Dielétrico para dielétrico\n",
    "- Condutor para dielétrico\n",
    "- Condutor para espaço livre"
   ]
  },
  {
   "attachments": {},
   "cell_type": "markdown",
   "id": "bd6894ac",
   "metadata": {},
   "source": [
    "Todas as expressões são deduzidas usando os resultados já conhecidos:\n",
    "$$\n",
    "\\begin{align*}\n",
    "\\oint \\mathbf{E\\cdot} d\\mathbf{l} &= 0\\\\\n",
    "\\oint \\mathbf{D\\cdot} d\\mathbf{S} &= Q_{env}\\\\\n",
    "\\mathbf{E} &= \\mathbf{E}_t+ \\mathbf{E}_n    \n",
    "\\end{align*}\n",
    "$$"
   ]
  },
  {
   "attachments": {},
   "cell_type": "markdown",
   "id": "cb988010",
   "metadata": {},
   "source": [
    "## **Dois dielétricos**"
   ]
  },
  {
   "attachments": {},
   "cell_type": "markdown",
   "id": "e2f83b9f",
   "metadata": {},
   "source": [
    "<center> <img src='./Figs/Fig5.10.svg'> </center>"
   ]
  },
  {
   "attachments": {},
   "cell_type": "markdown",
   "id": "28be5372",
   "metadata": {},
   "source": [
    "$$\n",
    "E_{1t} = E_{2t}\n",
    "$$\n",
    "\n",
    "$$\n",
    "D_{1n} - D_{2n} = \\rho_S\n",
    "$$\n",
    "supondo $\\mathbf{D}$ apontando da região 2 para a região 1. $\\rho_S$ é a densidade de cargas livres. "
   ]
  },
  {
   "attachments": {},
   "cell_type": "markdown",
   "id": "1bc58e43",
   "metadata": {},
   "source": [
    "### Quando não há cargas livres $\\rho_S=0$"
   ]
  },
  {
   "attachments": {},
   "cell_type": "markdown",
   "id": "1a2eb210",
   "metadata": {},
   "source": [
    "$$\n",
    "D_{1n} = D_{2n}\n",
    "$$\n",
    "\n",
    "O fluxo é contínuo de uma região para outra. Consequentemente:\n",
    "$$\n",
    "\\epsilon_1E_{1n} = \\epsilon_2E_{2n}\n",
    "$$"
   ]
  },
  {
   "attachments": {},
   "cell_type": "markdown",
   "id": "8d6c7719",
   "metadata": {},
   "source": [
    "### Refração de campo na fronteira"
   ]
  },
  {
   "attachments": {},
   "cell_type": "markdown",
   "id": "31817472",
   "metadata": {},
   "source": [
    "<center> <img src='./Figs/Fig5.11.svg'> </center>"
   ]
  },
  {
   "attachments": {},
   "cell_type": "markdown",
   "id": "b29f16a2",
   "metadata": {},
   "source": [
    "$$\n",
    "\\frac{\\tan \\theta_1}{\\tan \\theta_2} = \\frac{\\epsilon_{r1}}{\\epsilon_{r2}}\n",
    "$$\n",
    "\n",
    "Interpretação: as linhas de fluxo sofrem um desvio de direção ao atravessar uma fronteira entre dois meios diferentes, em razão da diferença do acúmulo de cargas entre os dielétricos. "
   ]
  },
  {
   "attachments": {},
   "cell_type": "markdown",
   "id": "d185ae9b",
   "metadata": {},
   "source": [
    "## **Condutor-Dielétrico**"
   ]
  },
  {
   "attachments": {},
   "cell_type": "markdown",
   "id": "15addf5c",
   "metadata": {},
   "source": [
    "<center> <img src='./Figs/Fig5.12.svg'> </center>"
   ]
  },
  {
   "attachments": {},
   "cell_type": "markdown",
   "id": "d3f7df7f",
   "metadata": {},
   "source": [
    "No interior do condutor não existe campo elétrico:\n",
    "$$\n",
    "\\rho_v = 0, \\quad \\quad \\mathbf{E=0}\n",
    "$$\n",
    "\n",
    "O condutor é um corpo equipotencial (não há diferença de potencial elétrico no condutor)"
   ]
  },
  {
   "attachments": {},
   "cell_type": "markdown",
   "id": "d02e35b4",
   "metadata": {},
   "source": [
    "O campo externo ao condutor é normal à sua superfície:\n",
    "$$\n",
    "D_t = 0\n",
    "$$\n",
    "e\n",
    "$$\n",
    "D_n = \\rho_S\n",
    "$$"
   ]
  },
  {
   "attachments": {},
   "cell_type": "markdown",
   "id": "fa6e3bcd",
   "metadata": {},
   "source": [
    "### Isolamento eletrostático"
   ]
  },
  {
   "attachments": {},
   "cell_type": "markdown",
   "id": "4f99eb2e",
   "metadata": {},
   "source": [
    "<center> <img src='./Figs/Fig5.13.svg'> </center>"
   ]
  },
  {
   "attachments": {},
   "cell_type": "markdown",
   "id": "d2dff098",
   "metadata": {},
   "source": [
    "Uso de condutores para blindar um corpo no seu interior. "
   ]
  },
  {
   "attachments": {},
   "cell_type": "markdown",
   "id": "2834f7fa",
   "metadata": {},
   "source": [
    "## **Condutor-espaço livre**"
   ]
  },
  {
   "attachments": {},
   "cell_type": "markdown",
   "id": "fbf63b27",
   "metadata": {},
   "source": [
    "<center> <img src='./Figs/Fig5.14.svg'> </center>"
   ]
  },
  {
   "attachments": {},
   "cell_type": "markdown",
   "id": "34926d0d",
   "metadata": {},
   "source": [
    "$$\n",
    "D_t = 0\n",
    "$$\n",
    "e\n",
    "$$\n",
    "D_n = \\rho_S\n",
    "$$"
   ]
  },
  {
   "attachments": {},
   "cell_type": "markdown",
   "id": "7f1d7a50",
   "metadata": {},
   "source": [
    "<center> <img src='./Figs/Ex5.9.svg'> </center>"
   ]
  },
  {
   "cell_type": "code",
   "execution_count": null,
   "id": "f7461979",
   "metadata": {},
   "outputs": [],
   "source": []
  },
  {
   "attachments": {},
   "cell_type": "markdown",
   "id": "81d142a1",
   "metadata": {},
   "source": [
    "<center> <img src='./Figs/Pratico5.9.svg'> </center>"
   ]
  },
  {
   "attachments": {},
   "cell_type": "markdown",
   "id": "c1bc1d71",
   "metadata": {},
   "source": [
    "<center> <img src='./Figs/Ex5.10.svg'> </center>"
   ]
  },
  {
   "cell_type": "code",
   "execution_count": null,
   "id": "40ffe21b",
   "metadata": {},
   "outputs": [],
   "source": []
  },
  {
   "attachments": {},
   "cell_type": "markdown",
   "id": "77f4c9ef",
   "metadata": {},
   "source": [
    "<center> <img src='./Figs/Pratico5.10.svg'> </center>"
   ]
  }
 ],
 "metadata": {
  "kernelspec": {
   "display_name": "Python 3 (ipykernel)",
   "language": "python",
   "name": "python3"
  },
  "language_info": {
   "codemirror_mode": {
    "name": "ipython",
    "version": 3
   },
   "file_extension": ".py",
   "mimetype": "text/x-python",
   "name": "python",
   "nbconvert_exporter": "python",
   "pygments_lexer": "ipython3",
   "version": "3.11.1"
  }
 },
 "nbformat": 4,
 "nbformat_minor": 5
}
