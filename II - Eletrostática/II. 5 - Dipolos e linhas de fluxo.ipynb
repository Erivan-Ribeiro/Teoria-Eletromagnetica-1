{
 "cells": [
  {
   "attachments": {},
   "cell_type": "markdown",
   "id": "3a85463a",
   "metadata": {
    "tags": []
   },
   "source": [
    "$\\newcommand{\\ax}{\\mathbf{a}_x}$\n",
    "$\\newcommand{\\ay}{\\mathbf{a}_y}$\n",
    "$\\newcommand{\\az}{\\mathbf{a}_z}$\n",
    "$\\newcommand{\\arho}{\\mathbf{a}_\\rho}$\n",
    "$\\newcommand{\\ap}{\\mathbf{a}_\\phi}$\n",
    "$\\newcommand{\\ar}{\\mathbf{a}_r}$\n",
    "$\\newcommand{\\at}{\\mathbf{a}_\\theta}$\n",
    "$\\newcommand{\\grad}[1]{\\nabla #1}$\n",
    "$\\renewcommand{\\div}[1]{\\mathbf{\\nabla} \\cdot \\mathbf{#1}}$\n",
    "$\\newcommand{\\rot}[1]{\\mathbf{\\nabla} \\times \\mathbf{#1}}$\n",
    "$\\newcommand{\\parcial}[2]{\\displaystyle\\frac{\\partial #1}{\\partial #2}}$\n",
    "$\\newcommand{\\pard}[2]{\\displaystyle\\frac{\\partial^2 {#1}}{\\partial {#2}^2}}$\n",
    "$\\newcommand{\\lapcart}[1]{\\pard{#1}{x}+\\pard{#1}{y}+\\pard{#1}{z}}$\n",
    "$\\newcommand{\\lapcili}[1]{\\frac{1}{\\rho}\\parcial{}{\\rho}\\left(\\rho \\parcial{#1}{\\rho}\\right)+\\frac{1}{\\rho^2}\\pard{#1}{\\phi}+\\pard{#1}{z}}$\n",
    "$\\newcommand{\\lapesf}[1]{\\frac{1}{r^2}\\parcial{}{r}\\left(r^2 \\parcial{#1}{r}\\right)+\\frac{1}{r^2\\sin \\theta }\\left(\\sin \\theta \\, \\parcial{#1}{\\theta}\\right)+\\frac{1}{r^2\\sin \\theta}\\pard{V}{\\phi}}$\n",
    "\n"
   ]
  },
  {
   "attachments": {},
   "cell_type": "markdown",
   "id": "b25518e0",
   "metadata": {},
   "source": [
    "# Dipolos e linhas de fluxo"
   ]
  },
  {
   "attachments": {},
   "cell_type": "markdown",
   "id": "0a1c9489",
   "metadata": {},
   "source": [
    "**Definição:** um dipolo elétrico é um arranjo de duas cargas de mesma magnitude e sinais opostos separados por uma pequena distância. \n",
    "\n",
    "<center> <img src='Fig4.20.svg'> </center>"
   ]
  },
  {
   "attachments": {},
   "cell_type": "markdown",
   "id": "2a16d9de",
   "metadata": {},
   "source": [
    "**Potencial em um ponto devido ao dipolo**\n",
    "$$\n",
    "V = \\frac{Q}{4\\pi \\epsilon_0}\\left[\\frac{1}{r_1}-\\frac{1}{r_2}\\right]\n",
    "$$\n",
    "\n",
    "$$\n",
    "\\mathbf{p} = Q\\mathbf{d}\n",
    "$$\n",
    "\n",
    "$$\n",
    "V = \\frac{\\mathbf{p\\cdot}\\mathbf{a}_r}{4\\pi \\epsilon_0\\,r^2}\n",
    "$$"
   ]
  },
  {
   "attachments": {},
   "cell_type": "markdown",
   "id": "33d66ca8",
   "metadata": {},
   "source": [
    "<center> <img src='Ex4.13.svg'> </center>"
   ]
  },
  {
   "cell_type": "code",
   "execution_count": null,
   "id": "83ce91da",
   "metadata": {},
   "outputs": [],
   "source": []
  },
  {
   "attachments": {},
   "cell_type": "markdown",
   "id": "3fef8467",
   "metadata": {},
   "source": [
    "<center> <img src='pratico4.13.svg'> </center>"
   ]
  }
 ],
 "metadata": {
  "kernelspec": {
   "display_name": "Python 3 (ipykernel)",
   "language": "python",
   "name": "python3"
  },
  "language_info": {
   "codemirror_mode": {
    "name": "ipython",
    "version": 3
   },
   "file_extension": ".py",
   "mimetype": "text/x-python",
   "name": "python",
   "nbconvert_exporter": "python",
   "pygments_lexer": "ipython3",
   "version": "3.11.1"
  }
 },
 "nbformat": 4,
 "nbformat_minor": 5
}
