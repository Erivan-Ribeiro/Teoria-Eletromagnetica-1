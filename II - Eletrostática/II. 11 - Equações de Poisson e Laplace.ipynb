{
 "cells": [
  {
   "attachments": {},
   "cell_type": "markdown",
   "id": "3a85463a",
   "metadata": {
    "tags": []
   },
   "source": [
    "$\\newcommand{\\ax}{\\mathbf{a}_x}$\n",
    "$\\newcommand{\\ay}{\\mathbf{a}_y}$\n",
    "$\\newcommand{\\az}{\\mathbf{a}_z}$\n",
    "$\\newcommand{\\arho}{\\mathbf{a}_\\rho}$\n",
    "$\\newcommand{\\ap}{\\mathbf{a}_\\phi}$\n",
    "$\\newcommand{\\ar}{\\mathbf{a}_r}$\n",
    "$\\newcommand{\\at}{\\mathbf{a}_\\theta}$\n",
    "$\\newcommand{\\grad}[1]{\\nabla #1}$\n",
    "$\\renewcommand{\\div}[1]{\\mathbf{\\nabla} \\cdot \\mathbf{#1}}$\n",
    "$\\newcommand{\\rot}[1]{\\mathbf{\\nabla} \\times \\mathbf{#1}}$\n",
    "$\\newcommand{\\parcial}[2]{\\displaystyle\\frac{\\partial #1}{\\partial #2}}$\n",
    "$\\newcommand{\\pard}[2]{\\displaystyle\\frac{\\partial^2 {#1}}{\\partial {#2}^2}}$\n",
    "$\\newcommand{\\lapcart}[1]{\\pard{#1}{x}+\\pard{#1}{y}+\\pard{#1}{z}}$\n",
    "$\\newcommand{\\lapcili}[1]{\\frac{1}{\\rho}\\parcial{}{\\rho}\\left(\\rho \\parcial{#1}{\\rho}\\right)+\\frac{1}{\\rho^2}\\pard{#1}{\\phi}+\\pard{#1}{z}}$\n",
    "$\\newcommand{\\lapesf}[1]{\\frac{1}{r^2}\\parcial{}{r}\\left(r^2 \\parcial{#1}{r}\\right)+\\frac{1}{r^2\\sin \\theta }\\left(\\sin \\theta \\, \\parcial{#1}{\\theta}\\right)+\\frac{1}{r^2\\sin \\theta}\\pard{V}{\\phi}}$\n",
    "\n"
   ]
  },
  {
   "attachments": {},
   "cell_type": "markdown",
   "id": "b25518e0",
   "metadata": {},
   "source": [
    "# Equações de Poisson e Laplace"
   ]
  },
  {
   "attachments": {},
   "cell_type": "markdown",
   "id": "a8457436",
   "metadata": {},
   "source": [
    "São equações *diferenciais parciais* provenientes das leis de campo elétrostático, para determinarmos o campo potencial elétrico em um problema.\n",
    "\n",
    "O potencial é escolhido por ser uma grandeza física de mais fácil medida."
   ]
  },
  {
   "attachments": {},
   "cell_type": "markdown",
   "id": "b2883d9c",
   "metadata": {},
   "source": [
    "## Equação de Poisson"
   ]
  },
  {
   "attachments": {},
   "cell_type": "markdown",
   "id": "eef185e7",
   "metadata": {},
   "source": [
    "$$\n",
    "\\begin{align*}    \n",
    "    \\div{D} &= \\rho_v\\\\\n",
    "    \\mathbf{D} &= \\epsilon\\,\\mathbf{E}\\\\\n",
    "    \\mathbf{E} &= -\\grad{V}\\\\\n",
    "    \\Rightarrow \\nabla \\cdot{(-\\epsilon\\grad{V})} &= \\rho_v\\\\\n",
    "    \\nabla^2{V} &= \\frac{-\\rho_v}{\\epsilon}\n",
    "\\end{align*}\n",
    "$$"
   ]
  },
  {
   "attachments": {},
   "cell_type": "markdown",
   "id": "356a907b",
   "metadata": {},
   "source": [
    "## Equação de Laplace"
   ]
  },
  {
   "attachments": {},
   "cell_type": "markdown",
   "id": "817e1cfb",
   "metadata": {},
   "source": [
    "É a equação de Poisson quando $\\rho_v=0$\n",
    "$$\n",
    "\\begin{align*}    \n",
    "    \\nabla^2{V} &= 0\n",
    "\\end{align*}\n",
    "$$\n",
    "\n"
   ]
  },
  {
   "attachments": {},
   "cell_type": "markdown",
   "id": "493962a9",
   "metadata": {},
   "source": [
    "## Laplaciano em diferentes sistemas de coordenadas"
   ]
  },
  {
   "attachments": {},
   "cell_type": "markdown",
   "id": "ccb84bc4",
   "metadata": {},
   "source": [
    "Cartesiano:\n",
    "$$\n",
    "\\nabla^2V = \\lapcart{V}\n",
    "$$\n",
    "\n",
    "Cilíndrico:\n",
    "$$\n",
    "\\nabla^2V = \\lapcili{V}\n",
    "$$\n",
    "\n",
    "Esférico:\n",
    "$$\n",
    "\\nabla^2V = \\lapesf{V}\n",
    "$$"
   ]
  },
  {
   "attachments": {},
   "cell_type": "markdown",
   "id": "2e539888",
   "metadata": {},
   "source": [
    "## Teorema da unicidade:\n",
    "\n",
    "Dado um problema e uma condição de fronteira específica, a solução do problema, se puder ser encontrada, é única.\n",
    "\n",
    "Isso é importante devido à natureza das equações diferenciais, cuja solução geral às vezes representa um número infinito de soluções. "
   ]
  },
  {
   "attachments": {},
   "cell_type": "markdown",
   "id": "525ebdd7",
   "metadata": {},
   "source": [
    "## Técnicas de solução\n",
    "\n",
    "- Simplificação + Integração direta\n",
    "- Separação de variáveis\n",
    "- Métodos numéricos"
   ]
  },
  {
   "attachments": {},
   "cell_type": "markdown",
   "id": "4a2b968a",
   "metadata": {},
   "source": [
    "## Alguns exemplos:"
   ]
  },
  {
   "attachments": {},
   "cell_type": "markdown",
   "id": "51ee3049",
   "metadata": {},
   "source": [
    "<center> <img src='./Figs/Ex6.1.svg'> </center>"
   ]
  },
  {
   "cell_type": "code",
   "execution_count": 1,
   "id": "4ff728a0",
   "metadata": {},
   "outputs": [],
   "source": [
    "import sympy as sp\n",
    "from sympy import pi, Function, dsolve, Derivative"
   ]
  },
  {
   "cell_type": "code",
   "execution_count": 2,
   "id": "38fe8669",
   "metadata": {},
   "outputs": [],
   "source": [
    "z = sp.symbols('z')\n",
    "ro = 25e-3\n",
    "Vo = 22e3\n",
    "e0 = 1e-9/(36*pi)\n",
    "eps = sp.symbols(r'\\varepsilon')\n",
    "rho = sp.symbols('rho_0')\n",
    "Vo = sp.symbols('V_o')\n",
    "d = sp.symbols('d')\n",
    "V = Function('V')"
   ]
  },
  {
   "cell_type": "code",
   "execution_count": 8,
   "id": "42afc64c",
   "metadata": {},
   "outputs": [
    {
     "data": {
      "text/latex": [
       "$\\displaystyle C_{1} + C_{2} z - \\frac{\\rho_{0} z^{2}}{2 \\varepsilon}$"
      ],
      "text/plain": [
       "C1 + C2*z - rho_0*z**2/(2*\\varepsilon)"
      ]
     },
     "execution_count": 8,
     "metadata": {},
     "output_type": "execute_result"
    }
   ],
   "source": [
    "sol = dsolve( Derivative(V(z),z,2)+rho/eps, \n",
    "             V(z), ics={ V(0):Vo,  V(d):0}  )\n",
    "sol.rhs"
   ]
  },
  {
   "cell_type": "code",
   "execution_count": 29,
   "id": "aa57de93",
   "metadata": {},
   "outputs": [
    {
     "data": {
      "text/latex": [
       "$\\displaystyle - \\frac{a \\rho_{s} - d \\rho_{s}}{a \\epsilon_{2} - a \\epsilon_{1} - d \\epsilon_{2}}$"
      ],
      "text/plain": [
       "-(a*rho_s - d*rho_s)/(a*epsilon2 - a*epsilon_1 - d*epsilon2)"
      ]
     },
     "execution_count": 29,
     "metadata": {},
     "output_type": "execute_result"
    }
   ],
   "source": [
    "x = sp.symbols('x')\n",
    "A1, B1, A2, B2, d, a = sp.symbols(\"A_1 B_1 A_2 B_2 d a\")\n",
    "rho_s, e1, e2 = sp.symbols(\"rho_s epsilon_1 epsilon2\")\n",
    "V1 = A1*x+B1\n",
    "V2 = A2*x+B2\n",
    "eq1 = sp.Eq(0,V1.subs(x,d))\n",
    "eq2 = sp.Eq(0,V2.subs(x,0))\n",
    "eq3 = sp.Eq(V1.subs(x,a),V2.subs(x,a))\n",
    "eq4 = sp.Eq(rho_s, -e1*Derivative(V1,x).doit().subs(x,a)+\n",
    "            e2*Derivative(V2,x).doit().subs(x,a))\n",
    "sis = [eq1,eq2,eq3,eq4]\n",
    "sol = sp.solve(sis,[A1,A2,B1,B2])\n",
    "-Derivative(V2.subs(sol),x).doit()"
   ]
  },
  {
   "attachments": {},
   "cell_type": "markdown",
   "id": "a94e3548",
   "metadata": {},
   "source": [
    "<center> <img src='./Figs/Ex6.2.svg'> </center>"
   ]
  },
  {
   "attachments": {},
   "cell_type": "markdown",
   "id": "2be6935d",
   "metadata": {},
   "source": [
    "<center> <img src='./Figs/Ex6.3.svg'> </center>"
   ]
  },
  {
   "attachments": {},
   "cell_type": "markdown",
   "id": "adf3fa21",
   "metadata": {},
   "source": [
    "<center> <img src='./Figs/Ex6.4.svg'> </center>"
   ]
  },
  {
   "attachments": {},
   "cell_type": "markdown",
   "id": "d6d3f030",
   "metadata": {},
   "source": [
    "<center> <img src='./Figs/Ex6.5.svg'> </center>"
   ]
  },
  {
   "attachments": {},
   "cell_type": "markdown",
   "id": "c19698d6",
   "metadata": {},
   "source": [
    "<center> <img src='./Figs/Ex6.6.svg'> </center>"
   ]
  },
  {
   "attachments": {},
   "cell_type": "markdown",
   "id": "34527635",
   "metadata": {},
   "source": [
    "<center> <img src='./Figs/Ex6.7.svg'> </center>"
   ]
  }
 ],
 "metadata": {
  "kernelspec": {
   "display_name": "Python 3 (ipykernel)",
   "language": "python",
   "name": "python3"
  },
  "language_info": {
   "codemirror_mode": {
    "name": "ipython",
    "version": 3
   },
   "file_extension": ".py",
   "mimetype": "text/x-python",
   "name": "python",
   "nbconvert_exporter": "python",
   "pygments_lexer": "ipython3",
   "version": "3.11.1"
  }
 },
 "nbformat": 4,
 "nbformat_minor": 5
}
