{
 "cells": [
  {
   "attachments": {},
   "cell_type": "markdown",
   "id": "3a85463a",
   "metadata": {
    "tags": []
   },
   "source": [
    "$\\newcommand{\\ax}{\\mathbf{a}_x}$\n",
    "$\\newcommand{\\ay}{\\mathbf{a}_y}$\n",
    "$\\newcommand{\\az}{\\mathbf{a}_z}$\n",
    "$\\newcommand{\\arho}{\\mathbf{a}_\\rho}$\n",
    "$\\newcommand{\\ap}{\\mathbf{a}_\\phi}$\n",
    "$\\newcommand{\\ar}{\\mathbf{a}_r}$\n",
    "$\\newcommand{\\at}{\\mathbf{a}_\\theta}$\n",
    "$\\newcommand{\\grad}[1]{\\nabla #1}$\n",
    "$\\renewcommand{\\div}[1]{\\mathbf{\\nabla} \\cdot \\mathbf{#1}}$\n",
    "$\\newcommand{\\rot}[1]{\\mathbf{\\nabla} \\times \\mathbf{#1}}$\n",
    "$\\newcommand{\\parcial}[2]{\\displaystyle\\frac{\\partial #1}{\\partial #2}}$\n",
    "$\\newcommand{\\pard}[2]{\\displaystyle\\frac{\\partial^2 {#1}}{\\partial {#2}^2}}$\n",
    "$\\newcommand{\\lapcart}[1]{\\pard{#1}{x}+\\pard{#1}{y}+\\pard{#1}{z}}$\n",
    "$\\newcommand{\\lapcili}[1]{\\frac{1}{\\rho}\\parcial{}{\\rho}\\left(\\rho \\parcial{#1}{\\rho}\\right)+\\frac{1}{\\rho^2}\\pard{#1}{\\phi}+\\pard{#1}{z}}$\n",
    "$\\newcommand{\\lapesf}[1]{\\frac{1}{r^2}\\parcial{}{r}\\left(r^2 \\parcial{#1}{r}\\right)+\\frac{1}{r^2\\sin \\theta }\\left(\\sin \\theta \\, \\parcial{#1}{\\theta}\\right)+\\frac{1}{r^2\\sin \\theta}\\pard{V}{\\phi}}$\n",
    "\n"
   ]
  },
  {
   "attachments": {},
   "cell_type": "markdown",
   "id": "b25518e0",
   "metadata": {},
   "source": [
    "# Equações de Poisson e Laplace"
   ]
  },
  {
   "attachments": {},
   "cell_type": "markdown",
   "id": "a8457436",
   "metadata": {},
   "source": [
    "São equações *diferenciais* provenientes das leis de campo elétrostático, para determinarmos o campo potencial elétrico em um problema.\n",
    "\n",
    "O potencial é escolhido por ser uma grandeza física de mais fácil medida."
   ]
  },
  {
   "attachments": {},
   "cell_type": "markdown",
   "id": "b2883d9c",
   "metadata": {},
   "source": [
    "## Equação de Poisson"
   ]
  },
  {
   "attachments": {},
   "cell_type": "markdown",
   "id": "eef185e7",
   "metadata": {},
   "source": [
    "$$\n",
    "\\begin{align*}    \n",
    "    \\div{D} &= \\rho_v\\\\\n",
    "    \\mathbf{D} &= \\epsilon\\,\\mathbf{E}\\\\\n",
    "    \\mathbf{E} &= -\\grad{V}\\\\\n",
    "    \\Rightarrow \\nabla \\cdot{(-\\epsilon\\grad{V})} &= \\rho_v\\\\\n",
    "    \\nabla^2{V} &= \\frac{-\\rho_v}{\\epsilon}\n",
    "\\end{align*}\n",
    "$$"
   ]
  },
  {
   "attachments": {},
   "cell_type": "markdown",
   "id": "356a907b",
   "metadata": {},
   "source": [
    "## Equação de Laplace"
   ]
  },
  {
   "attachments": {},
   "cell_type": "markdown",
   "id": "817e1cfb",
   "metadata": {},
   "source": [
    "É a equação de Poisson quando $\\rho_v=0$\n",
    "$$\n",
    "\\begin{align*}    \n",
    "    \\nabla^2{V} &= 0\n",
    "\\end{align*}\n",
    "$$\n",
    "\n"
   ]
  },
  {
   "attachments": {},
   "cell_type": "markdown",
   "id": "493962a9",
   "metadata": {},
   "source": [
    "## Laplaciano em diferentes sistemas de coordenadas"
   ]
  },
  {
   "attachments": {},
   "cell_type": "markdown",
   "id": "ccb84bc4",
   "metadata": {},
   "source": [
    "Cartesiano:\n",
    "$$\n",
    "\\nabla^2V = \\lapcart{V}\n",
    "$$\n",
    "\n",
    "Cilíndrico:\n",
    "$$\n",
    "\\nabla^2V = \\lapcili{V}\n",
    "$$\n",
    "\n",
    "Esférico:\n",
    "$$\n",
    "\\nabla^2V = \\lapesf{V}\n",
    "$$"
   ]
  },
  {
   "attachments": {},
   "cell_type": "markdown",
   "id": "2e539888",
   "metadata": {},
   "source": [
    "## Teorema da unicidade:\n",
    "\n",
    "Dado um problema e uma condição de fronteira específica, a solução do problema, se puder ser encontrada, é única.\n",
    "\n",
    "Isso é importante devido à natureza das equações diferenciais, cuja solução geral às vezes representa um número infinito de soluções. "
   ]
  },
  {
   "attachments": {},
   "cell_type": "markdown",
   "id": "525ebdd7",
   "metadata": {},
   "source": [
    "## Técnicas de solução\n",
    "\n",
    "- Simplificação + Integração direta\n",
    "- Separação de variáveis\n",
    "- Métodos numéricos"
   ]
  },
  {
   "attachments": {},
   "cell_type": "markdown",
   "id": "4a2b968a",
   "metadata": {},
   "source": [
    "## Alguns exemplos:"
   ]
  },
  {
   "attachments": {},
   "cell_type": "markdown",
   "id": "51ee3049",
   "metadata": {},
   "source": [
    "<center> <img src='Ex6.1.svg'> </center>"
   ]
  },
  {
   "attachments": {},
   "cell_type": "markdown",
   "id": "a94e3548",
   "metadata": {},
   "source": [
    "<center> <img src='Ex6.2.svg'> </center>"
   ]
  },
  {
   "attachments": {},
   "cell_type": "markdown",
   "id": "2be6935d",
   "metadata": {},
   "source": [
    "<center> <img src='Ex6.3.svg'> </center>"
   ]
  },
  {
   "attachments": {},
   "cell_type": "markdown",
   "id": "adf3fa21",
   "metadata": {},
   "source": [
    "<center> <img src='Ex6.4.svg'> </center>"
   ]
  },
  {
   "attachments": {},
   "cell_type": "markdown",
   "id": "d6d3f030",
   "metadata": {},
   "source": [
    "<center> <img src='Ex6.5.svg'> </center>"
   ]
  },
  {
   "attachments": {},
   "cell_type": "markdown",
   "id": "c19698d6",
   "metadata": {},
   "source": [
    "<center> <img src='Ex6.6.svg'> </center>"
   ]
  },
  {
   "attachments": {},
   "cell_type": "markdown",
   "id": "34527635",
   "metadata": {},
   "source": [
    "<center> <img src='Ex6.7.svg'> </center>"
   ]
  }
 ],
 "metadata": {
  "kernelspec": {
   "display_name": "Python 3 (ipykernel)",
   "language": "python",
   "name": "python3"
  },
  "language_info": {
   "codemirror_mode": {
    "name": "ipython",
    "version": 3
   },
   "file_extension": ".py",
   "mimetype": "text/x-python",
   "name": "python",
   "nbconvert_exporter": "python",
   "pygments_lexer": "ipython3",
   "version": "3.11.1"
  }
 },
 "nbformat": 4,
 "nbformat_minor": 5
}
