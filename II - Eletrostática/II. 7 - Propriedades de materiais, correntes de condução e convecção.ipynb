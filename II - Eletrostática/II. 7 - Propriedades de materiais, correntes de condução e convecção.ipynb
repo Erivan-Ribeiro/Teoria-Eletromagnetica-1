{
 "cells": [
  {
   "attachments": {},
   "cell_type": "markdown",
   "id": "3a85463a",
   "metadata": {
    "tags": []
   },
   "source": [
    "$\\newcommand{\\ax}{\\mathbf{a}_x}$\n",
    "$\\newcommand{\\ay}{\\mathbf{a}_y}$\n",
    "$\\newcommand{\\az}{\\mathbf{a}_z}$\n",
    "$\\newcommand{\\arho}{\\mathbf{a}_\\rho}$\n",
    "$\\newcommand{\\ap}{\\mathbf{a}_\\phi}$\n",
    "$\\newcommand{\\ar}{\\mathbf{a}_r}$\n",
    "$\\newcommand{\\at}{\\mathbf{a}_\\theta}$\n",
    "$\\newcommand{\\grad}[1]{\\nabla #1}$\n",
    "$\\renewcommand{\\div}[1]{\\mathbf{\\nabla} \\cdot \\mathbf{#1}}$\n",
    "$\\newcommand{\\rot}[1]{\\mathbf{\\nabla} \\times \\mathbf{#1}}$\n",
    "$\\newcommand{\\parcial}[2]{\\displaystyle\\frac{\\partial #1}{\\partial #2}}$\n",
    "$\\newcommand{\\pard}[2]{\\displaystyle\\frac{\\partial^2 {#1}}{\\partial {#2}^2}}$\n",
    "$\\newcommand{\\lapcart}[1]{\\pard{#1}{x}+\\pard{#1}{y}+\\pard{#1}{z}}$\n",
    "$\\newcommand{\\lapcili}[1]{\\frac{1}{\\rho}\\parcial{}{\\rho}\\left(\\rho \\parcial{#1}{\\rho}\\right)+\\frac{1}{\\rho^2}\\pard{#1}{\\phi}+\\pard{#1}{z}}$\n",
    "$\\newcommand{\\lapesf}[1]{\\frac{1}{r^2}\\parcial{}{r}\\left(r^2 \\parcial{#1}{r}\\right)+\\frac{1}{r^2\\sin \\theta }\\left(\\sin \\theta \\, \\parcial{#1}{\\theta}\\right)+\\frac{1}{r^2\\sin \\theta}\\pard{V}{\\phi}}$\n",
    "\n"
   ]
  },
  {
   "attachments": {},
   "cell_type": "markdown",
   "id": "b25518e0",
   "metadata": {},
   "source": [
    "# Propriedades de materiais"
   ]
  },
  {
   "attachments": {},
   "cell_type": "markdown",
   "id": "25d6d09e",
   "metadata": {},
   "source": [
    "Materiais:\n",
    "- Condutores e não condutores.\n",
    "- Metal ou isolante\n",
    "- Condutividade $\\sigma$ (Siemens/metro)\n",
    "- Condutor $\\sigma \\gg 1$\n",
    "- Isolante $\\sigma \\ll 1$\n",
    "- Semicondutor: intermediário\n",
    "\n",
    "Condutividade depende da temperatura\n",
    "- Disponibilidade de elétrons\n",
    "- Aumenta conforme a temperatura diminui\n",
    "- Supercondutores: infinita\n",
    "\n"
   ]
  },
  {
   "attachments": {},
   "cell_type": "markdown",
   "id": "1abfce9d",
   "metadata": {},
   "source": [
    "## **Condutores**"
   ]
  },
  {
   "attachments": {},
   "cell_type": "markdown",
   "id": "b0dbfa6e",
   "metadata": {},
   "source": [
    "- Um condutor é um material (normalmente metal, na tabela periódica), com excesso de elétrons nas camadas externas dos átomos, que podem se mover livremente ao longo do material.\n",
    "- Corrente elétrica circula em um condutor quando aplicamos um campo elétrico externo sobre ele\n",
    "- Supõe-se que no interior do condutor, um campo interno se forma em oposição ao campo externo acumulado.\n",
    "- Como resultado, a densidade de carga no interior é nula (ou muito pequena)."
   ]
  },
  {
   "attachments": {},
   "cell_type": "markdown",
   "id": "4fa2fc67",
   "metadata": {},
   "source": [
    "<center> <img src='Fig5.2.svg'> </center>"
   ]
  },
  {
   "attachments": {},
   "cell_type": "markdown",
   "id": "6dd22c9e",
   "metadata": {},
   "source": [
    "Dentro do condutor: \n",
    "$$\n",
    "\\begin{align*}\n",
    "\\mathbf{E}&=\\mathbf{0}\\\\\n",
    "\\rho_v &=0\\\\\n",
    "V_{ab} &=0\n",
    "\\end{align*}\n",
    "$$"
   ]
  },
  {
   "attachments": {},
   "cell_type": "markdown",
   "id": "db86d2eb",
   "metadata": {},
   "source": [
    "Ao aplicarmos uma tensão elétrica externa $V$ sobre um condutor, um campo se forma e produz o movimento de cargas"
   ]
  },
  {
   "attachments": {},
   "cell_type": "markdown",
   "id": "db5351b1",
   "metadata": {},
   "source": [
    "<center> <img src='Fig5.3.svg'> </center>"
   ]
  },
  {
   "attachments": {},
   "cell_type": "markdown",
   "id": "b17efb90",
   "metadata": {},
   "source": [
    "Forças internas do material produzem resistência ao movimento das cargas, dissipando energia de movimento dos elétrons e produzindo calor. Esse é conhecido efeito Joule ou de resistência elétrica.\n",
    "\n",
    "Para um condutor ideal de comprimento $l$ e seção uniforme $S$:\n",
    "$$\n",
    "R = \\frac{\\rho_c \\, l}{S}\n",
    "$$\n",
    "onde $\\rho_c = 1/\\sigma$ é a resistividade (inverso da condutividade) do material. \n",
    "\n",
    "A resistividade é uma propriedade constante que depende da natureza química do material. "
   ]
  },
  {
   "attachments": {},
   "cell_type": "markdown",
   "id": "a9d2f316",
   "metadata": {},
   "source": [
    "Lei de Ohm:\n",
    "$$\n",
    "R = \\frac{V}{I} = \\frac{\\int \\mathbf{E\\cdot }d\\mathbf{l}}{\\int \\sigma \\mathbf{E}\\cdot d\\mathbf{dS}}\n",
    "$$"
   ]
  },
  {
   "attachments": {},
   "cell_type": "markdown",
   "id": "3f5957b5",
   "metadata": {},
   "source": [
    "Lei de Joule: potência dissipada no condutor:\n",
    "$$\n",
    "    P = \\int \\mathbf{E\\cdot J} dv\n",
    "$$\n",
    "\n",
    "Densidade de potência:\n",
    "$$\n",
    "    w_p = \\frac{dP}{dv} = \\mathbf{E\\cdot J} = \\sigma |\\mathbf{E}|^2\n",
    "$$"
   ]
  },
  {
   "attachments": {},
   "cell_type": "markdown",
   "id": "b3e74f88",
   "metadata": {},
   "source": [
    "<center> <img src='Ex5.1.svg'> </center>"
   ]
  },
  {
   "cell_type": "code",
   "execution_count": null,
   "id": "b60c31d4",
   "metadata": {},
   "outputs": [],
   "source": []
  },
  {
   "attachments": {},
   "cell_type": "markdown",
   "id": "cb3e834c",
   "metadata": {},
   "source": [
    "<center> <img src='Pratico5.1.svg'> </center>"
   ]
  },
  {
   "attachments": {},
   "cell_type": "markdown",
   "id": "ea242a91",
   "metadata": {},
   "source": [
    "<center> <img src='Ex5.2.svg'> </center>"
   ]
  },
  {
   "cell_type": "code",
   "execution_count": null,
   "id": "e8b3e26e",
   "metadata": {},
   "outputs": [],
   "source": []
  },
  {
   "attachments": {},
   "cell_type": "markdown",
   "id": "afcf19ae",
   "metadata": {},
   "source": [
    "<center> <img src='Pratico5.2.svg'> </center>"
   ]
  },
  {
   "attachments": {},
   "cell_type": "markdown",
   "id": "5d766fc2",
   "metadata": {},
   "source": [
    "<center> <img src='Ex5.3.svg'> </center>"
   ]
  },
  {
   "cell_type": "code",
   "execution_count": null,
   "id": "99ab699e",
   "metadata": {},
   "outputs": [],
   "source": []
  },
  {
   "attachments": {},
   "cell_type": "markdown",
   "id": "c8a98cb9",
   "metadata": {},
   "source": [
    "<center> <img src='Pratico5.3.svg'> </center>"
   ]
  },
  {
   "attachments": {},
   "cell_type": "markdown",
   "id": "3d7a2343",
   "metadata": {},
   "source": [
    "<center> <img src='Ex5.4.svg'> </center>"
   ]
  },
  {
   "cell_type": "code",
   "execution_count": null,
   "id": "9e5292c3",
   "metadata": {},
   "outputs": [],
   "source": []
  },
  {
   "attachments": {},
   "cell_type": "markdown",
   "id": "843df4d5",
   "metadata": {},
   "source": [
    "<center> <img src='Pratico5.4.svg'> </center>"
   ]
  }
 ],
 "metadata": {
  "kernelspec": {
   "display_name": "Python 3 (ipykernel)",
   "language": "python",
   "name": "python3"
  },
  "language_info": {
   "codemirror_mode": {
    "name": "ipython",
    "version": 3
   },
   "file_extension": ".py",
   "mimetype": "text/x-python",
   "name": "python",
   "nbconvert_exporter": "python",
   "pygments_lexer": "ipython3",
   "version": "3.11.1"
  }
 },
 "nbformat": 4,
 "nbformat_minor": 5
}
