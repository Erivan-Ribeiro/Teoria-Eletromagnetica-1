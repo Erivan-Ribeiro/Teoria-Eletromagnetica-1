{
 "cells": [
  {
   "attachments": {},
   "cell_type": "markdown",
   "id": "3a85463a",
   "metadata": {
    "tags": []
   },
   "source": [
    "$\\newcommand{\\ax}{\\mathbf{a}_x}$\n",
    "$\\newcommand{\\ay}{\\mathbf{a}_y}$\n",
    "$\\newcommand{\\az}{\\mathbf{a}_z}$\n",
    "$\\newcommand{\\arho}{\\mathbf{a}_\\rho}$\n",
    "$\\newcommand{\\ap}{\\mathbf{a}_\\phi}$\n",
    "$\\newcommand{\\ar}{\\mathbf{a}_r}$\n",
    "$\\newcommand{\\at}{\\mathbf{a}_\\theta}$\n",
    "$\\newcommand{\\grad}[1]{\\nabla #1}$\n",
    "$\\renewcommand{\\div}[1]{\\mathbf{\\nabla} \\cdot \\mathbf{#1}}$\n",
    "$\\newcommand{\\rot}[1]{\\mathbf{\\nabla} \\times \\mathbf{#1}}$\n",
    "$\\newcommand{\\parcial}[2]{\\displaystyle\\frac{\\partial #1}{\\partial #2}}$\n",
    "$\\newcommand{\\pard}[2]{\\displaystyle\\frac{\\partial^2 {#1}}{\\partial {#2}^2}}$\n",
    "$\\newcommand{\\lapcart}[1]{\\pard{#1}{x}+\\pard{#1}{y}+\\pard{#1}{z}}$\n",
    "$\\newcommand{\\lapcili}[1]{\\frac{1}{\\rho}\\parcial{}{\\rho}\\left(\\rho \\parcial{#1}{\\rho}\\right)+\\frac{1}{\\rho^2}\\pard{#1}{\\phi}+\\pard{#1}{z}}$\n",
    "$\\newcommand{\\lapesf}[1]{\\frac{1}{r^2}\\parcial{}{r}\\left(r^2 \\parcial{#1}{r}\\right)+\\frac{1}{r^2\\sin \\theta }\\left(\\sin \\theta \\, \\parcial{#1}{\\theta}\\right)+\\frac{1}{r^2\\sin \\theta}\\pard{V}{\\phi}}$\n",
    "\n"
   ]
  },
  {
   "attachments": {},
   "cell_type": "markdown",
   "id": "b25518e0",
   "metadata": {},
   "source": [
    "# Densidade de fluxo magnético"
   ]
  },
  {
   "attachments": {},
   "cell_type": "markdown",
   "id": "9f8569f8",
   "metadata": {},
   "source": [
    "Semelhante ao fluxo elétrico. Linhas de fluxo são paralelas à direção do campo.\n",
    "\n",
    "Densidade de fluxo\n",
    "$$\n",
    "    \\mathbf{B} = \\mu_0 \\mathbf{H} \\quad\\quad Wb/m^2\n",
    "$$\n",
    "\n",
    "Permeabilidade magnética no vácuo:\n",
    "$$\n",
    "    \\mu_0 = 4\\pi \\cdot 10^{-7} \\quad H/m\n",
    "$$\n",
    "\n",
    "Fluxo:\n",
    "$$\n",
    "\\Psi = \\int_S \\mathbf{B}\\cdot d\\mathbf{S}\n",
    "    $$"
   ]
  },
  {
   "attachments": {},
   "cell_type": "markdown",
   "id": "06430e81",
   "metadata": {},
   "source": [
    "Não existe carga magnética simples (monopolo). As linhas de campo magnético sempre se fecham sobre si mesmas"
   ]
  },
  {
   "attachments": {},
   "cell_type": "markdown",
   "id": "c1881d4f",
   "metadata": {},
   "source": [
    "$$\n",
    "    \\div{B} = 0\n",
    "$$\n",
    "(*Lei de Gauss para o campo magnético*)"
   ]
  },
  {
   "attachments": {},
   "cell_type": "markdown",
   "id": "5534b643",
   "metadata": {},
   "source": [
    "## Potenciais magnéticos\n",
    "\n",
    "Devido às proprieades do campo e do fluxo, podemos definir campos potenciais que servem para descrever o campo magnético."
   ]
  },
  {
   "attachments": {},
   "cell_type": "markdown",
   "id": "403992ea",
   "metadata": {},
   "source": [
    "Potencial escalar:\n",
    "\n",
    "$$"
   ]
  },
  {
   "attachments": {},
   "cell_type": "markdown",
   "id": "13853067",
   "metadata": {},
   "source": [
    "$$\n",
    "    \\mathbf{H} = -\\grad{V_m};\n",
    "     \\quad \\mathbf{J=0}\n",
    "$$"
   ]
  },
  {
   "attachments": {},
   "cell_type": "markdown",
   "id": "ffcdef23",
   "metadata": {},
   "source": [
    "Potencial vetorial\n",
    "    "
   ]
  },
  {
   "attachments": {},
   "cell_type": "markdown",
   "id": "802d3855",
   "metadata": {},
   "source": [
    "$$\n",
    "    \\mathbf{B} = \\rot{A}\n",
    "$$"
   ]
  },
  {
   "attachments": {},
   "cell_type": "markdown",
   "id": "a6c0e38c",
   "metadata": {},
   "source": [
    "**Torque devido à força magnética**\n",
    "\n",
    "$$\n",
    "    \\mathbf{T} = \\mathbf{r\\times F}\n",
    "$$"
   ]
  },
  {
   "attachments": {},
   "cell_type": "markdown",
   "id": "91d32273",
   "metadata": {},
   "source": [
    "**Momento de dipolo magnético**\n",
    "\n",
    "$$\n",
    "    \\mathbf{m} = IS\\mathbf{a}_n\n",
    "$$"
   ]
  },
  {
   "attachments": {},
   "cell_type": "markdown",
   "id": "34cdf1bc",
   "metadata": {},
   "source": [
    "**Magnetização de materiais**"
   ]
  },
  {
   "attachments": {},
   "cell_type": "markdown",
   "id": "e896016f",
   "metadata": {},
   "source": [
    "Magnetização:\n",
    "$$\n",
    "    \\mathbf{M} = \\lim_{\\Delta v \\rightarrow 0} \\frac{\\sum_k{\\mathbf{m}_k}}{\\Delta v}\n",
    "$$"
   ]
  },
  {
   "attachments": {},
   "cell_type": "markdown",
   "id": "27519c21",
   "metadata": {},
   "source": [
    "Densidades de corrente ligada, em volume e em superfície:\n",
    "$$\n",
    "\\begin{align}\n",
    "\\mathbf{J}_m &= \\rot{M}\\\\\n",
    "\\mathbf{K}_m &= \\mathbf{M}\\times \\mathbf{a}_n\n",
    "\\end{align}\n",
    "$$"
   ]
  },
  {
   "attachments": {},
   "cell_type": "markdown",
   "id": "3d7c224c",
   "metadata": {},
   "source": [
    "Susceptibilidade magnética:\n",
    "$$\n",
    "\\begin{align}\n",
    "    \\mathbf{B} &= \\mu_0(\\mathbf{H+M})\\\\\n",
    "    \\mathbf{M} &= \\Chi_m\\mathbf{H}\\\\\n",
    "    \\mathbf{B} &= \\mu \\mathbf{H}\n",
    "\\end{align}\n",
    "$$\n",
    "\n",
    "$$\n",
    "\\begin{align}\n",
    "\\mu &= \\mu_r \\mu_0\\\\\n",
    "\\mu_r &= 1 + \\Chi_m = \\frac{\\mu}{\\mu_0}\n",
    "\\end{align}\n",
    "$$"
   ]
  },
  {
   "attachments": {},
   "cell_type": "markdown",
   "id": "297db3d2",
   "metadata": {},
   "source": [
    "<center> <img src='./figs/Fig8.13.svg'> </center>"
   ]
  },
  {
   "attachments": {},
   "cell_type": "markdown",
   "id": "b184cac5",
   "metadata": {},
   "source": [
    "Histerese:\n",
    "<center> <img src='./figs/Fig8.15.svg'> </center>"
   ]
  },
  {
   "attachments": {},
   "cell_type": "markdown",
   "id": "169680d2",
   "metadata": {},
   "source": [
    "**Condições de fronteira**"
   ]
  },
  {
   "attachments": {},
   "cell_type": "markdown",
   "id": "3c2b8022",
   "metadata": {},
   "source": [
    "<center> <img src='./figs/Fig8.16.svg'> </center>"
   ]
  },
  {
   "attachments": {},
   "cell_type": "markdown",
   "id": "d98cbd69",
   "metadata": {},
   "source": [
    "$$\n",
    "\\begin{align}\n",
    "    B_{1n} &= B_{2n}\\\\\n",
    "    H_{1t} - H_{2t} &= K\\\\\n",
    "    \\frac{\\tan \\theta_1}{\\tan \\theta_2} &= \\frac{\\mu_1}{\\mu_2}\n",
    "\\end{align}\n",
    "$$"
   ]
  },
  {
   "attachments": {},
   "cell_type": "markdown",
   "id": "8deea925",
   "metadata": {},
   "source": [
    "**Indutância**\n",
    "\n",
    "Enlace:\n",
    "$$\n",
    "    \\lambda = N \\psi\n",
    "$$\n",
    "\n",
    "Indutância:\n",
    "$$\n",
    "    L = \\frac{\\lambda}{I}\n",
    "$$\n",
    "\n",
    "Indutância própria e mútua\n",
    "<center> <img src='./figs/Fig8.20.svg'> </center>"
   ]
  }
 ],
 "metadata": {
  "kernelspec": {
   "display_name": "Python 3 (ipykernel)",
   "language": "python",
   "name": "python3"
  },
  "language_info": {
   "codemirror_mode": {
    "name": "ipython",
    "version": 3
   },
   "file_extension": ".py",
   "mimetype": "text/x-python",
   "name": "python",
   "nbconvert_exporter": "python",
   "pygments_lexer": "ipython3",
   "version": "3.11.1"
  }
 },
 "nbformat": 4,
 "nbformat_minor": 5
}
