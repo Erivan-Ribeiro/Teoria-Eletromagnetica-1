{
 "cells": [
  {
   "attachments": {},
   "cell_type": "markdown",
   "metadata": {},
   "source": [
    "# **Adição e subtração**"
   ]
  },
  {
   "attachments": {},
   "cell_type": "markdown",
   "metadata": {},
   "source": [
    "Dois vetores $\\mathbf{A}$ e $\\mathbf{B}$ podem ser adicionados para produzir um outro vetor $\\mathbf{C}$. \n",
    "$$\n",
    "\\begin{align}\n",
    "    \\mathbf{C = A + B}\n",
    "\\end{align}\n",
    "$$"
   ]
  },
  {
   "attachments": {},
   "cell_type": "markdown",
   "metadata": {},
   "source": [
    "A operação é feita somando as componentes correspondentes. \n",
    "\n",
    "Então se $\\mathbf{A} = (A_x,A_y,A_z)$ e $\\mathbf{B} = (B_x,B_y,B_z)$, então:\n",
    "$$\n",
    "\\begin{align}\n",
    "    \\mathbf{C = } (A_x+B_x)\\mathbf{a}_x + (A_y+B_y)\\mathbf{a}_y+(A_z+B_z)\\mathbf{a}_z  \n",
    "\\end{align}\n",
    "$$"
   ]
  },
  {
   "attachments": {},
   "cell_type": "markdown",
   "metadata": {},
   "source": [
    "A subtração é feita da mesma maneira, componente por componente. "
   ]
  },
  {
   "attachments": {},
   "cell_type": "markdown",
   "metadata": {},
   "source": [
    "As vezes é útil interpretar a soma e subtração de vetores graficamente, usando a chamada \"regra do paralelogramo\". \n",
    "\n",
    "<p align=\"center\">\n",
    "<img src=\"Fig1.2.svg\">\n",
    "</p>"
   ]
  },
  {
   "attachments": {},
   "cell_type": "markdown",
   "metadata": {},
   "source": [
    "Notar que multiplicar um vetor por $-1$ simplesmente inverte o sentido dele (mas não a direção)."
   ]
  },
  {
   "attachments": {},
   "cell_type": "markdown",
   "metadata": {},
   "source": [
    "A adição vetorial segue as regras ordinárias da álgebra convencional. Como tal, ela obedece às propriedades comutativa, associativa e distributiva (em relação à multiplicação por escalar.)\n",
    "\n",
    "$$\n",
    "    k(\\mathbf{A}+\\mathbf{B}) = k\\,\\mathbf{A}+k\\,\\mathbf{B}\n",
    "$$\n",
    "\n"
   ]
  }
 ],
 "metadata": {
  "kernelspec": {
   "display_name": "Python 3",
   "language": "python",
   "name": "python3"
  },
  "language_info": {
   "name": "python",
   "version": "3.10.9 (tags/v3.10.9:1dd9be6, Dec  6 2022, 20:01:21) [MSC v.1934 64 bit (AMD64)]"
  },
  "orig_nbformat": 4,
  "vscode": {
   "interpreter": {
    "hash": "e1735dd0795dce195fb98475ccf229151ed44a61fb274eb18cdb7c8302916985"
   }
  }
 },
 "nbformat": 4,
 "nbformat_minor": 2
}
