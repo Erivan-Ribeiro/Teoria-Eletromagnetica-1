{
 "cells": [
  {
   "attachments": {},
   "cell_type": "markdown",
   "metadata": {},
   "source": [
    "# **Produto vetorial**"
   ]
  },
  {
   "attachments": {},
   "cell_type": "markdown",
   "metadata": {},
   "source": [
    "Existem dois tipos de produto entre vetores que são importantes em física geral.\n",
    "\n",
    "1. Produto **escalar**, denotado $\\mathbf{A}\\cdot \\mathbf{B}$.\n",
    "2. Produto **vetorial** (ou cruzado), $\\mathbf{A}\\times \\mathbf{B}$."
   ]
  },
  {
   "attachments": {},
   "cell_type": "markdown",
   "metadata": {},
   "source": [
    "## Produto escalar\n",
    "\n",
    "O produto escalar entre dois vetores $\\mathbf{A}$ e $\\mathbf{B}$ é um **número** definido como:\n",
    "$$\n",
    "\\begin{align}\n",
    "\\mathbf{A\\cdot B} = |\\mathbf{A}||\\mathbf{B}|\\cos \\theta\n",
    "\\end{align}\n",
    "$$\n",
    "onde $\\theta$ é o menor ângulo entre os dois vetores, supondo eles fixos no mesmo ponto. "
   ]
  },
  {
   "attachments": {},
   "cell_type": "markdown",
   "metadata": {},
   "source": [
    "Em coordenadas retangulares o produto escalar pode ser escrito:\n",
    "$$\n",
    "\\begin{align}\n",
    "\\mathbf{A\\cdot B} = A_xB_x+A_yB_y+A_zB_z\n",
    "\\end{align}\n",
    "$$\n",
    "isto é, a soma dos produtos entre as componentes correspondentes."
   ]
  },
  {
   "attachments": {},
   "cell_type": "markdown",
   "metadata": {},
   "source": [
    "Dois vetores são ditos **ortogonais** ou perpendiculares entre si quando $\\mathbf{A\\cdot B}=0$."
   ]
  },
  {
   "attachments": {},
   "cell_type": "markdown",
   "metadata": {},
   "source": [
    "O produto escalar obedece às seguintes leis:\n",
    "1. Comutativo: $\\mathbf{A\\cdot B = B\\cdot A}$\n",
    "2. Distributivo: $\\mathbf{A\\cdot (B+C) = A\\cdot B+A\\cdot C}$"
   ]
  },
  {
   "attachments": {},
   "cell_type": "markdown",
   "metadata": {},
   "source": [
    "A magnitude de um vetor pode ser escrita em termos de produto escalar: $|\\mathbf{A}|^2=\\mathbf{A\\cdot A}$"
   ]
  },
  {
   "attachments": {},
   "cell_type": "markdown",
   "metadata": {},
   "source": [
    "Pela definição dos vetores unitários cartesianos:\n",
    "$$\n",
    "\\begin{align}\n",
    "    \\mathbf{a}_x\\cdot \\mathbf{a}_y = \\mathbf{a}_x\\cdot \\mathbf{a}_z = \\mathbf{a}_z\\cdot \\mathbf{a}_y &= 0\\\\\n",
    "    \\mathbf{a}_x\\cdot \\mathbf{a}_x = \\mathbf{a}_y\\cdot \\mathbf{a}_y = \\mathbf{a}_z\\cdot \\mathbf{a}_z &= 1\n",
    "\\end{align}\n",
    "$$"
   ]
  },
  {
   "attachments": {},
   "cell_type": "markdown",
   "metadata": {},
   "source": [
    "Em Python, o produto escalar pode ser feito entre vetores (matrizes) usando o método *dot()*."
   ]
  },
  {
   "cell_type": "code",
   "execution_count": 1,
   "metadata": {},
   "outputs": [
    {
     "data": {
      "text/latex": [
       "$\\displaystyle 9$"
      ],
      "text/plain": [
       "9"
      ]
     },
     "execution_count": 1,
     "metadata": {},
     "output_type": "execute_result"
    }
   ],
   "source": [
    "import sympy as sp\n",
    "A = sp.Matrix([1,1,1])\n",
    "B = sp.Matrix([-1,3,7])\n",
    "C = sp.Matrix([1,0,2])\n",
    "A.dot(B)"
   ]
  },
  {
   "attachments": {},
   "cell_type": "markdown",
   "metadata": {},
   "source": [
    "## **Produto vetorial**"
   ]
  },
  {
   "attachments": {},
   "cell_type": "markdown",
   "metadata": {},
   "source": [
    "O produto vetorial $\\mathbf{A}\\times\\mathbf{B}$ entre $\\mathbf{A}$ e $\\mathbf{B}$ é definido como um **vetor** perpendicular ao plano formado por $\\mathbf{A}$ e $\\mathbf{B}$, cuja magnitude é $|\\mathbf{A}||\\mathbf{B}|\\sin \\theta$.\n",
    "\n",
    "$\\theta$ é o menor ângulo formado entre os vetores. "
   ]
  },
  {
   "attachments": {},
   "cell_type": "markdown",
   "metadata": {},
   "source": [
    "Pela definição, escreve-se:\n",
    "$$\n",
    "\\begin{align}\n",
    "\\mathbf{A\\times B = } |\\mathbf{A}||\\mathbf{B}|\\sin \\theta\\, \\mathbf{a}_n\n",
    "\\end{align}\n",
    "$$\n",
    "onde $\\mathbf{a}_n$ é o vetor normal ao plano formado por $\\mathbf{A}$ e $\\mathbf{B}$. \n",
    "\n",
    "A direçao do vetor $\\mathbf{a}_n$ é definida pela rotação de $\\mathbf{A}$ em direção a $\\mathbf{b}$. O sentido é normalmente definido através da chamada \"regra do parafuso\" ou \"regra da mão direita\". \n",
    "\n",
    "<p align=\"center\">\n",
    "<img src='Fig1.7e8.svg'>\n",
    "</p>"
   ]
  },
  {
   "attachments": {},
   "cell_type": "markdown",
   "metadata": {},
   "source": [
    "Em coordenadas cartesianas, o produto vetorial pode ser calculado usando um mecanismo de determinante:\n",
    "$$\n",
    "\\begin{align}\n",
    "    \\mathbf{A\\times B = }\\left|\\begin{array}{ccc}\n",
    "    \\mathbf{a}_x & \\mathbf{a}_y & \\mathbf{a}_z\\\\\n",
    "    A_x & A_y & A_z\\\\\n",
    "    B_x & B_y & B_z\n",
    "    \\end{array}\\right|\n",
    "\\end{align}\n",
    "$$\n",
    "\n",
    "O resultado é:\n",
    "$$\n",
    "\\begin{align}\n",
    "    \\mathbf{A\\times B = }\n",
    "    (A_yB_z-A_zB_y)\\mathbf{a}_x +(A_zB_x-A_xB_z)\\mathbf{a}_y +(A_xB_y-A_yB_x)\\mathbf{a}_z\n",
    "\\end{align}\n",
    "$$\n"
   ]
  },
  {
   "attachments": {},
   "cell_type": "markdown",
   "metadata": {},
   "source": [
    "As seguintes propriedades são verdadeiras:\n",
    "\n",
    "Anticomutativo: $\\mathbf{A\\times B} = -\\mathbf{B\\times A}$ \n",
    "\n",
    "Não é associativo:\n",
    "$\\mathbf{A\\times (B\\times C)} \\neq \\mathbf{(A\\times B)\\times C} $\n",
    "\n",
    "Distributivo: $\\mathbf{A\\times (B + C)} = \\mathbf{A\\times B + A\\times C} $\n"
   ]
  },
  {
   "attachments": {},
   "cell_type": "markdown",
   "metadata": {},
   "source": [
    "Se $\\mathbf{A\\times B = 0}$, então $\\mathbf{A}$ e $\\mathbf{B}$ são paralelos. \n",
    "\n",
    "Note que qualquer vetor é paralelo a ele mesmo, então $\\mathbf{A\\times A = 0}$"
   ]
  },
  {
   "attachments": {},
   "cell_type": "markdown",
   "metadata": {},
   "source": [
    "Note que:\n",
    "$$\n",
    "\\begin{align}\n",
    "    \\mathbf{a}_x \\times \\mathbf{a}_y &= \\mathbf{a}_z\\\\\n",
    "    \\mathbf{a}_y \\times \\mathbf{a}_z &= \\mathbf{a}_x\\\\\n",
    "    \\mathbf{a}_z \\times \\mathbf{a}_x &= \\mathbf{a}_y\n",
    "\\end{align}\n",
    "$$"
   ]
  },
  {
   "cell_type": "code",
   "execution_count": 2,
   "metadata": {},
   "outputs": [
    {
     "data": {
      "text/latex": [
       "$\\displaystyle \\left[\\begin{matrix}4\\\\-8\\\\4\\end{matrix}\\right]$"
      ],
      "text/plain": [
       "Matrix([\n",
       "[ 4],\n",
       "[-8],\n",
       "[ 4]])"
      ]
     },
     "execution_count": 2,
     "metadata": {},
     "output_type": "execute_result"
    }
   ],
   "source": [
    "A.cross(B)"
   ]
  },
  {
   "attachments": {},
   "cell_type": "markdown",
   "metadata": {},
   "source": [
    "## Produto escalar triplo\n",
    "\n",
    "Dados 3 vetores $\\mathbf{A}$, $\\mathbf{B}$ e $\\mathbf{C}$, o produto escalar triplo é descrito como:\n",
    "$$\n",
    "\\begin{align}\n",
    "    \\mathbf{A}\\cdot (\\mathbf{B}\\times \\mathbf{C}) = \n",
    "    \\mathbf{B}\\cdot (\\mathbf{C}\\times \\mathbf{A}) =\n",
    "    \\mathbf{C}\\cdot (\\mathbf{A}\\times \\mathbf{B})\n",
    "\\end{align}\n",
    "$$"
   ]
  },
  {
   "attachments": {},
   "cell_type": "markdown",
   "metadata": {},
   "source": [
    "Em coordenadas retangulares:\n",
    "$$\n",
    "\\begin{align}\n",
    "    \\mathbf{A}\\cdot (\\mathbf{B}\\times \\mathbf{C}) = \n",
    "    \\left|\\begin{array}{ccc}\n",
    "        A_x & A_y & A_z\\\\\n",
    "        B_x & B_y & B_z\\\\\n",
    "        C_x & C_y & C_z\n",
    "    \\end{array}\\right|\n",
    "\\end{align}\n",
    "$$"
   ]
  },
  {
   "cell_type": "code",
   "execution_count": 3,
   "metadata": {},
   "outputs": [
    {
     "data": {
      "text/latex": [
       "$\\displaystyle 12$"
      ],
      "text/plain": [
       "12"
      ]
     },
     "execution_count": 3,
     "metadata": {},
     "output_type": "execute_result"
    }
   ],
   "source": [
    "A.dot(B.cross(C))"
   ]
  },
  {
   "attachments": {},
   "cell_type": "markdown",
   "metadata": {},
   "source": [
    "Geometricamente, o produto escalar triplo é interpretado como o *volume do paralelogramo*, cujas arestas são definidas pelos vetores que compõem o produto. "
   ]
  },
  {
   "attachments": {},
   "cell_type": "markdown",
   "metadata": {},
   "source": [
    "## Produto vetorial triplo\n",
    "\n",
    "Dados 3 vetores $\\mathbf{A}$, $\\mathbf{B}$ e $\\mathbf{C}$, o produto escalar triplo é descrito como:\n",
    "$$\n",
    "\\begin{align}\n",
    "    \\mathbf{A}\\times (\\mathbf{B}\\times \\mathbf{C}) = \n",
    "    (\\mathbf{A\\cdot C})\\,\\mathbf{B}-(\\mathbf{A\\cdot B})\\,\\mathbf{C}\n",
    "\\end{align}\n",
    "$$"
   ]
  },
  {
   "attachments": {},
   "cell_type": "markdown",
   "metadata": {},
   "source": [
    "Atente ao fato que os valores entre ( ) do lado direito da equação são escalares."
   ]
  },
  {
   "cell_type": "code",
   "execution_count": 4,
   "metadata": {},
   "outputs": [
    {
     "data": {
      "text/latex": [
       "$\\displaystyle \\left[\\begin{matrix}-12\\\\9\\\\3\\end{matrix}\\right]$"
      ],
      "text/plain": [
       "Matrix([\n",
       "[-12],\n",
       "[  9],\n",
       "[  3]])"
      ]
     },
     "execution_count": 4,
     "metadata": {},
     "output_type": "execute_result"
    }
   ],
   "source": [
    "A.cross(B.cross(C))"
   ]
  },
  {
   "cell_type": "code",
   "execution_count": 5,
   "metadata": {},
   "outputs": [
    {
     "data": {
      "text/latex": [
       "$\\displaystyle \\left[\\begin{matrix}-12\\\\9\\\\3\\end{matrix}\\right]$"
      ],
      "text/plain": [
       "Matrix([\n",
       "[-12],\n",
       "[  9],\n",
       "[  3]])"
      ]
     },
     "execution_count": 5,
     "metadata": {},
     "output_type": "execute_result"
    }
   ],
   "source": [
    "(A.dot(C))*B-(A.dot(B))*C"
   ]
  },
  {
   "attachments": {},
   "cell_type": "markdown",
   "metadata": {},
   "source": [
    "<center> <img src='Ex3.5.svg'> </center> "
   ]
  },
  {
   "cell_type": "code",
   "execution_count": 7,
   "metadata": {},
   "outputs": [
    {
     "data": {
      "text/latex": [
       "$\\displaystyle \\left[\\begin{matrix}2\\\\12\\\\4\\end{matrix}\\right]$"
      ],
      "text/plain": [
       "Matrix([\n",
       "[ 2],\n",
       "[12],\n",
       "[ 4]])"
      ]
     },
     "execution_count": 7,
     "metadata": {},
     "output_type": "execute_result"
    }
   ],
   "source": [
    "# (a)\n",
    "P = sp.Matrix([2,0,-1])\n",
    "Q = sp.Matrix([2,-1,2])\n",
    "R = sp.Matrix([2,-3,1])\n",
    "a = (P+Q).cross(P-Q)\n",
    "a"
   ]
  },
  {
   "attachments": {},
   "cell_type": "markdown",
   "metadata": {},
   "source": [
    "(a) o resultado é $(\\mathbf{P-Q})\\times(\\mathbf{P-Q}) = 2\\mathbf{a}_x+12\\mathbf{a}_y+4\\mathbf{a}_z$"
   ]
  },
  {
   "cell_type": "code",
   "execution_count": 9,
   "metadata": {},
   "outputs": [
    {
     "data": {
      "text/latex": [
       "$\\displaystyle 14$"
      ],
      "text/plain": [
       "14"
      ]
     },
     "execution_count": 9,
     "metadata": {},
     "output_type": "execute_result"
    }
   ],
   "source": [
    "# (b)\n",
    "v = R.cross(P)\n",
    "b = Q.dot(v)\n",
    "b"
   ]
  },
  {
   "cell_type": "code",
   "execution_count": 17,
   "metadata": {},
   "outputs": [
    {
     "data": {
      "text/latex": [
       "$\\displaystyle \\left[\\begin{matrix}5\\\\2\\\\-4\\end{matrix}\\right]$"
      ],
      "text/plain": [
       "Matrix([\n",
       "[ 5],\n",
       "[ 2],\n",
       "[-4]])"
      ]
     },
     "execution_count": 17,
     "metadata": {},
     "output_type": "execute_result"
    }
   ],
   "source": [
    "# (c)\n",
    "v = Q.cross(R)\n",
    "c = P.dot(v)\n",
    "c\n",
    "v"
   ]
  },
  {
   "cell_type": "code",
   "execution_count": 15,
   "metadata": {},
   "outputs": [
    {
     "data": {
      "text/latex": [
       "$\\displaystyle 0.5976$"
      ],
      "text/plain": [
       "0.5976"
      ]
     },
     "execution_count": 15,
     "metadata": {},
     "output_type": "execute_result"
    }
   ],
   "source": [
    "# (d)\n",
    "cosseno = Q.dot(R)/(Q.norm()*R.norm())\n",
    "seno = sp.sqrt(1-cosseno**2)\n",
    "seno.evalf(4)"
   ]
  },
  {
   "attachments": {},
   "cell_type": "markdown",
   "metadata": {},
   "source": [
    "$\\sin \\theta = \\pm \\frac{\\sqrt{70}}{14} \\approx \\pm 0.5976$"
   ]
  },
  {
   "cell_type": "code",
   "execution_count": 16,
   "metadata": {},
   "outputs": [
    {
     "data": {
      "text/latex": [
       "$\\displaystyle \\left[\\begin{matrix}2\\\\3\\\\4\\end{matrix}\\right]$"
      ],
      "text/plain": [
       "Matrix([\n",
       "[2],\n",
       "[3],\n",
       "[4]])"
      ]
     },
     "execution_count": 16,
     "metadata": {},
     "output_type": "execute_result"
    }
   ],
   "source": [
    "# (e)\n",
    "pq = P.dot(Q)\n",
    "pr = P.dot(R)\n",
    "e = (pr)*Q-(pq)*R\n",
    "e"
   ]
  },
  {
   "attachments": {},
   "cell_type": "markdown",
   "metadata": {},
   "source": [
    "<center> <img src='Ex3.6.svg'> </center> "
   ]
  },
  {
   "attachments": {},
   "cell_type": "markdown",
   "metadata": {},
   "source": [
    "## Componentes e projeções\n",
    "\n",
    "Já definimos componentes de um vetor como um dos elementos do vetor em uma direção específica no sistema de coordenadas cartesiano.\n",
    "\n",
    "Podemos generalizar essa ideia para qualquer direção. Neste caso, podemos também chamar a componente numa direção arbitrária $\\mathbf{a}_{b}$ de projeção do vetor na direção. "
   ]
  },
  {
   "attachments": {},
   "cell_type": "markdown",
   "metadata": {},
   "source": [
    "A projeção ${V}_{b}$ (escalar) do vetor $\\mathbf{V}$ na direção do vetor unitário $\\mathbf{a}_b$ é dada por:\n",
    "$$\n",
    "\\begin{align}\n",
    "    V_b &= \\mathbf{V}\\cdot \\mathbf{a}_b\n",
    "\\end{align}\n",
    "$$"
   ]
  },
  {
   "cell_type": "markdown",
   "metadata": {},
   "source": [
    "<center> <img src='pratico1.4.svg'> </center>"
   ]
  },
  {
   "attachments": {},
   "cell_type": "markdown",
   "metadata": {},
   "source": [
    "<center> <img src='pratico1.6.svg'> </center>"
   ]
  },
  {
   "cell_type": "code",
   "execution_count": 29,
   "metadata": {},
   "outputs": [
    {
     "data": {
      "text/latex": [
       "$\\displaystyle 1$"
      ],
      "text/plain": [
       "1"
      ]
     },
     "execution_count": 29,
     "metadata": {},
     "output_type": "execute_result"
    }
   ],
   "source": [
    "# Exemplo 1.7\n",
    "P1 = sp.Matrix([5,2,-4])\n",
    "P2 = sp.Matrix([1,1,2])\n",
    "P3 = sp.Matrix([-3,0,8])\n",
    "r1 = P2-P1\n",
    "r2 = P3-P1\n",
    "seno = r1.cross(r2)/(r1.norm()*r2.norm())\n",
    "cosseno = r1.dot(r2)/(r1.norm()*r2.norm())\n",
    "cosseno"
   ]
  },
  {
   "cell_type": "code",
   "execution_count": 32,
   "metadata": {},
   "outputs": [
    {
     "data": {
      "text/latex": [
       "$\\displaystyle \\left[\\begin{matrix}- \\frac{4 \\sqrt{53}}{53}\\\\- \\frac{\\sqrt{53}}{53}\\\\\\frac{6 \\sqrt{53}}{53}\\end{matrix}\\right]$"
      ],
      "text/plain": [
       "Matrix([\n",
       "[-4*sqrt(53)/53],\n",
       "[  -sqrt(53)/53],\n",
       "[ 6*sqrt(53)/53]])"
      ]
     },
     "execution_count": 32,
     "metadata": {},
     "output_type": "execute_result"
    }
   ],
   "source": [
    "P4 = sp.Matrix([3,-1,0])\n",
    "v = P3-P1\n",
    "r = P4-P1\n",
    "av = v/v.norm()\n",
    "x = r.dot(av)\n",
    "d = sp.sqrt(r.norm()**2-x**2)\n",
    "d.evalf(4)\n",
    "av"
   ]
  }
 ],
 "metadata": {
  "kernelspec": {
   "display_name": "Python 3",
   "language": "python",
   "name": "python3"
  },
  "language_info": {
   "codemirror_mode": {
    "name": "ipython",
    "version": 3
   },
   "file_extension": ".py",
   "mimetype": "text/x-python",
   "name": "python",
   "nbconvert_exporter": "python",
   "pygments_lexer": "ipython3",
   "version": "3.11.1"
  },
  "orig_nbformat": 4,
  "vscode": {
   "interpreter": {
    "hash": "e1735dd0795dce195fb98475ccf229151ed44a61fb274eb18cdb7c8302916985"
   }
  }
 },
 "nbformat": 4,
 "nbformat_minor": 2
}
