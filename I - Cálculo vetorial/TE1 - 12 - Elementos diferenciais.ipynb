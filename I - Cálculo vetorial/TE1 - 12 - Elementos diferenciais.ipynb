{
 "cells": [
  {
   "cell_type": "markdown",
   "id": "4bebc9c3",
   "metadata": {},
   "source": [
    "# Elementos diferenciais de comprimento, área e volume"
   ]
  },
  {
   "cell_type": "markdown",
   "id": "ae6836d8",
   "metadata": {},
   "source": [
    "As leis do eletromagnetismo são escritas em termos de integrais geométricas. Essas integrais contém diferenciais que possuem um significado geométrico bem definido. Para aplicar corretamente as leis, é necessário compreender esses elementos."
   ]
  },
  {
   "cell_type": "markdown",
   "id": "338cfb21",
   "metadata": {},
   "source": [
    "## Em coordenadas cartesianas\n",
    "\n",
    "### Elemento diferencial de comprimento\n",
    "\n",
    "$$\n",
    "\\begin{align}\n",
    "    d\\mathbf{l} &= dx\\,\\mathbf{a}_x+dy\\,\\mathbf{a}_y+dz\\,\\mathbf{a}_z\n",
    "\\end{align}\n",
    "$$\n",
    "\n",
    "Este é um elemento vetorial que usamos para designar um pequeno segmento linear. Pode ser usado para representar um pedaço de um fio, cabo, ou semelhante. Note que ele é um vetor e pode possuir componentes em todas as direções."
   ]
  },
  {
   "cell_type": "markdown",
   "id": "1d92e9d0",
   "metadata": {},
   "source": [
    "### Diferencial de área\n",
    "\n",
    "Podemos ter três diferentes diferenciais de área. Todas elas representam um retângulo infinitesimal, mas dependendo da orientação dele, a representação é diferente.\n",
    "\n",
    "$$\n",
    "\\begin{align}\n",
    "    d\\mathbf{S} &= dydz\\,\\mathbf{a}_x \\text{ ou: }\\\\\n",
    "    d\\mathbf{S} &= dxdz\\,\\mathbf{a}_y \\text{ ou: }\\\\\n",
    "    d\\mathbf{S} &= dxdy\\,\\mathbf{a}_z\n",
    "\\end{align}\n",
    "$$\n",
    "\n",
    "Repare que a estrutura é a mesma em todos os casos: duas diferenciais de duas direções para formar a \"magnitude\" e um vetor unitário na direção diferente das áreas para designar a direção. \n",
    "\n",
    "<p align=\"center\">\n",
    "    <img src=\"Fig3.2.svg\">\n",
    "</p>\n",
    "   "
   ]
  },
  {
   "cell_type": "markdown",
   "id": "a2367eb6",
   "metadata": {},
   "source": [
    "Um elemento diferencial de área arbitrário pode ser definido como $d\\mathbf{S} = dS\\,\\mathbf{a}_n$, onde $dS$ é a diferencial de área e $\\mathbf{a}_n$ é o vetor unitário perpendicular à superfície do elemento (i.e. ao plano tangente à superfície). "
   ]
  },
  {
   "cell_type": "markdown",
   "id": "8e083f7a",
   "metadata": {},
   "source": [
    "### Diferencial de volume\n",
    "\n",
    "$$\n",
    "\\begin{align}\n",
    "    dV = dx\\,dy\\,dz\n",
    "\\end{align}\n",
    "$$\n",
    "\n",
    "Há apenas um tipo de elemento de volume e ele é escalar. Ele representa um prisma retangular infinitesimal de dimensões $dx$, $dy$ e $dz$. "
   ]
  },
  {
   "cell_type": "markdown",
   "id": "204260a8",
   "metadata": {},
   "source": [
    "## Em coordenadas cilíndricas\n",
    "\n",
    "Os mesmos elementos apresentados anteriormente, comprimento, área e volume são apresentados agora em coordenadas cilíndricas."
   ]
  },
  {
   "cell_type": "markdown",
   "id": "2b5111f2",
   "metadata": {},
   "source": [
    "### Comprimento\n",
    "\n",
    "$$\n",
    "\\begin{align}\n",
    "    d\\mathbf{l} &= d\\rho \\,\\mathbf{a}_\\rho + \\rho d\\phi \\,\\mathbf{a}_\\phi + dz \\,\\mathbf{a}_z\n",
    "\\end{align}\n",
    "$$\n",
    "\n",
    "Note que as grandezas angulares são adimensionais, então para compor alguma grandeza física, elas sempre precisam ser multiplicadas por alguma outra grandeza dimensional. No caso, como o resultado é comprimento, a diferencial de  ângulo $d\\phi$ precisa ser multiplicada pela grandeza de comprimento $\\rho$. "
   ]
  },
  {
   "cell_type": "markdown",
   "id": "376f1e71",
   "metadata": {},
   "source": [
    "### Área\n",
    "\n",
    "$$\n",
    "\\begin{align}\n",
    "    d\\mathbf{S} &=\\left\\{\\begin{array}{c}\n",
    "        \\rho\\, d\\phi dz\\, \\mathbf{a}_\\rho\\\\\n",
    "        d\\rho\\, dz\\, \\mathbf{a}_\\phi\\\\\n",
    "        \\rho\\, d\\rho\\, d\\phi\\, \\mathbf{a}_z\n",
    "    \\end{array}\\right.\n",
    "\\end{align}\n",
    "$$\n",
    "\n",
    "Interpretação geométrica:\n",
    "<p align=\"center\">\n",
    "    <img src=\"Fig3.4.svg\">\n",
    "</p>"
   ]
  },
  {
   "cell_type": "markdown",
   "id": "3eb48b7f",
   "metadata": {},
   "source": [
    "### Volume\n",
    "\n",
    "$$\n",
    "\\begin{align}\n",
    "    dv &= \\rho \\,d\\rho \\,d\\phi \\,dz\n",
    "\\end{align}\n",
    "$$"
   ]
  },
  {
   "cell_type": "markdown",
   "id": "75ea9bb3",
   "metadata": {},
   "source": [
    "## Coordenadas esféricas"
   ]
  },
  {
   "cell_type": "markdown",
   "id": "26edf0df",
   "metadata": {},
   "source": [
    "### Comprimento\n",
    "\n",
    "$$\n",
    "\\begin{align}\n",
    "d\\mathbf{l} &= dr\\,\\mathbf{a}_r + r\\,d\\theta\\,\\mathbf{a}_\\theta + r\\,\\sin \\theta\\, d\\phi \\, \\mathbf{a}_\\phi\n",
    "\\end{align}\n",
    "$$"
   ]
  },
  {
   "cell_type": "markdown",
   "id": "373f9e9f",
   "metadata": {},
   "source": [
    "### Área\n",
    "\n",
    "$$\n",
    "\\begin{align}\n",
    "    d\\mathbf{S} &=\\left\\{\\begin{array}{c}\n",
    "        r^2\\, \\sin \\theta d\\theta\\, d\\phi\\, \\mathbf{a}_r\\\\\n",
    "        r\\,\\sin \\theta\\, dr\\, d\\phi\\, \\mathbf{a}_\\theta\\\\\n",
    "        r\\, dr\\, d\\theta\\, \\mathbf{a}_\\phi\n",
    "    \\end{array}\\right.\n",
    "\\end{align}\n",
    "$$\n",
    "\n",
    "Interpretação geométrica:\n",
    "<p align=\"center\">\n",
    "    <img src=\"Fig3.6.svg\">\n",
    "</p>"
   ]
  },
  {
   "cell_type": "markdown",
   "id": "dc1b2dfb",
   "metadata": {},
   "source": [
    "### Volume\n",
    "\n",
    "$$\n",
    "\\begin{align}\n",
    "    dv = r^2 \\,\\sin \\theta \\, dr\\, d\\theta\\, d\\phi\n",
    "\\end{align}\n",
    "$$"
   ]
  },
  {
   "cell_type": "markdown",
   "id": "ce7571b8",
   "metadata": {},
   "source": [
    "**Exemplo 3.1** - Considere o objeto da figura 3.7. Calcule:  \n",
    "(a) O comprimento BC  \n",
    "(b) O comprimento CD  \n",
    "(c) A área da superfície ABCD  \n",
    "(d) A área da superfície ABO  \n",
    "(e) A área da superfície AOFD  \n",
    "(f) O volume ABDCFO\n",
    "\n",
    "<p align=\"center\">\n",
    "    <img src=\"Fig3.7.svg\">\n",
    "</p>\n"
   ]
  },
  {
   "cell_type": "markdown",
   "id": "9de0850b",
   "metadata": {},
   "source": [
    "**Solução**\n",
    "\n",
    "Note que apesar das coordenadas terem sido dadas no sistema cartesiano, a figura representa o corte de um quarto de cilindro. Portanto, parece lógico resolver o problema em coordenadas cilíndricas. Assim, começamos convertendo todos os pontos para coordenadas cilíndricas."
   ]
  },
  {
   "cell_type": "code",
   "execution_count": 2,
   "id": "19eb0ac1",
   "metadata": {
    "code_folding": [
     0
    ]
   },
   "outputs": [],
   "source": [
    "# Imports\n",
    "import sympy as sp\n",
    "from IPython.display import display, Math"
   ]
  },
  {
   "cell_type": "code",
   "execution_count": 3,
   "id": "a78abb87",
   "metadata": {
    "code_folding": [
     0
    ]
   },
   "outputs": [],
   "source": [
    "# Função para converter coordenadas cartesianas para cilíndricas\n",
    "def cart_cili(P):\n",
    "    x = P[0]\n",
    "    y = P[1]\n",
    "    z = P[2]\n",
    "    rho = sp.sqrt(x**2+y**2)\n",
    "    phi = sp.atan2(y,x)\n",
    "    return sp.Matrix([rho, phi, z]).T"
   ]
  },
  {
   "cell_type": "code",
   "execution_count": 10,
   "id": "eb12e98d",
   "metadata": {
    "scrolled": false
   },
   "outputs": [],
   "source": [
    "A = [5,0,0]\n",
    "B = [0,5,0]\n",
    "C = [0,5,10]\n",
    "D = [5,0,10]\n",
    "Acil = cart_cili(A)\n",
    "Bcil = cart_cili(B)\n",
    "Ccil = cart_cili(C)\n",
    "Dcil = cart_cili(D)"
   ]
  },
  {
   "cell_type": "markdown",
   "id": "e29bb2f1",
   "metadata": {
    "variables": {
     "cart_cili(A)": "$\\displaystyle \\left[\\begin{matrix}5 & 0 & 0\\end{matrix}\\right]$",
     "cart_cili(B)": "$\\displaystyle \\left[\\begin{matrix}5 & \\frac{\\pi}{2} & 0\\end{matrix}\\right]$",
     "cart_cili(C)": "$\\displaystyle \\left[\\begin{matrix}5 & \\frac{\\pi}{2} & 10\\end{matrix}\\right]$",
     "cart_cili(D)": "$\\displaystyle \\left[\\begin{matrix}5 & 0 & 10\\end{matrix}\\right]$"
    }
   },
   "source": [
    " ${A}_{\\text{cil}} =${{cart_cili(A)}}  \n",
    " ${B}_{\\text{cil}} =${{cart_cili(B)}}  \n",
    " ${C}_{\\text{cil}} =${{cart_cili(C)}}  \n",
    " ${D}_{\\text{cil}} =${{cart_cili(D)}}"
   ]
  },
  {
   "cell_type": "markdown",
   "id": "f21687db",
   "metadata": {},
   "source": [
    "(a) No caminho BC (já em coordenadas cilíndricas), $\\rho$ e $\\phi$ são constantes, portanto, temos apenas variação em $z$. O elemento de comprimento é apenas $d\\mathbf{l} = dz\\, \\mathbf{a}_z$. \n",
    "\n",
    "Como temos apenas uma direção e temos interesse apenas na magnitude, podemos desconsiderar o vetor unitário, então podemos apenas escrever $dl = dz$\n",
    "\n",
    "O comprimento de uma linha é dado pela soma de todos os elementos diferenciais sobre a mesma. Matematicamente isso é escrito:\n",
    "\n",
    "$$\n",
    "\\begin{align}\n",
    "    BC &= \\int_{L} dl\n",
    "\\end{align}\n",
    "$$\n",
    "\n",
    "No caso, o caminho $L$ é a linha reta entre os pontos $B$ e $C$. Então, usando os limites e a diferencial estabelecida:\n",
    "\n",
    "$$\n",
    "\\begin{align}\n",
    "    BC &= \\int_{0}^{10} dz =  z \\biggm |_{0}^{10} = 10 - 0 = 10\n",
    "\\end{align}\n",
    "$$\n"
   ]
  },
  {
   "cell_type": "code",
   "execution_count": 11,
   "id": "3dd5d547",
   "metadata": {
    "code_folding": [
     0
    ]
   },
   "outputs": [
    {
     "data": {
      "text/latex": [
       "$\\displaystyle BC = \\int_{0}^{10} dz = 10$"
      ],
      "text/plain": [
       "<IPython.core.display.Math object>"
      ]
     },
     "metadata": {},
     "output_type": "display_data"
    }
   ],
   "source": [
    "# Resolve usando matemática simbólica\n",
    "phi = sp.symbols(r'\\phi')\n",
    "rho = sp.symbols(r'\\rho')\n",
    "z = sp.symbols('z')\n",
    "BC = sp.integrate(1,(z,Bcil[2],Ccil[2]))\n",
    "display(Math(r'BC = \\int_{0}^{10} dz = ' + sp.latex(BC)))"
   ]
  },
  {
   "cell_type": "markdown",
   "id": "1984695c",
   "metadata": {},
   "source": [
    "(b) O caminho $CD$ é um arco de círculo. Ao longo dele, $\\rho=5$ é constante, assim como $z=10$. Em contrapartida $\\phi$ começa em $\\pi/2$ e termina em $0$. O elemento de comprimento possui apenas uma componente (tangencial) ao longo do arco, ou seja $d\\mathbf{l} = -\\rho\\,d\\phi \\, \\mathbf{a}_\\rho$. O sinal de $-$ indica apenas que o percurso é feito contrário ao sentido convencional de $\\mathbf{a}_\\rho$. Em termos de magnitude, temos apenas $dl = -\\rho \\, d\\phi$. Desta forma:"
   ]
  },
  {
   "cell_type": "code",
   "execution_count": 6,
   "id": "5489c90c",
   "metadata": {
    "code_folding": [
     0
    ]
   },
   "outputs": [
    {
     "data": {
      "text/latex": [
       "$\\displaystyle CD = \\int_{\\pi/2}^{0} -5\\, d\\phi = \\frac{5 \\pi}{2}$"
      ],
      "text/plain": [
       "<IPython.core.display.Math object>"
      ]
     },
     "metadata": {},
     "output_type": "display_data"
    }
   ],
   "source": [
    "# Calcula o integrando e depois a integral\n",
    "integrando = (-rho).subs(rho,5)\n",
    "CD = sp.integrate(integrando, (phi,sp.pi/2, 0))\n",
    "display(Math(r'CD = \\int_{\\pi/2}^{0} -5\\, d\\phi = ' + sp.latex(CD)))"
   ]
  },
  {
   "cell_type": "markdown",
   "id": "1b99fc8f",
   "metadata": {},
   "source": [
    "(c) A área solicitada corresponde à superfície lateral do objeto. Para calcular, definimos o elemento diferencial e somamos tudo ao longo da área. \n",
    "\n",
    "A direção da área corresponde à direção radial $\\mathbf{a}_\\rho$, portanto o elemento de área é $d\\mathbf{S} = \\rho\\,d\\phi\\, dz\\, \\mathbf{a}_\\rho$. Note que em toda esta área $\\rho=5$ (confira nos pontos A, B, C, D), enquanto temos variação em $z$ (de $0$ a $10$) e $\\phi$ ($0$ a $\\pi/2$). Assim: "
   ]
  },
  {
   "cell_type": "code",
   "execution_count": 7,
   "id": "84eddbb9",
   "metadata": {
    "code_folding": [
     0
    ]
   },
   "outputs": [
    {
     "data": {
      "text/latex": [
       "$\\displaystyle ABCD = \\int_S dS = \\int_{0}^{\\pi/2}\\int_{0}^{10} \\rho\\, d\\phi dz = 25 \\pi$"
      ],
      "text/plain": [
       "<IPython.core.display.Math object>"
      ]
     },
     "metadata": {},
     "output_type": "display_data"
    }
   ],
   "source": [
    "# Calcula a integral de superfície\n",
    "dS = rho.subs(rho,5)\n",
    "ABCD = sp.integrate(dS, (phi,0,sp.pi/2), (z,0,10))\n",
    "display(Math(r'ABCD = \\int_S dS = \\int_{0}^{\\pi/2}\\int_{0}^{10} \\rho\\, d\\phi dz = '+ sp.latex(ABCD)))"
   ]
  },
  {
   "cell_type": "markdown",
   "id": "d0b880b0",
   "metadata": {},
   "source": [
    "(d)  A superfície ABO é o \"fundo\" do objeto, cuja direção é $-\\mathbf{a}_z$. Assim o elemento de área é $d\\mathbf{S} = -\\rho\\, d\\rho\\, d\\phi\\, \\mathbf{a}_z$. Na área delimitada, $z$ é constante, mas $\\rho$ varia de $0$ a $5$ e $\\phi$ de $0$ a $\\pi/2$. Novamente, podemos desprezar o sinal de $-$ na diferencial haja vista que estamos interessados apenas na magnitude. Assim:"
   ]
  },
  {
   "cell_type": "code",
   "execution_count": 16,
   "id": "2aab4443",
   "metadata": {
    "code_folding": [
     0
    ],
    "run_control": {
     "marked": false
    }
   },
   "outputs": [
    {
     "data": {
      "text/latex": [
       "$\\displaystyle ABO = \\int_S dS = \\int\\limits_{0}^{\\frac{\\pi}{2}}\\int\\limits_{0}^{5} \\rho\\, d\\rho\\, d\\phi = \\frac{25 \\pi}{4}$"
      ],
      "text/plain": [
       "<IPython.core.display.Math object>"
      ]
     },
     "metadata": {},
     "output_type": "display_data"
    }
   ],
   "source": [
    "# Integral para ABO\n",
    "dS = rho\n",
    "ABO = sp.Integral(rho,(rho,0,5),(phi,0,sp.pi/2))\n",
    "display(Math(r'ABO = \\int_S dS = ' + sp.latex(ABO) + ' = ' + sp.latex(ABO.doit())))"
   ]
  },
  {
   "cell_type": "markdown",
   "id": "b44b47c7",
   "metadata": {},
   "source": [
    "(e)  $AOFD$. $dS = d\\rho dz$, com $\\phi = 0$. "
   ]
  },
  {
   "cell_type": "code",
   "execution_count": 15,
   "id": "79527128",
   "metadata": {
    "code_folding": [
     0
    ]
   },
   "outputs": [
    {
     "data": {
      "text/latex": [
       "$\\displaystyle AOFD = \\int_S dS = \\int\\limits_{0}^{10}\\int\\limits_{0}^{5} 1\\, d\\rho\\, dz = 50$"
      ],
      "text/plain": [
       "<IPython.core.display.Math object>"
      ]
     },
     "metadata": {},
     "output_type": "display_data"
    }
   ],
   "source": [
    "# Área AOFD\n",
    "AOFD = sp.Integral(1,(rho,0,5),(z,0,10))\n",
    "display(Math(r'AOFD = \\int_S dS = ' + sp.latex(AOFD) + ' = ' + sp.latex(AOFD.doit())))"
   ]
  },
  {
   "cell_type": "markdown",
   "id": "e712940c",
   "metadata": {},
   "source": [
    "(f)  Para o volume, temos apenas uma diferencial possível: $dv = \\rho\\, d\\rho\\, d\\phi\\, dz$. O volume é encerrado quando escursionamos o raio de $0$ até $5$, o ângulo de $0$ a $\\pi/2$ e a altura de $0$ a $10$. Então:"
   ]
  },
  {
   "cell_type": "code",
   "execution_count": 17,
   "id": "9152d857",
   "metadata": {
    "code_folding": [
     0
    ]
   },
   "outputs": [
    {
     "data": {
      "text/latex": [
       "$\\displaystyle ABDCFO = \\int_V dv = \\int\\limits_{0}^{10}\\int\\limits_{0}^{\\frac{\\pi}{2}}\\int\\limits_{0}^{5} \\rho\\, d\\rho\\, d\\phi\\, dz = \\frac{125 \\pi}{2}$"
      ],
      "text/plain": [
       "<IPython.core.display.Math object>"
      ]
     },
     "metadata": {},
     "output_type": "display_data"
    }
   ],
   "source": [
    "# Volume\n",
    "dv = rho\n",
    "ABDCFO = sp.Integral(dv,(rho,0,5),(phi,0,sp.pi/2),(z,0,10))\n",
    "display(Math(r'ABDCFO = \\int_V dv = ' + sp.latex(ABDCFO) + ' = ' + sp.latex(ABDCFO.doit())))"
   ]
  }
 ],
 "metadata": {
  "kernelspec": {
   "display_name": "Python 3 (ipykernel)",
   "language": "python",
   "name": "python3"
  },
  "language_info": {
   "codemirror_mode": {
    "name": "ipython",
    "version": 3
   },
   "file_extension": ".py",
   "mimetype": "text/x-python",
   "name": "python",
   "nbconvert_exporter": "python",
   "pygments_lexer": "ipython3",
   "version": "3.11.1"
  }
 },
 "nbformat": 4,
 "nbformat_minor": 5
}
