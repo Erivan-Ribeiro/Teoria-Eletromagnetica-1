{
 "cells": [
  {
   "attachments": {},
   "cell_type": "markdown",
   "id": "a2243965",
   "metadata": {},
   "source": [
    "*Macros*\n",
    "$\\newcommand{\\ax}{\\mathbf{a}_x}$\n",
    "$\\newcommand{\\ay}{\\mathbf{a}_y}$\n",
    "$\\newcommand{\\az}{\\mathbf{a}_z}$\n",
    "$\\newcommand{\\arho}{\\mathbf{a}_\\rho}$\n",
    "$\\newcommand{\\ap}{\\mathbf{a}_\\phi}$\n",
    "$\\newcommand{\\ar}{\\mathbf{a}_r}$\n",
    "$\\newcommand{\\at}{\\mathbf{a}_\\theta}$\n",
    "$\\newcommand{\\grad}[1]{\\nabla #1}$\n",
    "$\\renewcommand{\\div}[1]{\\mathbf{\\nabla} \\cdot \\mathbf{#1}}$\n",
    "$\\newcommand{\\rot}[1]{\\mathbf{\\nabla} \\times \\mathbf{#1}}$\n",
    "$\\newcommand{\\parcial}[2]{\\frac{\\partial #1}{\\partial #2}}$"
   ]
  },
  {
   "cell_type": "markdown",
   "id": "b25518e0",
   "metadata": {},
   "source": [
    "# Rotacional de um vetor"
   ]
  },
  {
   "cell_type": "markdown",
   "id": "27ae18f6",
   "metadata": {},
   "source": [
    "Anteriormente definimos a circulação de um campo $\\mathbf{A}$ ao redor de um caminho fechado $L$ como a integral $\\oint_{L} \\mathbf{A}\\cdot d \\mathbf{l}$. \n",
    "\n",
    "Lembre-se que um caminho fechado define uma superfície no espaço. \n",
    "\n",
    "O rotacional de $\\mathbf{A}$ é um vetor axial (ou rotacional) cuja magnitude é igual à máxima circulação de $\\mathbf{A}$ por unidade de área, à medida que a área tende a zero e cuja direção é normal (perpendicular) à direção da área, quando a mesma é orientada a promover máxima circulação.\n",
    "$$\n",
    "\\begin{align}\n",
    "    \\text{rot }\\mathbf{A} = \\rot{A} = \\lim_{\\Delta S\\rightarrow 0} \\frac{\\displaystyle\\oint_L \\mathbf{A}\\cdot d\\mathbf{l}}{\\Delta S}\\,\\mathbf{a}_n\n",
    "\\end{align}\n",
    "$$"
   ]
  },
  {
   "cell_type": "markdown",
   "id": "3055113d",
   "metadata": {},
   "source": [
    "O rotacional do campo vetorial $\\mathbf{A}$ em um determinado ponto representa o quanto o campo \"se enrosca\" em torno do do ponto. Um campo que não possui percursos fechados possui rotacional zero. "
   ]
  },
  {
   "attachments": {},
   "cell_type": "markdown",
   "id": "ec26f94d",
   "metadata": {},
   "source": [
    "Rotacional em coordenadas cartesianas:\n",
    "$$\n",
    "\\begin{align}\n",
    "    \\rot{A} &= \\left[\\parcial{A_z}{y}-\\parcial{A_y}{z}\\right]\\ax+ \\left[\\parcial{A_x}{z}-\\parcial{A_z}{x}\\right]\\ay+\\left[\\parcial{A_y}{x}-\\parcial{A_x}{y}\\right]\\az\\\\\n",
    "    &= \\left|\\begin{array}{ccc} \\ax & \\ay & \\az\\\\ \\parcial{}{x} & \\parcial{}{y} & \\parcial{}{z}\\\\ A_x &A_y & A_z\\end{array}\\right|\n",
    "\\end{align}\n",
    "$$\n",
    "\n",
    "Em coordenadas cilíndricas:\n",
    "$$\n",
    "\\begin{align}\n",
    "    \\rot{A} = \\frac{1}{\\rho}\\,\\left|\\begin{array}{ccc} \\arho & \\rho\\ap & \\az\\\\ \n",
    "    \\parcial{}{\\rho} & \\parcial{}{\\phi} & \\parcial{}{z}\\\\ \n",
    "    A_\\rho & \\rho A_\\phi & A_z\\end{array}\\right|\n",
    "\\end{align}\n",
    "$$\n",
    "\n",
    "Em coordenadas esféricas:\n",
    "$$\n",
    "\\begin{align}\n",
    "    \\rot{A} = \\frac{1}{r^2\\sin\\theta}\\,\\left|\\begin{array}{ccc} \\ar & r\\,\\at & r\\sin\\theta\\,\\ap\\\\ \n",
    "    \\parcial{}{r} & \\parcial{}{\\theta} & \\parcial{}{\\phi}\\\\ \n",
    "    A_r & \\rho rA_\\theta & r\\sin\\theta\\,A_\\phi\\end{array}\\right|\n",
    "\\end{align}\n",
    "$$\n",
    "\n",
    "**Observações**  \n",
    "- O rotacional de um vetor produz um outro vetor\n",
    "- $\\rot{(A+B)} = \\rot{A}+\\rot{B}$  \n",
    "- $\\rot{(V\\mathbf{A})} = V\\rot{A}+\\grad{V}\\times \\mathbf{A}$\n",
    "- $\\div{(\\rot{A})}=0$\n",
    "- $\\rot{\\grad{V}}= \\mathbf{0}$"
   ]
  },
  {
   "cell_type": "markdown",
   "id": "3595d232",
   "metadata": {},
   "source": [
    "## Teorema de Stokes"
   ]
  },
  {
   "cell_type": "markdown",
   "id": "857c9696",
   "metadata": {},
   "source": [
    "A circulação de um vetor $\\mathbf{A}$ ao redor de um caminho fechado $L$ é igual à integral de superfície do rotacional de $\\mathbf{A}$ sobre a superfície (aberta) delimitada pelo percurso $L$ (supondo $\\mathbf{A}$ e $\\rot{A}$ contínuos em $S$).\n",
    "$$\n",
    "\\begin{align}\n",
    "    \\oint_L \\mathbf{A}\\cdot d\\mathbf{l} = \\int_S (\\rot{A})\\cdot d\\mathbf{S}\n",
    "\\end{align}\n",
    "$$"
   ]
  },
  {
   "cell_type": "markdown",
   "id": "3d83666c",
   "metadata": {},
   "source": [
    "**Exemplo 3.8:** Determine o rotacional dos campos do exemplo 3.6  \n",
    "(a) $\\mathbf{P} = x^2yz\\,\\ax+xz\\,\\az$  \n",
    "(b) $\\mathbf{Q} = \\rho \\,\\sin\\phi\\,\\arho+\\rho^2z\\,\\ap+z\\cos\\phi \\,\\az$  \n",
    "(c) $\\mathbf{T} = \\displaystyle\\frac{\\cos\\theta}{r^2}\\,\\ar+r\\, \\sin \\theta\\, \\cos \\phi\\, \\at+\\cos \\theta\\, \\ap$"
   ]
  },
  {
   "cell_type": "code",
   "execution_count": null,
   "id": "f6fcfedd",
   "metadata": {},
   "outputs": [],
   "source": []
  },
  {
   "cell_type": "markdown",
   "id": "609e4967",
   "metadata": {},
   "source": [
    "**Exemplo 3.9:** Se $\\mathbf{A}=\\rho\\, \\cos \\phi\\, \\arho+\\sin\\phi \\,\\ap$, avalie a circulação de $\\mathbf{A}$ ao redor do caminho ilustrado na Fig.3.23. Confirme o resultado pelo teorema de Stokes. \n",
    "\n",
    "<p align=\"center\">\n",
    "    <img src=\"Fig3.23.svg\">\n",
    "</p>"
   ]
  },
  {
   "cell_type": "code",
   "execution_count": null,
   "id": "b5e26632",
   "metadata": {},
   "outputs": [],
   "source": []
  }
 ],
 "metadata": {
  "kernelspec": {
   "display_name": "Python 3 (ipykernel)",
   "language": "python",
   "name": "python3"
  },
  "language_info": {
   "codemirror_mode": {
    "name": "ipython",
    "version": 3
   },
   "file_extension": ".py",
   "mimetype": "text/x-python",
   "name": "python",
   "nbconvert_exporter": "python",
   "pygments_lexer": "ipython3",
   "version": "3.11.1"
  }
 },
 "nbformat": 4,
 "nbformat_minor": 5
}
