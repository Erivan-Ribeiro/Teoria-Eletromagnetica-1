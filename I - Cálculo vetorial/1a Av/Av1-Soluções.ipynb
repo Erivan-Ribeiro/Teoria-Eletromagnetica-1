{
 "cells": [
  {
   "attachments": {},
   "cell_type": "markdown",
   "metadata": {},
   "source": [
    "### 1a Avaliação - Teoria Eletromagnética - 2023.2\n",
    "\n",
    "$\\newcommand{\\ax}{\\mathbf{a}_x}$\n",
    "$\\newcommand{\\ay}{\\mathbf{a}_y}$\n",
    "$\\newcommand{\\az}{\\mathbf{a}_z}$\n",
    "$\\newcommand{\\arho}{\\mathbf{a}_\\rho}$\n",
    "$\\newcommand{\\ap}{\\mathbf{a}_\\phi}$\n",
    "$\\newcommand{\\ar}{\\mathbf{a}_r}$\n",
    "$\\newcommand{\\at}{\\mathbf{a}_\\theta}$\n",
    "$\\newcommand{\\grad}[1]{\\nabla #1}$\n",
    "$\\renewcommand{\\div}[1]{\\mathbf{\\nabla} \\cdot \\mathbf{#1}}$\n",
    "$\\newcommand{\\rot}[1]{\\mathbf{\\nabla} \\times \\mathbf{#1}}$\n",
    "$\\newcommand{\\parcial}[2]{\\frac{\\partial #1}{\\partial #2}}$"
   ]
  },
  {
   "attachments": {},
   "cell_type": "markdown",
   "metadata": {},
   "source": [
    "*Informe na célula de código abaixo os dados do seu número de matrícula:* \n",
    "- *ano de entrada: 4 primeiros dígitos*\n",
    "- *posição: 4 últimos dígitos, removendo zeros à esquerda.*   \n",
    "\n",
    "*Exemplo: se o seu número é **2014**3394**0099**, então use:\n",
    "ano = 2014 e mat = 99*"
   ]
  },
  {
   "cell_type": "code",
   "execution_count": 1,
   "metadata": {},
   "outputs": [],
   "source": [
    "# Informe aqui o seu ano de entrada\n",
    "ano = 2000\n",
    "# Informe o número correspondente aos 4 últimos dígitos da sua matrícula\n",
    "mat = 99\n",
    "# Agora execute o notebook inteiro."
   ]
  },
  {
   "attachments": {},
   "cell_type": "markdown",
   "metadata": {},
   "source": [
    "*Depois de informar os dados, execute o arquivo inteiro, para gerar as questões. Caso ocorra algum erro, peça ajuda ao professor*\n",
    "\n",
    "*Resolva as questões abaixo, **justificando** todas as respostas. Utilize markdown para escrever texto e Python para fazer as contas.*\n",
    "\n",
    "*O exame é individual. É permitido consulta a material pessoal*"
   ]
  },
  {
   "cell_type": "code",
   "execution_count": 2,
   "metadata": {},
   "outputs": [],
   "source": [
    "# \n",
    "# Não modifique esta célula! Você pode comprometer a sua avaliação.\n",
    "from numpy.random import RandomState\n",
    "from IPython.display import display, Math\n",
    "from sympy import symbols, sin, cos, latex\n",
    "from sympy import ImmutableMatrix as matriz\n",
    "from numpy import arange\n",
    "rng = RandomState(ano+mat)\n",
    "dig = arange(-9,10)\n",
    "dig = dig[dig!=0]\n",
    "n = rng.randint(0,dig.size,20)\n",
    "#n = randint(0,dig.size,20)\n",
    "x,y,z,rho,phi,r,theta = symbols(['x','y','z','rho','phi','r','theta'])\n",
    "def expr(coef, X, a):\n",
    "    termo = ['','','']\n",
    "    for i in range(3):\n",
    "        if coef[i]==0:\n",
    "            termo[i]= ''\n",
    "        else:\n",
    "            if i==0:\n",
    "                if coef[i]==1:\n",
    "                    sinal = ''\n",
    "                    numero = 1\n",
    "                elif coef[i]==-1:\n",
    "                    sinal = '-'\n",
    "                    numero = 1\n",
    "                elif coef[i]>0:\n",
    "                    sinal = ''\n",
    "                    numero = abs(coef[i])\n",
    "                else:\n",
    "                    sinal = '-'\n",
    "                    numero = abs(coef[i])    \n",
    "            else:\n",
    "                if coef[i]==1:\n",
    "                    sinal = '+'\n",
    "                    numero = 1\n",
    "                elif coef[i]==-1:\n",
    "                    sinal = '-'\n",
    "                    numero = 1\n",
    "                elif coef[i]>0:\n",
    "                    sinal = '+'\n",
    "                    numero = abs(coef[i])\n",
    "                else:\n",
    "                    sinal = '-'\n",
    "                    numero = abs(coef[i])\n",
    "        termo[i] = sinal + latex(numero*X[i]) + r'\\,' +a[i]\n",
    "    return (termo)\n",
    "def Q1():\n",
    "    F = matriz([rho**2*sin(phi), z*cos(phi), rho*z])\n",
    "    a = [r'\\mathbf{a}_{\\rho}', r'\\mathbf{a}_{\\phi}', r'\\mathbf{a}_{z}']\n",
    "    coef = dig[n[0:3]]\n",
    "    termos = expr(coef,F,a)\n",
    "    string = r'\\mathbf{F} = ' + ''.join(termos)\n",
    "    return display(Math(string))\n",
    "def Q2():\n",
    "    D = matriz([x, y, 1])\n",
    "    a = [r'\\mathbf{a}_{x}', r'\\mathbf{a}_{y}', r'\\mathbf{a}_{z}']\n",
    "    coef = dig[n[3:6]]\n",
    "    num = expr(coef,D,a)\n",
    "    num = ''.join(num)\n",
    "    den = r'x^2+y^2'\n",
    "    string = r'\\mathbf{D} = \\frac{' + num + '}{' + den + '}'\n",
    "    return display(Math(string))\n",
    "def Q3():\n",
    "    H = matriz([rho*sin(phi), z*rho*cos(phi), rho])\n",
    "    a = [r'\\mathbf{a}_{\\rho}', r'\\mathbf{a}_{\\phi}', r'\\mathbf{a}_{z}']\n",
    "    coef = dig[n[5:8]]\n",
    "    string = r'\\mathbf{H} = ' + ''.join(expr(coef,H,a))\n",
    "    return display(Math(string))\n",
    "def Q4():\n",
    "    coef = dig[n[8:14]]\n",
    "    G = matriz([x*y, coef[4]*x**2-coef[5]*y**2, x*z**2])\n",
    "    a = [r'\\mathbf{a}_{x}', r'\\mathbf{a}_{y}', r'\\mathbf{a}_{z}']\n",
    "    termos = expr(coef,G,a)\n",
    "    num = termos[0]+'+(' +latex(G[1])+')'+  a[1] + termos[2]\n",
    "    string = r'\\mathbf{G} = ' + num\n",
    "    return display(Math(string))\n"
   ]
  },
  {
   "attachments": {},
   "cell_type": "markdown",
   "metadata": {},
   "source": [
    "**(2 pts) - Questão 1.** *Dado o campo:*"
   ]
  },
  {
   "cell_type": "code",
   "execution_count": 3,
   "metadata": {},
   "outputs": [
    {
     "data": {
      "text/latex": [
       "$\\displaystyle \\mathbf{F} = 2 \\rho^{2} \\sin{\\left(\\phi \\right)}\\,\\mathbf{a}_{\\rho}+8 z \\cos{\\left(\\phi \\right)}\\,\\mathbf{a}_{\\phi}-6 \\rho z\\,\\mathbf{a}_{z}$"
      ],
      "text/plain": [
       "<IPython.core.display.Math object>"
      ]
     },
     "metadata": {},
     "output_type": "display_data"
    }
   ],
   "source": [
    "#\n",
    "Q1()"
   ]
  },
  {
   "attachments": {},
   "cell_type": "markdown",
   "metadata": {},
   "source": [
    "*Calcule o fluxo total gerado por este campo através de um cilindro de raio $5$ e altura 10, cuja base está em $z=-2$.* "
   ]
  },
  {
   "attachments": {},
   "cell_type": "markdown",
   "metadata": {},
   "source": [
    "**Solução**:"
   ]
  },
  {
   "attachments": {},
   "cell_type": "markdown",
   "metadata": {},
   "source": [
    "*A superfície é fechada, logo podemos usar o teorema da divergência. Para isso, precisamos achar: a divergência do campo e o volume sobre o qual vamos integrar*\n",
    "\n",
    "$$\n",
    "    \\oint_S \\mathbf{F}\\cdot d\\mathbf{S} = \\int_v \\nabla \\cdot \\mathbf{F}\\,dv\n",
    "$$"
   ]
  },
  {
   "cell_type": "code",
   "execution_count": 4,
   "metadata": {},
   "outputs": [],
   "source": [
    "from sympy import ImmutableMatrix as matriz\n",
    "from sympy import sin, cos, Integral,pi\n",
    "import sympy as sp\n",
    "from IPython.display import display, Math\n",
    "rho, phi,z = sp.symbols(['rho','phi','z'])\n",
    "# Divergente em coord. cilíndricas\n",
    "def div_cil(A):\n",
    "    D = (1/rho)*sp.diff(rho*A[0],rho)+(1/rho)*sp.diff(A[1],phi)+sp.diff(A[2],z)\n",
    "    return D "
   ]
  },
  {
   "cell_type": "code",
   "execution_count": 5,
   "metadata": {},
   "outputs": [],
   "source": [
    "# Campo\n",
    "F = matriz([2*rho**2*sin(phi), 8*z*cos(phi), -6*rho*z])"
   ]
  },
  {
   "attachments": {},
   "cell_type": "markdown",
   "metadata": {},
   "source": [
    "*O elemento de volume é:* $dv = \\rho\\,d\\rho\\, d\\phi\\, dz$"
   ]
  },
  {
   "cell_type": "code",
   "execution_count": 6,
   "metadata": {},
   "outputs": [],
   "source": [
    "# Volume\n",
    "dv = rho # drho dphi dz"
   ]
  },
  {
   "attachments": {},
   "cell_type": "markdown",
   "metadata": {},
   "source": [
    "*Os limites de integração para esse volume são: $0\\leq \\rho \\leq 5$, $0\\leq\\phi\\leq 2\\pi$ e $-2\\leq z \\leq -2+10$"
   ]
  },
  {
   "cell_type": "code",
   "execution_count": 7,
   "metadata": {},
   "outputs": [],
   "source": [
    "lim = [(rho,0,5), (phi,0,2*pi), (z,-2,-2+10)]"
   ]
  },
  {
   "attachments": {},
   "cell_type": "markdown",
   "metadata": {},
   "source": [
    "*Com isso podemos calcular o fluxo:*"
   ]
  },
  {
   "cell_type": "code",
   "execution_count": 8,
   "metadata": {},
   "outputs": [
    {
     "data": {
      "text/latex": [
       "$\\displaystyle \\int\\limits_{-2}^{8}\\int\\limits_{0}^{2 \\pi}\\int\\limits_{0}^{5} \\rho \\left(6 \\rho \\sin{\\left(\\phi \\right)} - 6 \\rho - \\frac{8 z \\sin{\\left(\\phi \\right)}}{\\rho}\\right)\\, d\\rho\\, d\\phi\\, dz$"
      ],
      "text/plain": [
       "Integral(rho*(6*rho*sin(phi) - 6*rho - 8*z*sin(phi)/rho), (rho, 0, 5), (phi, 0, 2*pi), (z, -2, 8))"
      ]
     },
     "metadata": {},
     "output_type": "display_data"
    },
    {
     "data": {
      "text/latex": [
       "$\\displaystyle - 5000 \\pi$"
      ],
      "text/plain": [
       "-5000*pi"
      ]
     },
     "metadata": {},
     "output_type": "display_data"
    }
   ],
   "source": [
    "# Fluxo\n",
    "Fluxo = Integral(div_cil(F)*dv,lim[0],lim[1],lim[2])\n",
    "display(Fluxo)\n",
    "display(Fluxo.doit())"
   ]
  },
  {
   "attachments": {},
   "cell_type": "markdown",
   "metadata": {},
   "source": [
    "**(1 pt) - Questão 2.** *Expresse o campo:*"
   ]
  },
  {
   "cell_type": "code",
   "execution_count": 9,
   "metadata": {},
   "outputs": [
    {
     "data": {
      "text/latex": [
       "$\\displaystyle \\mathbf{D} = \\frac{-6 x\\,\\mathbf{a}_{x}-5 y\\,\\mathbf{a}_{y}-1\\,\\mathbf{a}_{z}}{x^2+y^2}$"
      ],
      "text/plain": [
       "<IPython.core.display.Math object>"
      ]
     },
     "metadata": {},
     "output_type": "display_data"
    }
   ],
   "source": [
    "#\n",
    "Q2()"
   ]
  },
  {
   "attachments": {},
   "cell_type": "markdown",
   "metadata": {},
   "source": [
    "*em coordenadas e componentes cilíndricas. Calcule $\\mathbf{D}$ no ponto cujas coordenadas cilíndricas são $(2,\\frac{\\pi}{5},5)$. Calcule também a projeção de $\\mathbf{D}$ neste ponto sobre o vetor $\\az-2\\arho$* "
   ]
  },
  {
   "attachments": {},
   "cell_type": "markdown",
   "metadata": {},
   "source": [
    "**Solução**:"
   ]
  },
  {
   "cell_type": "code",
   "execution_count": 10,
   "metadata": {},
   "outputs": [],
   "source": [
    "# Converte cartesianas para cilíndricas\n",
    "def vetor_cart2cil(Vcart):\n",
    "    cart2cil = [(x,rho*cos(phi)),(y,rho*sin(phi))  ]\n",
    "    # Componentes cartesianas para cilíndricas\n",
    "    ret2cil = sp.ImmutableMatrix([[cos(phi), sin(phi),0],\n",
    "                        [-sin(phi), cos(phi),0],\n",
    "                        [0,0,1]])\n",
    "    Vcil = ret2cil @ Vcart\n",
    "    Vcil = Vcil.subs(cart2cil).simplify()\n",
    "    return Vcil"
   ]
  },
  {
   "attachments": {},
   "cell_type": "markdown",
   "metadata": {},
   "source": [
    "*Campo cilíndrico*"
   ]
  },
  {
   "cell_type": "code",
   "execution_count": 11,
   "metadata": {},
   "outputs": [
    {
     "data": {
      "text/latex": [
       "$\\displaystyle \\left[\\begin{matrix}\\frac{\\sin^{2}{\\left(\\phi \\right)} - 6}{\\rho} & \\frac{\\sin{\\left(2 \\phi \\right)}}{2 \\rho} & - \\frac{1}{\\rho^{2}}\\end{matrix}\\right]$"
      ],
      "text/plain": [
       "Matrix([[(sin(phi)**2 - 6)/rho, sin(2*phi)/(2*rho), -1/rho**2]])"
      ]
     },
     "execution_count": 11,
     "metadata": {},
     "output_type": "execute_result"
    }
   ],
   "source": [
    "x,y,z = sp.symbols(['x', 'y', 'z'])\n",
    "P = [(rho, 2), (phi, pi/5), (z,5)]\n",
    "D = matriz([-6*x,-5*y,-1])/(x**2+y**2)\n",
    "Dcil = vetor_cart2cil(D)\n",
    "Dcil.T"
   ]
  },
  {
   "attachments": {},
   "cell_type": "markdown",
   "metadata": {},
   "source": [
    "*Campo no ponto*"
   ]
  },
  {
   "cell_type": "code",
   "execution_count": 12,
   "metadata": {},
   "outputs": [
    {
     "data": {
      "text/latex": [
       "$\\displaystyle \\left[\\begin{matrix}- \\frac{43}{16} - \\frac{\\sqrt{5}}{16}\\\\\\frac{\\sqrt{\\frac{\\sqrt{5}}{8} + \\frac{5}{8}}}{4}\\\\- \\frac{1}{4}\\end{matrix}\\right]$"
      ],
      "text/plain": [
       "Matrix([\n",
       "[    -43/16 - sqrt(5)/16],\n",
       "[sqrt(sqrt(5)/8 + 5/8)/4],\n",
       "[                   -1/4]])"
      ]
     },
     "metadata": {},
     "output_type": "display_data"
    },
    {
     "data": {
      "text/latex": [
       "$\\displaystyle \\left[\\begin{matrix}-2.827\\\\0.2378\\\\-0.25\\end{matrix}\\right]$"
      ],
      "text/plain": [
       "Matrix([\n",
       "[-2.827],\n",
       "[0.2378],\n",
       "[ -0.25]])"
      ]
     },
     "metadata": {},
     "output_type": "display_data"
    }
   ],
   "source": [
    "display(Dcil.subs(P))\n",
    "display(Dcil.subs(P).evalf(4))"
   ]
  },
  {
   "attachments": {},
   "cell_type": "markdown",
   "metadata": {},
   "source": [
    "*Projeção*"
   ]
  },
  {
   "cell_type": "code",
   "execution_count": 13,
   "metadata": {},
   "outputs": [
    {
     "data": {
      "text/latex": [
       "$\\displaystyle \\frac{\\sqrt{5}}{8} + \\frac{41}{8}$"
      ],
      "text/plain": [
       "sqrt(5)/8 + 41/8"
      ]
     },
     "metadata": {},
     "output_type": "display_data"
    },
    {
     "data": {
      "text/latex": [
       "$\\displaystyle 5.404$"
      ],
      "text/plain": [
       "5.404"
      ]
     },
     "metadata": {},
     "output_type": "display_data"
    }
   ],
   "source": [
    "v = matriz([-2,0,1])\n",
    "proj = Dcil.subs(P).dot(v)\n",
    "display(proj)\n",
    "display(proj.evalf(4))"
   ]
  },
  {
   "attachments": {},
   "cell_type": "markdown",
   "metadata": {},
   "source": [
    "**(1 pt) - Questão 3.** *Seja:*"
   ]
  },
  {
   "cell_type": "code",
   "execution_count": 14,
   "metadata": {},
   "outputs": [
    {
     "data": {
      "text/latex": [
       "$\\displaystyle \\mathbf{H} = -\\rho \\sin{\\left(\\phi \\right)}\\,\\mathbf{a}_{\\rho}-\\rho z \\cos{\\left(\\phi \\right)}\\,\\mathbf{a}_{\\phi}+\\rho\\,\\mathbf{a}_{z}$"
      ],
      "text/plain": [
       "<IPython.core.display.Math object>"
      ]
     },
     "metadata": {},
     "output_type": "display_data"
    }
   ],
   "source": [
    "#\n",
    "Q3()"
   ]
  },
  {
   "attachments": {},
   "cell_type": "markdown",
   "metadata": {},
   "source": [
    "*No ponto $P(2, 30^\\circ, -1)$, determine:*  \n",
    "*a) um vetor unitário ao longo de $\\mathbf{H}$*  \n",
    "*b) a componente de $\\mathbf{H}$ paralela à $\\ay$*  \n",
    "*c) a componente vetorial de $\\mathbf{H}$ tangencial à superfície $\\rho=2$*  "
   ]
  },
  {
   "attachments": {},
   "cell_type": "markdown",
   "metadata": {},
   "source": [
    "**Solução**:"
   ]
  },
  {
   "cell_type": "code",
   "execution_count": 15,
   "metadata": {},
   "outputs": [],
   "source": [
    "H = matriz([-rho*sin(phi), -rho*z*cos(phi), rho])\n",
    "P = [(rho, 2),(phi, pi/6),(z,-1)]"
   ]
  },
  {
   "cell_type": "code",
   "execution_count": 16,
   "metadata": {},
   "outputs": [
    {
     "data": {
      "text/latex": [
       "$\\displaystyle \\left[\\begin{matrix}- \\frac{\\sqrt{2}}{4}\\\\\\frac{\\sqrt{6}}{4}\\\\\\frac{\\sqrt{2}}{2}\\end{matrix}\\right]$"
      ],
      "text/plain": [
       "Matrix([\n",
       "[-sqrt(2)/4],\n",
       "[ sqrt(6)/4],\n",
       "[ sqrt(2)/2]])"
      ]
     },
     "metadata": {},
     "output_type": "display_data"
    },
    {
     "data": {
      "text/latex": [
       "$\\displaystyle \\left[\\begin{matrix}-0.3536\\\\0.6124\\\\0.7071\\end{matrix}\\right]$"
      ],
      "text/plain": [
       "Matrix([\n",
       "[-0.3536],\n",
       "[ 0.6124],\n",
       "[ 0.7071]])"
      ]
     },
     "metadata": {},
     "output_type": "display_data"
    }
   ],
   "source": [
    "# (a)\n",
    "v = H.subs(P)\n",
    "aH = v/v.norm()\n",
    "display(aH)\n",
    "display(aH.evalf(4))"
   ]
  },
  {
   "cell_type": "code",
   "execution_count": 17,
   "metadata": {},
   "outputs": [
    {
     "data": {
      "text/latex": [
       "$\\displaystyle \\mathbf{H}_{\\text{cart}} = \\left[\\begin{matrix}- \\sqrt{3}\\\\1\\\\2\\end{matrix}\\right]$"
      ],
      "text/plain": [
       "<IPython.core.display.Math object>"
      ]
     },
     "metadata": {},
     "output_type": "display_data"
    },
    {
     "data": {
      "text/latex": [
       "$\\displaystyle H_y = 1$"
      ],
      "text/plain": [
       "<IPython.core.display.Math object>"
      ]
     },
     "metadata": {},
     "output_type": "display_data"
    }
   ],
   "source": [
    "# (b)\n",
    "ret2cil = sp.Matrix([[sp.cos(phi), sp.sin(phi),0],\n",
    "                     [-sp.sin(phi), sp.cos(phi),0],\n",
    "                     [0,0,1]])\n",
    "cil2ret = ret2cil.inv()\n",
    "v_cart = (cil2ret @ v).subs(P)\n",
    "display(Math(r'\\mathbf{H}_{\\text{cart}} = ' + sp.latex(v_cart)))\n",
    "display(Math('H_y = ' + sp.latex(v_cart[1])))"
   ]
  },
  {
   "attachments": {},
   "cell_type": "markdown",
   "metadata": {},
   "source": [
    "(c) A componente de $\\mathbf{H}$ normal à superfície $\\rho=2$ é $\\mathbf{H}_p = H_\\rho \\arho$. A componente tangencial, então, será $\\mathbf{H}_t = \\mathbf{H}-\\mathbf{H}_p$"
   ]
  },
  {
   "cell_type": "code",
   "execution_count": 18,
   "metadata": {},
   "outputs": [
    {
     "data": {
      "text/latex": [
       "$\\displaystyle \\left[\\begin{matrix}0\\\\\\sqrt{3}\\\\2\\end{matrix}\\right]$"
      ],
      "text/plain": [
       "Matrix([\n",
       "[      0],\n",
       "[sqrt(3)],\n",
       "[      2]])"
      ]
     },
     "metadata": {},
     "output_type": "display_data"
    }
   ],
   "source": [
    "# (c)\n",
    "v_p = matriz([v[0],0,0])\n",
    "v_t = v - v_p\n",
    "display(v_t)"
   ]
  },
  {
   "attachments": {},
   "cell_type": "markdown",
   "metadata": {},
   "source": [
    "**(2 pts) - Questão 4.** *Calcule a integral de linha do campo:*"
   ]
  },
  {
   "cell_type": "code",
   "execution_count": 19,
   "metadata": {},
   "outputs": [
    {
     "data": {
      "text/latex": [
       "$\\displaystyle \\mathbf{G} = 9 x y\\,\\mathbf{a}_{x}+(4 x^{2} - 8 y^{2})\\mathbf{a}_{y}-x z^{2}\\,\\mathbf{a}_{z}$"
      ],
      "text/plain": [
       "<IPython.core.display.Math object>"
      ]
     },
     "metadata": {},
     "output_type": "display_data"
    }
   ],
   "source": [
    "#\n",
    "Q4()"
   ]
  },
  {
   "attachments": {},
   "cell_type": "markdown",
   "metadata": {},
   "source": [
    "*no percurso ABCDA, onde os vértices são os pontos:*\n",
    "- $A(0,0,3)$\n",
    "- $B(0,1,3)$\n",
    "- $C(2,1,3)$\n",
    "- $D(2,0,3)$"
   ]
  },
  {
   "attachments": {},
   "cell_type": "markdown",
   "metadata": {},
   "source": [
    "**Solução**:\n",
    "\n",
    "*Como o percurso é fechado, podemos usar o teorema de Stokes para calcular mais facilmente.*\n",
    "\n",
    "$$\n",
    "    \\oint_L \\mathbf{A}\\cdot d\\mathbf{L} = \\int_S \\rot{A}\\,d\\mathbf{S}\n",
    "$$"
   ]
  },
  {
   "cell_type": "code",
   "execution_count": 20,
   "metadata": {},
   "outputs": [],
   "source": [
    "# Rotacional em coordenadas cartesianas\n",
    "def rot_cart(A):\n",
    "    Ax = A[0]\n",
    "    Ay = A[1]\n",
    "    Az = A[2]\n",
    "    Rx = sp.diff(Az,y)-sp.diff(Ay,z)\n",
    "    Ry = sp.diff(Ax,z)-sp.diff(Az,x)\n",
    "    Rz = sp.diff(Ay,x)-sp.diff(Ax,y)\n",
    "    return sp.ImmutableMatrix([Rx, Ry, Rz])"
   ]
  },
  {
   "cell_type": "code",
   "execution_count": 21,
   "metadata": {},
   "outputs": [],
   "source": [
    "# Campo\n",
    "G = matriz([9*x*y, 4*x**2-8*y**2, -x*z**2])"
   ]
  },
  {
   "attachments": {},
   "cell_type": "markdown",
   "metadata": {},
   "source": [
    "O elemento de área é um retângulo no plano $z=3$. Assim:\n",
    "$$\n",
    "d\\mathbf{S} = dx\\,dy\\,\\az\n",
    "$$"
   ]
  },
  {
   "cell_type": "code",
   "execution_count": 22,
   "metadata": {},
   "outputs": [],
   "source": [
    "dS = matriz([0,0,1])"
   ]
  },
  {
   "attachments": {},
   "cell_type": "markdown",
   "metadata": {},
   "source": [
    "A superfície é $z=3$"
   ]
  },
  {
   "cell_type": "code",
   "execution_count": 23,
   "metadata": {},
   "outputs": [],
   "source": [
    "S = [(z,3)]"
   ]
  },
  {
   "attachments": {},
   "cell_type": "markdown",
   "metadata": {},
   "source": [
    "Os limites de integração são:"
   ]
  },
  {
   "cell_type": "code",
   "execution_count": 24,
   "metadata": {},
   "outputs": [],
   "source": [
    "lim = [(x,0,2), (y,0,1)]"
   ]
  },
  {
   "attachments": {},
   "cell_type": "markdown",
   "metadata": {},
   "source": [
    "Aplicando o teorema de Stokes:"
   ]
  },
  {
   "cell_type": "code",
   "execution_count": 25,
   "metadata": {},
   "outputs": [
    {
     "data": {
      "text/latex": [
       "$\\displaystyle \\int\\limits_{0}^{1}\\int\\limits_{0}^{2} \\left(- x\\right)\\, dx\\, dy$"
      ],
      "text/plain": [
       "Integral(-x, (x, 0, 2), (y, 0, 1))"
      ]
     },
     "metadata": {},
     "output_type": "display_data"
    },
    {
     "data": {
      "text/latex": [
       "$\\displaystyle -2$"
      ],
      "text/plain": [
       "-2"
      ]
     },
     "metadata": {},
     "output_type": "display_data"
    }
   ],
   "source": [
    "Circ = Integral(rot_cart(G).dot(dS).subs(S),lim[0],lim[1])\n",
    "display(Circ)\n",
    "display(Circ.doit())\n"
   ]
  }
 ],
 "metadata": {
  "kernelspec": {
   "display_name": "Python 3",
   "language": "python",
   "name": "python3"
  },
  "language_info": {
   "codemirror_mode": {
    "name": "ipython",
    "version": 3
   },
   "file_extension": ".py",
   "mimetype": "text/x-python",
   "name": "python",
   "nbconvert_exporter": "python",
   "pygments_lexer": "ipython3",
   "version": "3.11.1"
  },
  "orig_nbformat": 4
 },
 "nbformat": 4,
 "nbformat_minor": 2
}
