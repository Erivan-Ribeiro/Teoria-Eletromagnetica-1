{
 "cells": [
  {
   "attachments": {},
   "cell_type": "markdown",
   "metadata": {},
   "source": [
    "# **Vetores posição e deslocamento**"
   ]
  },
  {
   "attachments": {},
   "cell_type": "markdown",
   "metadata": {},
   "source": [
    "Um ponto $P$ em um sistema cartesiano de coordenadas pode ser representado como $(x,y,z)$.\n",
    "\n",
    "O vetor posição $\\mathbf{r}_p$ (ou vetor radial) do ponto $P$ é definido como o vetor apontando da origem do sistema de coordenadas $O$ ao ponto $P$, isto é:\n",
    "$$\n",
    "\\begin{align}\n",
    "    \\mathbf{r}_p = \\overline{OP} = x\\mathbf{a}_x+y\\mathbf{a}_y+z\\mathbf{a}_z\n",
    "\\end{align}\n",
    "$$\n",
    "\n",
    "**Exemplo:** Vetor posição do ponto $P=(3,4,5)$\n",
    "<p align=\"center\">\n",
    "<img src=\"Fig1.4.svg\">\n",
    "</p>"
   ]
  },
  {
   "attachments": {},
   "cell_type": "markdown",
   "metadata": {},
   "source": [
    "## **Vetor distância ou deslocamento**\n",
    "\n",
    "O vetor deslocamento entre dois pontos é vetor que liga o caminho entre o ponto de origem e o ponto de destino.\n",
    "\n",
    "O vetor deslocamento é a diferença entre dois vetores posição. Destino - Origem.\n",
    "\n",
    "Dados dois pontos $P$ e $Q$.\n",
    "$$\n",
    "\\begin{align}\n",
    "    \\mathbf{r}_{PQ} = \\mathbf{r}_{Q} - \\mathbf{r}_P\n",
    "\\end{align}\n",
    "$$"
   ]
  },
  {
   "attachments": {},
   "cell_type": "markdown",
   "metadata": {},
   "source": [
    "## **Saiba diferenciar ponto de vetor**\n",
    "\n",
    "Na nossa notação um ponto $P=(x,y,z)$ e um vetor $\\mathbf{A}=(A_x,A_y,A_z)$ possuem uma representação semelhante, mas não são a mesma coisa. Analise sempre o contexto para distinguir entre um e outro.\n",
    "\n",
    "O vetor posição $\\mathbf{r}_P$ do ponto $P$, contudo, **é um vetor**. \n",
    "\n",
    "Um campo vetorial descreve diferentes vetores em diferentes pontos. Assim, podemos ter um vetor que depende de um ponto $P=(x,y,z)$ específico. \n",
    "\n",
    "Por exemplo, o campo $\\mathbf{A}=2xy\\mathbf{a}_x+y^2\\mathbf{a}_y-xz^2\\mathbf{a}_z$ é um vetor, que varia conforme as coordenadas do ponto em que se mede. No ponto $P=(2,-1,4)$, esse campo vale $\\mathbf{A}=-4\\mathbf{a}_x+\\mathbf{a}_y-32\\mathbf{a}_z$.\n",
    "\n",
    "Um campo vetorial é dito constante ou uniforme se ele não depende nenhuma das variáveis $x$, $y$ e  $z$. Por exemplo, se $\\mathbf{B}=3\\mathbf{a}_x-2\\mathbf{a}_y+10\\mathbf{a}_z$ é um campo vetorial, então, pela sua definiçÃo $\\mathbf{B}$ é um campo uniforme ou constante, uma vez que, não importa o ponto onde o meçamos, o valor é sempre o mesmo. \n"
   ]
  },
  {
   "cell_type": "code",
   "execution_count": 1,
   "metadata": {},
   "outputs": [],
   "source": [
    "import sympy as sp"
   ]
  },
  {
   "cell_type": "code",
   "execution_count": null,
   "metadata": {},
   "outputs": [],
   "source": [
    "# Pontos em coordenadas cartesianas\n",
    "P = sp.Matrix([1,-8,9])\n",
    "Q = sp.Matrix([0,12,-7])\n"
   ]
  }
 ],
 "metadata": {
  "kernelspec": {
   "display_name": "Python 3",
   "language": "python",
   "name": "python3"
  },
  "language_info": {
   "codemirror_mode": {
    "name": "ipython",
    "version": 3
   },
   "file_extension": ".py",
   "mimetype": "text/x-python",
   "name": "python",
   "nbconvert_exporter": "python",
   "pygments_lexer": "ipython3",
   "version": "3.11.1"
  },
  "orig_nbformat": 4,
  "vscode": {
   "interpreter": {
    "hash": "e1735dd0795dce195fb98475ccf229151ed44a61fb274eb18cdb7c8302916985"
   }
  }
 },
 "nbformat": 4,
 "nbformat_minor": 2
}
