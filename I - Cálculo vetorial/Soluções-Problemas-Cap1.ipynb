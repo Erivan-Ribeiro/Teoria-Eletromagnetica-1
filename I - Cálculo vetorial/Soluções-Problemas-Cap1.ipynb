{
 "cells": [
  {
   "cell_type": "code",
   "execution_count": 16,
   "metadata": {},
   "outputs": [],
   "source": [
    "import sympy as sp"
   ]
  },
  {
   "cell_type": "code",
   "execution_count": 17,
   "metadata": {},
   "outputs": [
    {
     "data": {
      "text/latex": [
       "$\\displaystyle \\left[\\begin{matrix}- \\frac{5 \\sqrt{33}}{33}\\\\- \\frac{2 \\sqrt{33}}{33}\\\\- \\frac{2 \\sqrt{33}}{33}\\end{matrix}\\right]$"
      ],
      "text/plain": [
       "Matrix([\n",
       "[-5*sqrt(33)/33],\n",
       "[-2*sqrt(33)/33],\n",
       "[-2*sqrt(33)/33]])"
      ]
     },
     "execution_count": 17,
     "metadata": {},
     "output_type": "execute_result"
    }
   ],
   "source": [
    "# (1.1)\n",
    "Q = sp.Matrix([-3,2,2])\n",
    "P = sp.Matrix([2,4,4])\n",
    "L = Q-P\n",
    "al = L/L.norm()\n",
    "al"
   ]
  },
  {
   "cell_type": "code",
   "execution_count": 18,
   "metadata": {},
   "outputs": [
    {
     "data": {
      "text/latex": [
       "$\\displaystyle \\left[\\begin{matrix}8\\\\-3\\\\-3\\end{matrix}\\right]$"
      ],
      "text/plain": [
       "Matrix([\n",
       "[ 8],\n",
       "[-3],\n",
       "[-3]])"
      ]
     },
     "execution_count": 18,
     "metadata": {},
     "output_type": "execute_result"
    }
   ],
   "source": [
    "#(1.2)\n",
    "A = sp.Matrix([2,5,-3])\n",
    "B = sp.Matrix([3,-4,0])\n",
    "C = sp.Matrix([1,1,1])\n",
    "\n",
    "#(a)\n",
    "A+2*B"
   ]
  },
  {
   "cell_type": "code",
   "execution_count": 19,
   "metadata": {},
   "outputs": [
    {
     "data": {
      "text/latex": [
       "$\\displaystyle \\sqrt{73}$"
      ],
      "text/plain": [
       "sqrt(73)"
      ]
     },
     "execution_count": 19,
     "metadata": {},
     "output_type": "execute_result"
    }
   ],
   "source": [
    "# (b)\n",
    "(A-5*C).norm()"
   ]
  },
  {
   "cell_type": "code",
   "execution_count": 15,
   "metadata": {},
   "outputs": [
    {
     "data": {
      "text/latex": [
       "$\\displaystyle \\sqrt{53} k = 2$"
      ],
      "text/plain": [
       "Eq(sqrt(53)*k, 2)"
      ]
     },
     "execution_count": 15,
     "metadata": {},
     "output_type": "execute_result"
    }
   ],
   "source": [
    "# (c)\n",
    "k = sp.symbols('k')\n",
    "equacao = sp.Eq(k*(B).norm(),2)\n",
    "sol = sp.solve(equacao)\n",
    "sol\n",
    "equacao"
   ]
  },
  {
   "cell_type": "code",
   "execution_count": 20,
   "metadata": {},
   "outputs": [
    {
     "data": {
      "text/latex": [
       "$\\displaystyle \\left[\\begin{matrix}\\frac{6}{7}\\\\\\frac{9}{14}\\\\\\frac{23}{14}\\end{matrix}\\right]$"
      ],
      "text/plain": [
       "Matrix([\n",
       "[  6/7],\n",
       "[ 9/14],\n",
       "[23/14]])"
      ]
     },
     "execution_count": 20,
     "metadata": {},
     "output_type": "execute_result"
    }
   ],
   "source": [
    "# (d)\n",
    "A.cross(B)/(A.dot(B))"
   ]
  },
  {
   "attachments": {},
   "cell_type": "markdown",
   "metadata": {},
   "source": [
    "(1.5)\n",
    "ajshdashdksahd"
   ]
  },
  {
   "cell_type": "code",
   "execution_count": 21,
   "metadata": {},
   "outputs": [
    {
     "data": {
      "text/latex": [
       "$\\displaystyle \\left[\\begin{matrix}5 \\alpha - \\beta + 8\\\\3 \\alpha + 4 \\beta + 2\\\\2 \\alpha + 6 \\beta\\end{matrix}\\right]$"
      ],
      "text/plain": [
       "Matrix([\n",
       "[  5*alpha - beta + 8],\n",
       "[3*alpha + 4*beta + 2],\n",
       "[    2*alpha + 6*beta]])"
      ]
     },
     "execution_count": 21,
     "metadata": {},
     "output_type": "execute_result"
    }
   ],
   "source": [
    "# (1.5)\n",
    "a, b = sp.symbols(['alpha', 'beta'])\n",
    "A = sp.Matrix([5,3,2])\n",
    "B = sp.Matrix([-1,4,6])\n",
    "C = sp.Matrix([8,2,0])\n",
    "v = a*A+b*B+C\n",
    "v"
   ]
  },
  {
   "cell_type": "code",
   "execution_count": 22,
   "metadata": {},
   "outputs": [
    {
     "data": {
      "text/latex": [
       "$\\displaystyle \\left[ 5 \\alpha - \\beta + 8 = 0, \\  2 \\alpha + 6 \\beta = 0\\right]$"
      ],
      "text/plain": [
       "<IPython.core.display.Math object>"
      ]
     },
     "metadata": {},
     "output_type": "display_data"
    },
    {
     "data": {
      "text/latex": [
       "$\\displaystyle \\left\\{ \\alpha : - \\frac{3}{2}, \\  \\beta : \\frac{1}{2}\\right\\}$"
      ],
      "text/plain": [
       "<IPython.core.display.Math object>"
      ]
     },
     "metadata": {},
     "output_type": "display_data"
    }
   ],
   "source": [
    "from IPython.display import display, Math\n",
    "sist = [sp.Eq(v[0],0),sp.Eq(v[2],0)]\n",
    "sol = sp.solve(sist)\n",
    "display(Math(sp.latex(sist)))\n",
    "display(Math(sp.latex(sol)))\n"
   ]
  },
  {
   "cell_type": "code",
   "execution_count": 23,
   "metadata": {},
   "outputs": [
    {
     "data": {
      "text/latex": [
       "$\\displaystyle \\left[\\begin{matrix}0\\\\- \\frac{1}{2}\\\\0\\end{matrix}\\right]$"
      ],
      "text/plain": [
       "Matrix([\n",
       "[   0],\n",
       "[-1/2],\n",
       "[   0]])"
      ]
     },
     "execution_count": 23,
     "metadata": {},
     "output_type": "execute_result"
    }
   ],
   "source": [
    "v.subs(sol)"
   ]
  }
 ],
 "metadata": {
  "kernelspec": {
   "display_name": "Python 3.10.6 64-bit",
   "language": "python",
   "name": "python3"
  },
  "language_info": {
   "codemirror_mode": {
    "name": "ipython",
    "version": 3
   },
   "file_extension": ".py",
   "mimetype": "text/x-python",
   "name": "python",
   "nbconvert_exporter": "python",
   "pygments_lexer": "ipython3",
   "version": "3.10.6"
  },
  "orig_nbformat": 4,
  "vscode": {
   "interpreter": {
    "hash": "87e209e468c501641ab9a12aeae13be219f859882ce51d7b5c912efb306a265c"
   }
  }
 },
 "nbformat": 4,
 "nbformat_minor": 2
}
