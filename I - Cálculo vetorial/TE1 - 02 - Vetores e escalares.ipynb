{
 "cells": [
  {
   "cell_type": "markdown",
   "metadata": {},
   "source": [
    "# **Escalares e vetores**"
   ]
  },
  {
   "attachments": {},
   "cell_type": "markdown",
   "metadata": {},
   "source": [
    "Um **escalar** é uma quantidade física que possui apenas magnitude. Vamos usar letras em itálico (sem negrito) para indicar um escalar: $a$, $x$, $dy$."
   ]
  },
  {
   "attachments": {},
   "cell_type": "markdown",
   "metadata": {},
   "source": [
    "Um **vetor** é uma quantidade física que possui magnitude e direção. Um vetor será indicado com negrito, $\\mathbf{x}$ (preferencial); ou com notação de \"barra\": $\\bar{{x}}$ (apenas manuscrito). "
   ]
  },
  {
   "attachments": {},
   "cell_type": "markdown",
   "metadata": {},
   "source": [
    "Um **campo** é uma função que descreve uma quantidade física (escalar ou vetorial) em todos os lugares de uma região. Por exemplo: $f(x,y)$ (campo escalar) ou $\\mathbf{g}(x,y)$ (campo vetorial). "
   ]
  },
  {
   "attachments": {},
   "cell_type": "markdown",
   "metadata": {},
   "source": [
    "## **Vetor unitário**"
   ]
  },
  {
   "attachments": {},
   "cell_type": "markdown",
   "metadata": {},
   "source": [
    "A magnitude (ou módulo) de um vetor $\\mathbf{v}$ é denotado $v$ ou $|\\mathbf{v}|$.\n",
    "\n",
    "Um vetor unitário $\\mathbf{a}_{v}$ ao longo da direção de $\\mathbf{v}$ é definido como um vetor que tem a mesma direção de $\\mathbf{v}$ e tem **magnitude 1**, isto é $|\\mathbf{a}_v| = 1$.\n",
    "\n",
    "Definição matemática:\n",
    "$$\n",
    "\\begin{align}\n",
    "    \\mathbf{a}_v = \\frac{\\mathbf{v}}{|\\mathbf{v}|}\n",
    "\\end{align}\n",
    "$$"
   ]
  },
  {
   "attachments": {},
   "cell_type": "markdown",
   "metadata": {},
   "source": [
    "O próprio vetor $\\mathbf{v}$ pode ser escrito usando o vetor unitário de sua direção:\n",
    "$$\n",
    "\\begin{align}\n",
    "    \\mathbf{v} = |\\mathbf{v}|\\mathbf{a}_v\n",
    "\\end{align}\n",
    "$$\n"
   ]
  },
  {
   "attachments": {},
   "cell_type": "markdown",
   "metadata": {},
   "source": [
    "## **Coordenadas cartesianas**"
   ]
  },
  {
   "attachments": {},
   "cell_type": "markdown",
   "metadata": {},
   "source": [
    "Um vetor $\\mathbf{V}$ em coordenadas Cartesianas (ou retangulares) pode ser ser representado das seguintes formas:\n",
    "$$\n",
    "\\begin{align}\n",
    "    \\mathbf{V} &= (V_x,\\, V_y\\, V_z)\\quad \\text{ou: }\\\\\n",
    "    \\mathbf{V} &= V_x\\mathbf{a}_x+V_y\\mathbf{a}_y+V_z\\mathbf{a}_z\n",
    "\\end{align}\n",
    "$$"
   ]
  },
  {
   "attachments": {},
   "cell_type": "markdown",
   "metadata": {},
   "source": [
    "<p align=\"center\">\n",
    "    <img src=\"Fig1.1.svg\">\n",
    "</p>"
   ]
  },
  {
   "attachments": {},
   "cell_type": "markdown",
   "metadata": {},
   "source": [
    "Os números reais $V_x$, $V_y$ e $V_z$ são chamados **componentes** do vetor nas direções $x$, $y$ e $z$ respectivamente. Essas direções são representadas pelos vetores unitários $\\mathbf{a}_x$, $\\mathbf{a}_y$ e $\\mathbf{a}_z$. "
   ]
  },
  {
   "attachments": {},
   "cell_type": "markdown",
   "metadata": {},
   "source": [
    "A magnitude do vetor $\\mathbf{V}$ é dada por:\n",
    "$$\n",
    "\\begin{align}\n",
    "    |\\mathbf{V}| = \\sqrt{V_x^2+V_y^2+V_z^2}\n",
    "\\end{align}\n",
    "$$"
   ]
  },
  {
   "attachments": {},
   "cell_type": "markdown",
   "metadata": {},
   "source": [
    "O vetor unitário na direção de $\\mathbf{V}$ pode ser achado como:\n",
    "$$\n",
    "\\begin{align}\n",
    "\\mathbf{a}_v &= \\frac{V_x\\mathbf{a}_x+V_y\\mathbf{a}_y+V_z\\mathbf{a}_z}{\\sqrt{V_x^2+V_y^2+V_x^2}}\n",
    "\\end{align}\n",
    "$$"
   ]
  },
  {
   "cell_type": "code",
   "execution_count": 16,
   "metadata": {},
   "outputs": [
    {
     "ename": "TypeError",
     "evalue": "int() argument must be a string, a bytes-like object or a real number, not 'MutableDenseMatrix'",
     "output_type": "error",
     "traceback": [
      "\u001b[1;31m---------------------------------------------------------------------------\u001b[0m",
      "\u001b[1;31mTypeError\u001b[0m                                 Traceback (most recent call last)",
      "Cell \u001b[1;32mIn[16], line 5\u001b[0m\n\u001b[0;32m      2\u001b[0m \u001b[39mimport\u001b[39;00m \u001b[39msympy\u001b[39;00m \u001b[39mas\u001b[39;00m \u001b[39msp\u001b[39;00m\n\u001b[0;32m      4\u001b[0m v \u001b[39m=\u001b[39m sp\u001b[39m.\u001b[39mMatrix([\u001b[39m1.\u001b[39m,\u001b[39m-\u001b[39m\u001b[39m3\u001b[39m,\u001b[39m2\u001b[39m])\n\u001b[1;32m----> 5\u001b[0m \u001b[39mint\u001b[39;49m(v)\n",
      "\u001b[1;31mTypeError\u001b[0m: int() argument must be a string, a bytes-like object or a real number, not 'MutableDenseMatrix'"
     ]
    }
   ],
   "source": [
    "#pip install sympy\n",
    "import sympy as sp\n",
    "\n",
    "v = sp.Matrix([1.,-3,2])\n"
   ]
  },
  {
   "cell_type": "code",
   "execution_count": 7,
   "metadata": {},
   "outputs": [
    {
     "data": {
      "text/latex": [
       "$\\displaystyle 3.742$"
      ],
      "text/plain": [
       "3.742"
      ]
     },
     "execution_count": 7,
     "metadata": {},
     "output_type": "execute_result"
    }
   ],
   "source": [
    "v.norm().evalf(4)"
   ]
  },
  {
   "cell_type": "code",
   "execution_count": 10,
   "metadata": {},
   "outputs": [
    {
     "data": {
      "text/latex": [
       "$\\displaystyle \\left[\\begin{matrix}\\frac{\\sqrt{14}}{14}\\\\- \\frac{3 \\sqrt{14}}{14}\\\\\\frac{\\sqrt{14}}{7}\\end{matrix}\\right]$"
      ],
      "text/plain": [
       "Matrix([\n",
       "[   sqrt(14)/14],\n",
       "[-3*sqrt(14)/14],\n",
       "[    sqrt(14)/7]])"
      ]
     },
     "execution_count": 10,
     "metadata": {},
     "output_type": "execute_result"
    }
   ],
   "source": [
    "av = v/v.norm()\n",
    "av.evalf(3)\n",
    "av"
   ]
  },
  {
   "cell_type": "code",
   "execution_count": 4,
   "metadata": {},
   "outputs": [
    {
     "data": {
      "text/latex": [
       "$\\displaystyle \\left[\\begin{matrix}0.267\\\\-0.802\\\\0.535\\end{matrix}\\right]$"
      ],
      "text/plain": [
       "<IPython.core.display.Math object>"
      ]
     },
     "metadata": {},
     "output_type": "display_data"
    },
    {
     "data": {
      "text/latex": [
       "$\\displaystyle \\left[\\begin{matrix}1\\\\-3\\\\2\\end{matrix}\\right]$"
      ],
      "text/plain": [
       "<IPython.core.display.Math object>"
      ]
     },
     "metadata": {},
     "output_type": "display_data"
    }
   ],
   "source": [
    "from IPython.display import display, Math\n",
    "display(Math(sp.latex(av.evalf(3))))\n",
    "display(Math(sp.latex(v)))"
   ]
  }
 ],
 "metadata": {
  "kernelspec": {
   "display_name": "Python 3",
   "language": "python",
   "name": "python3"
  },
  "language_info": {
   "codemirror_mode": {
    "name": "ipython",
    "version": 3
   },
   "file_extension": ".py",
   "mimetype": "text/x-python",
   "name": "python",
   "nbconvert_exporter": "python",
   "pygments_lexer": "ipython3",
   "version": "3.11.1"
  },
  "orig_nbformat": 4,
  "vscode": {
   "interpreter": {
    "hash": "e1735dd0795dce195fb98475ccf229151ed44a61fb274eb18cdb7c8302916985"
   }
  }
 },
 "nbformat": 4,
 "nbformat_minor": 2
}
