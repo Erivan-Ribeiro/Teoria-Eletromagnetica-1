{
 "cells": [
  {
   "attachments": {},
   "cell_type": "markdown",
   "id": "3a85463a",
   "metadata": {
    "jupyter": {
     "source_hidden": true
    },
    "tags": []
   },
   "source": [
    "$\\newcommand{\\ax}{\\mathbf{a}_x}$\n",
    "$\\newcommand{\\ay}{\\mathbf{a}_y}$\n",
    "$\\newcommand{\\az}{\\mathbf{a}_z}$\n",
    "$\\newcommand{\\arho}{\\mathbf{a}_\\rho}$\n",
    "$\\newcommand{\\ap}{\\mathbf{a}_\\phi}$\n",
    "$\\newcommand{\\ar}{\\mathbf{a}_r}$\n",
    "$\\newcommand{\\at}{\\mathbf{a}_\\theta}$\n",
    "$\\newcommand{\\grad}[1]{\\nabla #1}$\n",
    "$\\renewcommand{\\div}[1]{\\mathbf{\\nabla} \\cdot \\mathbf{#1}}$\n",
    "$\\newcommand{\\rot}[1]{\\mathbf{\\nabla} \\times \\mathbf{#1}}$\n",
    "$\\newcommand{\\parcial}[2]{\\frac{\\partial #1}{\\partial #2}}$"
   ]
  },
  {
   "cell_type": "markdown",
   "id": "b25518e0",
   "metadata": {},
   "source": [
    "# Operador Del (ou Nabla) - $\\nabla$"
   ]
  },
  {
   "cell_type": "markdown",
   "id": "49bc2546",
   "metadata": {
    "tags": []
   },
   "source": [
    "O operador nabla, escrito $\\nabla$, é um operador vetorial diferencial. Em coordenadas cartesianas:\n",
    "\n",
    "$$\n",
    "\\begin{align}\n",
    "\\nabla = \\frac{\\partial}{\\partial x}\\ax+\\frac{\\partial}{\\partial y}\\ay+\\frac{\\partial}{\\partial z}\\az\n",
    "\\end{align}\n",
    "$$\n",
    "\n",
    "O operador também é conhecido como operador gradiente.\n",
    "\n",
    "Não se trata de um vetor propriamente dito. Ele sozinho não tem significado, mas acabamos tratando ele como vetor nas operações, produzindo assim uma interpretação que faz sentido. \n",
    "\n",
    "Por exemplo:\n",
    "- O gradiente de um escalar $V$ é escrito $\\grad{V}$\n",
    "- O divergente de um vetor $\\mathbf{A}$ é escrito $\\div{A}$\n",
    "- O rotacional de um vetor $\\mathbf{A}$ é escrito $\\rot{A}$\n",
    "- O Laplaciano de um escalar $V$ é escrito $\\nabla^2V$"
   ]
  },
  {
   "cell_type": "markdown",
   "id": "da9f9296",
   "metadata": {},
   "source": [
    "## $\\nabla$ em outros sistemas de coordenadas\n",
    "\n",
    "Cilíndricas:  \n",
    "$$\n",
    "\\begin{align}\n",
    "    \\nabla &= \\arho\\, \\frac{\\partial}{\\partial \\rho}+\\ap\\,\\frac{1}{\\rho}\\,\\frac{\\partial }{\\partial \\phi} + \\az \\frac{\\partial}{\\partial z}\n",
    "\\end{align}\n",
    "$$\n",
    "\n",
    "Esféricas:  \n",
    "$$\n",
    "\\begin{align}\n",
    "    \\nabla &= \\ar\\, \\frac{\\partial}{\\partial r}+\\at\\,\\frac{1}{r}\\,\\frac{\\partial }{\\partial \\phi} + \\ap \\frac{1}{r\\,\\sin \\theta}\\frac{\\partial}{\\partial \\phi}\n",
    "\\end{align}\n",
    "$$\n",
    "\n"
   ]
  },
  {
   "cell_type": "markdown",
   "id": "dd700f1b",
   "metadata": {},
   "source": [
    "## Gradiente\n",
    "\n",
    "O gradiente de um campo escalar $V$ é um vetor que representa a magnitude e a direção da máxima taxa de variação espacial de $V$. \n",
    "\n",
    "O gradiente está associado à diferencial total de uma função $V(x,y,z)$. \n",
    "\n",
    "$$\n",
    "\\begin{align}\n",
    "    dV &= \\parcial{V}{x}\\,dx+\\parcial{V}{y}\\,dy+\\parcial{V}{z}\\,dz\\\\\n",
    "    &= \\left[\\begin{array}{ccc}\\displaystyle\\parcial{V}{x} & \\displaystyle\\parcial{V}{y} &\\displaystyle\\parcial{V}{z}\\end{array}\\right]\\cdot \\left[\\begin{array}{ccc}dx\\,\\ax & dy\\,\\ay & dz\\,\\az\\end{array}\\right]\\\\\n",
    "    &= \\grad{V}\\cdot d\\mathbf{l}\n",
    "\\end{align}\n",
    "$$\n",
    "\n",
    "**Propriedades**\n",
    "- $\\grad{(V+U)} = \\grad{V}+\\grad{U}$\n",
    "- $\\grad{V\\,U} = V\\,\\grad{U}+U\\,\\grad{V}$\n",
    "\n",
    "A magnitude de $\\grad{V}$ é igual à máxima taxa de variação em $V$ por unidade de distância.\n",
    "\n",
    "$\\grad{V}$ aponta para a direção da máxima taxa de variação de $V$\n",
    "\n",
    "Se $\\mathbf{A}= \\grad{V}$ então $V$ é dito o potencial escalar de $\\mathbf{A}$"
   ]
  },
  {
   "cell_type": "markdown",
   "id": "6037b82b",
   "metadata": {},
   "source": [
    "**Exemplo 3.3**: Encontre o gradiente dos seguintes campos escalares  \n",
    "(a) $V= e^{-z}\\sin 2x \\, \\cosh y$  \n",
    "(b) $U = \\rho^2\\,z\\cos 2\\phi$  \n",
    "(c) $W = 10r\\,\\sin^2\\theta\\, \\cos \\phi$\n"
   ]
  },
  {
   "cell_type": "markdown",
   "id": "8d64627b",
   "metadata": {},
   "source": [
    "**Exemplo 3.4**: dado $W=x^2y^2+xyz$, calcule $\\grad{W}$ e a derivada direcional $dW/dl$ na direção $3\\ax+4\\ay+12\\az$ em $(2,-1,0)$"
   ]
  },
  {
   "cell_type": "code",
   "execution_count": null,
   "id": "8815830f",
   "metadata": {},
   "outputs": [],
   "source": []
  },
  {
   "cell_type": "markdown",
   "id": "967e7840",
   "metadata": {},
   "source": [
    "**Exemplo 3.5**: encontre o ângulo que a linha $x=y=2z$ intercepta o elipsoide $x^2+y^2+2z^2=10$"
   ]
  },
  {
   "cell_type": "code",
   "execution_count": null,
   "id": "9fb3c5f5",
   "metadata": {},
   "outputs": [],
   "source": []
  }
 ],
 "metadata": {
  "kernelspec": {
   "display_name": "Python 3 (ipykernel)",
   "language": "python",
   "name": "python3"
  },
  "language_info": {
   "codemirror_mode": {
    "name": "ipython",
    "version": 3
   },
   "file_extension": ".py",
   "mimetype": "text/x-python",
   "name": "python",
   "nbconvert_exporter": "python",
   "pygments_lexer": "ipython3",
   "version": "3.11.1"
  }
 },
 "nbformat": 4,
 "nbformat_minor": 5
}
