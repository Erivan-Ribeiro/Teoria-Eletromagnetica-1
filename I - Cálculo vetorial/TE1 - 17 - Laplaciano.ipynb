{
 "cells": [
  {
   "attachments": {},
   "cell_type": "markdown",
   "id": "09e0b5ab",
   "metadata": {},
   "source": [
    "$\\newcommand{\\ax}{\\mathbf{a}_x}$\n",
    "$\\newcommand{\\ay}{\\mathbf{a}_y}$\n",
    "$\\newcommand{\\az}{\\mathbf{a}_z}$\n",
    "$\\newcommand{\\arho}{\\mathbf{a}_\\rho}$\n",
    "$\\newcommand{\\ap}{\\mathbf{a}_\\phi}$\n",
    "$\\newcommand{\\ar}{\\mathbf{a}_r}$\n",
    "$\\newcommand{\\at}{\\mathbf{a}_\\theta}$\n",
    "$\\newcommand{\\grad}[1]{\\nabla #1}$\n",
    "$\\renewcommand{\\div}[1]{\\mathbf{\\nabla} \\cdot \\mathbf{#1}}$\n",
    "$\\newcommand{\\rot}[1]{\\mathbf{\\nabla} \\times \\mathbf{#1}}$\n",
    "$\\newcommand{\\parcial}[2]{\\displaystyle\\frac{\\partial #1}{\\partial #2}}$\n",
    "$\\newcommand{\\pard}[2]{\\displaystyle\\frac{\\partial^2 {#1}}{\\partial {#2}^2}}$\n",
    "$\\newcommand{\\lapcart}[1]{\\pard{#1}{x}+\\pard{#1}{y}+\\pard{#1}{z}}$\n",
    "$\\newcommand{\\lapcili}[1]{\\frac{1}{\\rho}\\parcial{}{\\rho}\\left(\\rho \\parcial{#1}{\\rho}\\right)+\\frac{1}{\\rho^2}\\pard{#1}{\\phi}+\\pard{#1}{z}}$\n",
    "$\\newcommand{\\lapesf}[1]{\\frac{1}{r^2}\\parcial{}{r}\\left(r^2 \\parcial{#1}{r}\\right)+\\frac{1}{r^2\\sin \\theta }\\left(\\sin \\theta \\, \\parcial{#1}{\\theta}\\right)+\\frac{1}{r^2\\sin \\theta}\\pard{V}{\\phi}}$"
   ]
  },
  {
   "cell_type": "markdown",
   "id": "b25518e0",
   "metadata": {},
   "source": [
    "# Laplaciano de um escalar"
   ]
  },
  {
   "cell_type": "markdown",
   "id": "8ae2a69d",
   "metadata": {},
   "source": [
    "O Laplaciano de um campo escalar $V$ é escrito $\\nabla^2V$ é definido como a divergência do gradiente de $V$. \n",
    "\n",
    "Em coordenadas cartesianas:  \n",
    "$$\n",
    "\\begin{align}\n",
    "    \\nabla^2V &= \\lapcart{V}\n",
    "\\end{align}\n",
    "$$\n",
    "\n",
    "Coordenadas cilíndricas\n",
    "$$\n",
    "\\begin{align}\n",
    "    \\nabla^2V &= \\lapcili{V}\n",
    "\\end{align}\n",
    "$$\n",
    "\n",
    "Coordenadas esféricas\n",
    "$$\n",
    "\\begin{align}\n",
    "    \\nabla^2V &= \\lapesf{V}\n",
    "\\end{align}\n",
    "$$\n",
    "\n"
   ]
  },
  {
   "cell_type": "markdown",
   "id": "69105ab3-3afb-4be2-a64b-eebae35d04bd",
   "metadata": {},
   "source": [
    "Um campo escalar é dito **harmônico** em uma dada região se o Laplaciano se anula naquela região.  \n",
    "$$\n",
    "\\begin{align}\n",
    "    \\nabla^2 V = 0\n",
    "\\end{align}\n",
    "$$"
   ]
  },
  {
   "cell_type": "markdown",
   "id": "52fe5988-b012-435b-b004-02d9ad8e926e",
   "metadata": {},
   "source": [
    "## Laplaciano de um vetor"
   ]
  },
  {
   "attachments": {},
   "cell_type": "markdown",
   "id": "c8d786ec-90cb-4381-a5f4-e490d632853a",
   "metadata": {},
   "source": [
    "Podemos também definir o Laplaciano de um vetor. \n",
    "\n",
    "A simbologia é a mesma do Laplaciano do escalar. Neste caso, você deve atentar ao contexto para saber o que usar.\n",
    "\n",
    "O Laplaciano de um campo $\\mathbf{A}$ vetorial é definido como:\n",
    "$$\n",
    "\\begin{align}\n",
    "    \\nabla^2 \\mathbf{A} = \\grad{\\left(\\div{A}\\right)} - \\rot{\\rot{A}}\n",
    "\\end{align}\n",
    "$$\n",
    "\n",
    "Essa é a definição geral, e pode ser usada para calcular o Laplaciano de um vetor em qualquer sistema de coordenadas.\n",
    "\n",
    "Apenas no sistema cartesiano, a expressão fechada é simples:\n",
    "$$\n",
    "\\begin{align}\n",
    "    \\nabla^2 \\mathbf{A} = \\nabla^2 A_x\\, \\ax + \\nabla^2 A_y\\, \\ay + \\nabla^2 A_z\\, \\az\n",
    "\\end{align}\n",
    "$$"
   ]
  },
  {
   "cell_type": "markdown",
   "id": "c201938c-a1d5-47df-a5fa-4e7d2850dde0",
   "metadata": {},
   "source": [
    "## **Exemplo**: \n",
    "\n",
    "Encontre o Laplaciano dos seguintes campos escalares:  \n",
    "(a) $V= e^{-z}\\sin 2x\\, \\cosh y$  \n",
    "(b) $U=\\rho^2\\,z\\, \\cos 2\\phi$  \n",
    "(c) $W = 10r\\,\\sin^2\\theta\\,\\cos \\phi$"
   ]
  },
  {
   "cell_type": "code",
   "execution_count": null,
   "id": "a1a77b1b",
   "metadata": {},
   "outputs": [],
   "source": []
  },
  {
   "attachments": {},
   "cell_type": "markdown",
   "id": "a5dac52e",
   "metadata": {},
   "source": [
    "<center> <img src='Pratico3.11.svg'> </center>"
   ]
  }
 ],
 "metadata": {
  "kernelspec": {
   "display_name": "Python 3 (ipykernel)",
   "language": "python",
   "name": "python3"
  },
  "language_info": {
   "codemirror_mode": {
    "name": "ipython",
    "version": 3
   },
   "file_extension": ".py",
   "mimetype": "text/x-python",
   "name": "python",
   "nbconvert_exporter": "python",
   "pygments_lexer": "ipython3",
   "version": "3.11.1"
  }
 },
 "nbformat": 4,
 "nbformat_minor": 5
}
