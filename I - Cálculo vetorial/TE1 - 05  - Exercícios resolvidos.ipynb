{
 "cells": [
  {
   "attachments": {},
   "cell_type": "markdown",
   "metadata": {},
   "source": [
    "# **Exercícios resolvidos**"
   ]
  },
  {
   "attachments": {},
   "cell_type": "markdown",
   "metadata": {},
   "source": [
    "Vamos resolver aqui alguns exemplos do livro texto, usando Python. Estude a solução analítica no livro e depois confira com os códigos apresentados aqui.\n",
    "\n",
    "Lembre-se de sempre conferir os resultados manualmente. "
   ]
  },
  {
   "attachments": {},
   "cell_type": "markdown",
   "metadata": {},
   "source": [
    "1 - Se $\\mathbf{A}=10\\mathbf{a}_x-4\\mathbf{a}_y+6\\mathbf{a}_z$ e $\\mathbf{B}=2\\mathbf{a}_x+\\mathbf{a}_y$, encontre: (a) a componente de $\\mathbf{A}$ ao longo de $\\mathbf{a}_y$; (b) a magnitude de $3\\mathbf{A-B}$; (c) o vetor unitário na direção de $\\mathbf{A}+2\\mathbf{B}$. "
   ]
  },
  {
   "attachments": {},
   "cell_type": "markdown",
   "metadata": {},
   "source": [
    "*Solução*:\n",
    "\n",
    "A solução analítica você encontra no livro. Aqui vamos resolver usando matemática simbólica ou métodos numéricos. \n",
    "\n",
    "Não se esqueça de estudar tanto o resultado matemático quanto os códigos por trás (clique duas vezes na célula para ver o código)"
   ]
  },
  {
   "cell_type": "code",
   "execution_count": 20,
   "metadata": {},
   "outputs": [],
   "source": [
    "# Importa bibliotecas.\n",
    "import numpy as np\n",
    "import sympy as sp\n",
    "from IPython.display import display, Math"
   ]
  },
  {
   "cell_type": "code",
   "execution_count": 21,
   "metadata": {},
   "outputs": [
    {
     "data": {
      "text/latex": [
       "$\\displaystyle \\left[\\begin{matrix}2\\\\1\\\\0\\end{matrix}\\right]$"
      ],
      "text/plain": [
       "Matrix([\n",
       "[2],\n",
       "[1],\n",
       "[0]])"
      ]
     },
     "execution_count": 21,
     "metadata": {},
     "output_type": "execute_result"
    }
   ],
   "source": [
    "# Definição os vetores usando simbólico\n",
    "A = sp.Matrix([10,-4,6])\n",
    "B = sp.Matrix([2,1,0])\n",
    "B"
   ]
  },
  {
   "cell_type": "code",
   "execution_count": 22,
   "metadata": {},
   "outputs": [
    {
     "data": {
      "text/latex": [
       "$\\displaystyle A_y = -4$"
      ],
      "text/plain": [
       "<IPython.core.display.Math object>"
      ]
     },
     "metadata": {},
     "output_type": "display_data"
    }
   ],
   "source": [
    "# (a) Ay é simplesmente o segundo elemento da matriz\n",
    "display(Math('A_y = ' + sp.latex(A[1])))"
   ]
  },
  {
   "cell_type": "code",
   "execution_count": 23,
   "metadata": {},
   "outputs": [
    {
     "data": {
      "text/latex": [
       "$\\displaystyle |3\\mathbf{A-B}| = \\sqrt{1277}$"
      ],
      "text/plain": [
       "<IPython.core.display.Math object>"
      ]
     },
     "metadata": {},
     "output_type": "display_data"
    },
    {
     "name": "stdout",
     "output_type": "stream",
     "text": [
      "Ou em ponto flutuante, 4 casas:\n"
     ]
    },
    {
     "data": {
      "text/latex": [
       "$\\displaystyle \\approx35.7351$"
      ],
      "text/plain": [
       "<IPython.core.display.Math object>"
      ]
     },
     "metadata": {},
     "output_type": "display_data"
    },
    {
     "data": {
      "text/plain": [
       "'2'"
      ]
     },
     "execution_count": 23,
     "metadata": {},
     "output_type": "execute_result"
    }
   ],
   "source": [
    "# (b) |3A-B| - use o método norm() para calcular magnitude\n",
    "C = 3*A-B\n",
    "magC = C.norm()\n",
    "display(Math('|3\\mathbf{A-B}| = ' + sp.latex(magC)))\n",
    "print('Ou em ponto flutuante, 4 casas:')\n",
    "display(Math('\\\\approx' + f'{magC.evalf(6)}' ))\n",
    "a = 2\n",
    "f'{a}'"
   ]
  },
  {
   "cell_type": "code",
   "execution_count": 24,
   "metadata": {},
   "outputs": [
    {
     "data": {
      "text/latex": [
       "$\\displaystyle \\mathbf{D=A+}2\\mathbf{B} = \\left[\\begin{matrix}14 & -2 & 6\\end{matrix}\\right]$"
      ],
      "text/plain": [
       "<IPython.core.display.Math object>"
      ]
     },
     "metadata": {},
     "output_type": "display_data"
    },
    {
     "data": {
      "text/latex": [
       "$\\displaystyle \\mathbf{a}_D = \\left[\\begin{matrix}\\frac{7 \\sqrt{59}}{59} & - \\frac{\\sqrt{59}}{59} & \\frac{3 \\sqrt{59}}{59}\\end{matrix}\\right]$"
      ],
      "text/plain": [
       "<IPython.core.display.Math object>"
      ]
     },
     "metadata": {},
     "output_type": "display_data"
    },
    {
     "name": "stdout",
     "output_type": "stream",
     "text": [
      "Ou em ponto flutuante\n"
     ]
    },
    {
     "data": {
      "text/latex": [
       "$\\displaystyle \\mathbf{a}_D = \\left[\\begin{matrix}0.911322 & -0.130189 & 0.390567\\end{matrix}\\right]$"
      ],
      "text/plain": [
       "<IPython.core.display.Math object>"
      ]
     },
     "metadata": {},
     "output_type": "display_data"
    }
   ],
   "source": [
    "# (c) Vetor unitário de A+2B\n",
    "D = A+2*B\n",
    "ad = D/D.norm()\n",
    "display(Math('\\mathbf{D=A+}2\\mathbf{B} = ' + sp.latex(D.T)))\n",
    "display(Math('\\mathbf{a}_D = ' + sp.latex(ad.T)))\n",
    "print('Ou em ponto flutuante')\n",
    "display(Math('\\mathbf{a}_D = ' + sp.latex(ad.T.evalf(6))))"
   ]
  },
  {
   "attachments": {},
   "cell_type": "markdown",
   "metadata": {},
   "source": [
    "2 - Os pontos $P$ e $Q$ estão localizados em $(0,2,4)$ e $(-3,1,5)$. Calcule:\n",
    "\n",
    "(a) O vetor posição $\\mathbf{r}_P$\n",
    "\n",
    "(b) O vetor distância de $P$ para $Q$\n",
    "\n",
    "(c) A distância entre $P$ e $Q$\n",
    "\n",
    "(d) Um vetor paralelo a $PQ$ com magnitude $10$ "
   ]
  },
  {
   "cell_type": "code",
   "execution_count": 25,
   "metadata": {},
   "outputs": [],
   "source": [
    "# Define os pontos P e Q\n",
    "P = sp.Matrix([0,2,4])\n",
    "Q = sp.Matrix([-3,1,5])"
   ]
  },
  {
   "cell_type": "code",
   "execution_count": 26,
   "metadata": {},
   "outputs": [
    {
     "data": {
      "text/latex": [
       "$\\displaystyle \\left[\\begin{matrix}0\\\\2\\\\4\\end{matrix}\\right]$"
      ],
      "text/plain": [
       "<IPython.core.display.Math object>"
      ]
     },
     "metadata": {},
     "output_type": "display_data"
    },
    {
     "data": {
      "text/latex": [
       "$\\displaystyle \\left[\\begin{matrix}-3\\\\1\\\\5\\end{matrix}\\right]$"
      ],
      "text/plain": [
       "<IPython.core.display.Math object>"
      ]
     },
     "metadata": {},
     "output_type": "display_data"
    }
   ],
   "source": [
    "# (a) O vetor posição é dado pelas coordenadas do ponto\n",
    "rp = P\n",
    "rq = Q\n",
    "disp = lambda x: display(Math(sp.latex(x)))\n",
    "disp(rp)\n",
    "disp(rq)"
   ]
  },
  {
   "cell_type": "code",
   "execution_count": 27,
   "metadata": {},
   "outputs": [
    {
     "data": {
      "text/latex": [
       "$\\displaystyle \\mathbf{r_{PQ}} = \\left[\\begin{matrix}-3 & -1 & 1\\end{matrix}\\right]$"
      ],
      "text/plain": [
       "<IPython.core.display.Math object>"
      ]
     },
     "metadata": {},
     "output_type": "display_data"
    }
   ],
   "source": [
    "# (b) \n",
    "r_pq = Q-P\n",
    "display(Math(r'\\mathbf{r_{PQ}} = ' + sp.latex(r_pq.T)))"
   ]
  },
  {
   "cell_type": "code",
   "execution_count": 28,
   "metadata": {},
   "outputs": [
    {
     "data": {
      "text/latex": [
       "$\\displaystyle |\\mathbf{r}_{PQ}| = \\sqrt{11}$"
      ],
      "text/plain": [
       "<IPython.core.display.Math object>"
      ]
     },
     "metadata": {},
     "output_type": "display_data"
    }
   ],
   "source": [
    "# (c) A distância é a magnitude do deslocamento\n",
    "display(Math(r'|\\mathbf{r}_{PQ}| = ' + sp.latex(r_pq.norm())))"
   ]
  },
  {
   "cell_type": "code",
   "execution_count": 29,
   "metadata": {},
   "outputs": [
    {
     "data": {
      "text/latex": [
       "$\\displaystyle \\mathbf{a}_{PQ} = \\left[\\begin{matrix}- \\frac{3 \\sqrt{11}}{11} & - \\frac{\\sqrt{11}}{11} & \\frac{\\sqrt{11}}{11}\\end{matrix}\\right]$"
      ],
      "text/plain": [
       "<IPython.core.display.Math object>"
      ]
     },
     "metadata": {},
     "output_type": "display_data"
    }
   ],
   "source": [
    "# Para obter a direção PQ, calculamos o vetor unitário\n",
    "a_pq = r_pq/r_pq.norm()\n",
    "display(Math(r'\\mathbf{a}_{PQ} = ' + sp.latex(a_pq.T)))"
   ]
  },
  {
   "cell_type": "code",
   "execution_count": 30,
   "metadata": {},
   "outputs": [
    {
     "data": {
      "text/latex": [
       "$\\displaystyle \\mathbf{v = } 10\\mathbf{a}_{PQ} = \\left[\\begin{matrix}- \\frac{30 \\sqrt{11}}{11} & - \\frac{10 \\sqrt{11}}{11} & \\frac{10 \\sqrt{11}}{11}\\end{matrix}\\right]$"
      ],
      "text/plain": [
       "<IPython.core.display.Math object>"
      ]
     },
     "metadata": {},
     "output_type": "display_data"
    },
    {
     "data": {
      "text/latex": [
       "$\\displaystyle \\mathbf{|v| = }10$"
      ],
      "text/plain": [
       "<IPython.core.display.Math object>"
      ]
     },
     "metadata": {},
     "output_type": "display_data"
    }
   ],
   "source": [
    "# Agora basta multiplica o vetor unitário por 10\n",
    "v = 10*a_pq\n",
    "display(Math(r'\\mathbf{v = } 10\\mathbf{a}_{PQ} = ' + sp.latex(v.T) ))\n",
    "display(Math(r'\\mathbf{|v| = }' + sp.latex(v.norm())))"
   ]
  },
  {
   "cell_type": "code",
   "execution_count": 31,
   "metadata": {},
   "outputs": [
    {
     "data": {
      "text/latex": [
       "$\\displaystyle \\mathbf{v = }\\left[\\begin{matrix}-9.04 & -3.02 & 3.02\\end{matrix}\\right]$"
      ],
      "text/plain": [
       "<IPython.core.display.Math object>"
      ]
     },
     "metadata": {},
     "output_type": "display_data"
    }
   ],
   "source": [
    "# Resultado em decimal\n",
    "display(Math(r'\\mathbf{v = }' + sp.latex(v.T.evalf(3))))"
   ]
  },
  {
   "attachments": {},
   "cell_type": "markdown",
   "metadata": {},
   "source": [
    "3 - Um rio escoa na direção sudeste a 10 km/h e um barco navega a favor dessa correnteza. Um homem anda dentro do barco a 2 km/h em uma direção para a direita e perpendicular a direção do movimento do barco. Encontre a velocidade do homem em relação à terra. "
   ]
  },
  {
   "attachments": {},
   "cell_type": "markdown",
   "metadata": {},
   "source": [
    "*Solução*\n",
    "\n",
    "A Figura 1.6 abaixo ilustra o problema\n",
    "<p align=\"center\">\n",
    "<img src='Fig1.6.svg'>\n",
    "</p>"
   ]
  },
  {
   "attachments": {},
   "cell_type": "markdown",
   "metadata": {},
   "source": [
    "Velocidade do barco/rio (em relação à terra): $\\mathbf{u}_b$\n",
    "\n",
    "Velocidade do homem (em relação ao barco): $\\mathbf{u}_m$\n",
    "\n",
    "Velocidade do homem em relação à terra é a velocidade do homem em relação ao barco mais a contribuição da velocidade do próprio barco: $\\mathbf{u}_{ab} = \\mathbf{u}_b+\\mathbf{u}_m$.\n",
    "\n",
    "A direção **sudeste** indica um ângulo de -45 graus (observe que o sentido é horário) em relação ao eixo horizontal da figura. Como o homem anda **perpendicular** ao barco, o vetor velocidade dele está a $-90-45=-135$ graus em relação ao mesmo eixo. \n",
    "\n",
    "Com base nas magnitudes e direções, basta definir os vetores no sistema de coordenados indicado e fazer a soma. Para achar a magnitude da velocidade, achamos a magnitude do vetor resultante.\n",
    "\n",
    "Note que como o movimento é **plano** não usamos o eixo $z$."
   ]
  },
  {
   "cell_type": "code",
   "execution_count": 32,
   "metadata": {},
   "outputs": [],
   "source": [
    "# Importa apenas as funções usadas\n",
    "from sympy import sin, cos, pi, Matrix"
   ]
  },
  {
   "cell_type": "code",
   "execution_count": 33,
   "metadata": {},
   "outputs": [
    {
     "data": {
      "text/latex": [
       "$\\displaystyle \\mathbf{u}_b = \\left[\\begin{matrix}5 \\sqrt{2} & - 5 \\sqrt{2}\\end{matrix}\\right]$"
      ],
      "text/plain": [
       "<IPython.core.display.Math object>"
      ]
     },
     "metadata": {},
     "output_type": "display_data"
    }
   ],
   "source": [
    "# Vetor velocidade do rio/barco\n",
    "ub = 10 * Matrix([cos(-pi/4), sin(-pi/4)]).T\n",
    "display(Math(r'\\mathbf{u}_b = ' + sp.latex(ub)))"
   ]
  },
  {
   "cell_type": "code",
   "execution_count": 34,
   "metadata": {},
   "outputs": [
    {
     "data": {
      "text/latex": [
       "$\\displaystyle \\mathbf{u}_m = \\left[\\begin{matrix}- \\sqrt{2} & - \\sqrt{2}\\end{matrix}\\right]$"
      ],
      "text/plain": [
       "<IPython.core.display.Math object>"
      ]
     },
     "metadata": {},
     "output_type": "display_data"
    }
   ],
   "source": [
    "# Vetor velocidade do homem\n",
    "um = 2 * Matrix([cos(-pi/4-pi/2), sin(-pi/4-pi/2)]).T\n",
    "display(Math(r'\\mathbf{u}_m = ' + sp.latex(um)))"
   ]
  },
  {
   "cell_type": "code",
   "execution_count": 35,
   "metadata": {},
   "outputs": [
    {
     "data": {
      "text/latex": [
       "$\\displaystyle \\mathbf{u}_{ab} = \\left[\\begin{matrix}4 \\sqrt{2} & - 6 \\sqrt{2}\\end{matrix}\\right]$"
      ],
      "text/plain": [
       "<IPython.core.display.Math object>"
      ]
     },
     "metadata": {},
     "output_type": "display_data"
    },
    {
     "data": {
      "text/latex": [
       "$\\displaystyle |\\mathbf{u}_{ab} |= 2 \\sqrt{26}\\approx10.2$"
      ],
      "text/plain": [
       "<IPython.core.display.Math object>"
      ]
     },
     "metadata": {},
     "output_type": "display_data"
    }
   ],
   "source": [
    "# Resultante\n",
    "u = ub+um\n",
    "display(Math(r'\\mathbf{u}_{ab} = ' + sp.latex(u)))\n",
    "display(Math(r'|\\mathbf{u}_{ab} |= ' + sp.latex(u.norm()) + r'\\approx' + sp.latex(u.norm().evalf(3))))"
   ]
  },
  {
   "attachments": {},
   "cell_type": "markdown",
   "metadata": {},
   "source": [
    "**Lista 1 de exercícios propostos**\n",
    "\n",
    "Faça os exercícios de prática 1.1 a 1.3 do livro texto. "
   ]
  }
 ],
 "metadata": {
  "kernelspec": {
   "display_name": "Python 3",
   "language": "python",
   "name": "python3"
  },
  "language_info": {
   "codemirror_mode": {
    "name": "ipython",
    "version": 3
   },
   "file_extension": ".py",
   "mimetype": "text/x-python",
   "name": "python",
   "nbconvert_exporter": "python",
   "pygments_lexer": "ipython3",
   "version": "3.11.1"
  },
  "orig_nbformat": 4,
  "vscode": {
   "interpreter": {
    "hash": "e1735dd0795dce195fb98475ccf229151ed44a61fb274eb18cdb7c8302916985"
   }
  }
 },
 "nbformat": 4,
 "nbformat_minor": 2
}
