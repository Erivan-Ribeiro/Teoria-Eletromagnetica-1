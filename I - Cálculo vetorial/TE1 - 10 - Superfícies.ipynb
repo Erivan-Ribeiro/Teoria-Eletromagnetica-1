{
 "cells": [
  {
   "cell_type": "markdown",
   "id": "11687d65",
   "metadata": {},
   "source": [
    "# **Superfícies de coordenadas constantes**\n",
    "\n",
    "Em problemas práticos, é comum precisarmos representar determinadas geometrias. Escolhendo o sistema de coordenadas adequado, essas geometrias podem facilmente ser modeladas para resolver problemas."
   ]
  },
  {
   "cell_type": "markdown",
   "id": "73499da6",
   "metadata": {},
   "source": [
    "## Coordendas cartesianas\n",
    "\n",
    "<p align='center'>\n",
    "    <img src='Fig2.7.svg'>\n",
    "</p>\n",
    "    \n",
    "### Uma coordenada.\n",
    "\n",
    "Se considerarmos uma coordenada retangular constante, a figura geométrica produzida é um **planno**. \n",
    "\n",
    "Podemos então falar, por exemplo, \"o plano $x=2$\".\n",
    "\n",
    "### Duas coordenadas\n",
    "\n",
    "Duas coordenadas retangulares constantes definem separadamente dois planos. Se considerarmos simultaneamente, temos a interseção de dois planos, que é uma **linha reta**.\n",
    "\n",
    "Assim, podemos ter, por exemplo, a reta $x=2$, $y=3$. \n",
    "\n",
    "### Três coordenadas\n",
    "\n",
    "Três coordenadas plenamente especificadas sempre definem um ponto, independente do sistema de coordenadas. Perceba apenas que esse ponto advém da intersecção de 3 planos. "
   ]
  },
  {
   "cell_type": "markdown",
   "id": "30e1faf2",
   "metadata": {},
   "source": [
    "## Coordenadas cilíndricas\n",
    "\n",
    "<p align='center'>\n",
    "    <img src='Fig2.8.svg'>\n",
    "</p>"
   ]
  },
  {
   "cell_type": "markdown",
   "id": "d32ebe46",
   "metadata": {},
   "source": [
    "### Uma coordenada\n",
    "\n",
    "- $\\rho$ constante delimita uma superfície lateral cilíndrica de raio fixo, porém de altura infinita\n",
    "- $\\phi$ constante delimita um semi-plano radial, que passa necessariamente pelo eixo $z$\n",
    "- $z$ constante define um plano infinito, da mesma forma que nas coordenadas cartesinas. S"
   ]
  },
  {
   "cell_type": "markdown",
   "id": "496aa601",
   "metadata": {},
   "source": [
    "### Duas coordenadas\n",
    "\n",
    "As combinações possíveis são:\n",
    "- $\\rho$ e $\\phi$: uma linha vertical infinita, paralela ao eixo $z$\n",
    "- $\\rho$ e $z$: uma circunferência paralela ao plano $xy$\n",
    "- $\\phi$ e $z$: uma linha radial, partindo do eixo $z$\n",
    "\n",
    "Porém, a geometria resultante da interseção é complicada de descrever em palavras. A figura descreve melhor. "
   ]
  },
  {
   "cell_type": "markdown",
   "id": "1e89da3d",
   "metadata": {},
   "source": [
    "## Coordenadas esféricas\n",
    "\n",
    "<p align='center'>\n",
    "    <img src='Fig2.9.svg'>\n",
    "</p>"
   ]
  },
  {
   "cell_type": "markdown",
   "id": "c4070bbd",
   "metadata": {},
   "source": [
    "### Uma coordenada\n",
    "\n",
    "- $r$ constante: uma superfície esférica\n",
    "- $\\theta$ constante: uma superfície lateral de um tronco de cone\n",
    "- $\\phi$ constante: um plano radial"
   ]
  },
  {
   "attachments": {},
   "cell_type": "markdown",
   "id": "4986c135",
   "metadata": {},
   "source": [
    "## Duas coordenadas\n",
    "\n",
    "- $r$ e $\\theta$: um circunferência paralela ao plano $xy$ \n",
    "- $r$ e $\\phi$: um arco de circunferência\n",
    "- $\\theta$ e $\\phi$: uma linha inclinada lkajdlkasjdlk"
   ]
  },
  {
   "cell_type": "code",
   "execution_count": 1,
   "id": "5b68998d",
   "metadata": {},
   "outputs": [
    {
     "data": {
      "text/plain": [
       "8.5"
      ]
     },
     "execution_count": 1,
     "metadata": {},
     "output_type": "execute_result"
    }
   ],
   "source": [
    "(9.5+8.5+8+9+8+8.5+8)/7\n"
   ]
  }
 ],
 "metadata": {
  "kernelspec": {
   "display_name": "Python 3 (ipykernel)",
   "language": "python",
   "name": "python3"
  },
  "language_info": {
   "codemirror_mode": {
    "name": "ipython",
    "version": 3
   },
   "file_extension": ".py",
   "mimetype": "text/x-python",
   "name": "python",
   "nbconvert_exporter": "python",
   "pygments_lexer": "ipython3",
   "version": "3.11.1"
  }
 },
 "nbformat": 4,
 "nbformat_minor": 5
}
