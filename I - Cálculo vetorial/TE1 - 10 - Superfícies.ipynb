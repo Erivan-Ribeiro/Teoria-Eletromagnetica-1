{
 "cells": [
  {
   "cell_type": "markdown",
   "id": "11687d65",
   "metadata": {},
   "source": [
    "# **Superfícies de coordenadas constantes**\n",
    "\n",
    "Em problemas práticos, é comum precisarmos representar determinadas geometrias. Escolhendo o sistema de coordenadas adequado, essas geometrias podem facilmente ser modeladas para resolver problemas."
   ]
  },
  {
   "attachments": {},
   "cell_type": "markdown",
   "id": "73499da6",
   "metadata": {},
   "source": [
    "## Coordendas cartesianas\n",
    "\n",
    "<p align='center'>\n",
    "    <img src='Fig2.7.svg'>\n",
    "</p>\n",
    "    \n",
    "### Uma coordenada.\n",
    "\n",
    "Se considerarmos uma coordenada retangular constante, a figura geométrica produzida é um **plano**. \n",
    "\n",
    "Podemos então falar, por exemplo, \"o plano $x=2$\".\n",
    "\n",
    "### Duas coordenadas\n",
    "\n",
    "Duas coordenadas retangulares constantes definem separadamente dois planos. Se considerarmos simultaneamente, temos a interseção de dois planos, que é uma **linha reta**.\n",
    "\n",
    "Assim, podemos ter, por exemplo, a reta $x=2$, $y=3$. \n",
    "\n",
    "### Três coordenadas\n",
    "\n",
    "Três coordenadas plenamente especificadas sempre definem um ponto, independente do sistema de coordenadas. Perceba apenas que esse ponto advém da intersecção de 3 planos. "
   ]
  },
  {
   "cell_type": "markdown",
   "id": "30e1faf2",
   "metadata": {},
   "source": [
    "## Coordenadas cilíndricas\n",
    "\n",
    "<p align='center'>\n",
    "    <img src='Fig2.8.svg'>\n",
    "</p>"
   ]
  },
  {
   "cell_type": "markdown",
   "id": "d32ebe46",
   "metadata": {},
   "source": [
    "### Uma coordenada\n",
    "\n",
    "- $\\rho$ constante delimita uma superfície lateral cilíndrica de raio fixo, porém de altura infinita\n",
    "- $\\phi$ constante delimita um semi-plano radial, que passa necessariamente pelo eixo $z$\n",
    "- $z$ constante define um plano infinito, da mesma forma que nas coordenadas cartesinas. S"
   ]
  },
  {
   "cell_type": "markdown",
   "id": "496aa601",
   "metadata": {},
   "source": [
    "### Duas coordenadas\n",
    "\n",
    "As combinações possíveis são:\n",
    "- $\\rho$ e $\\phi$: uma linha vertical infinita, paralela ao eixo $z$\n",
    "- $\\rho$ e $z$: uma circunferência paralela ao plano $xy$\n",
    "- $\\phi$ e $z$: uma linha radial, partindo do eixo $z$\n",
    "\n",
    "Porém, a geometria resultante da interseção é complicada de descrever em palavras. A figura descreve melhor. "
   ]
  },
  {
   "cell_type": "markdown",
   "id": "1e89da3d",
   "metadata": {},
   "source": [
    "## Coordenadas esféricas\n",
    "\n",
    "<p align='center'>\n",
    "    <img src='Fig2.9.svg'>\n",
    "</p>"
   ]
  },
  {
   "cell_type": "markdown",
   "id": "c4070bbd",
   "metadata": {},
   "source": [
    "### Uma coordenada\n",
    "\n",
    "- $r$ constante: uma superfície esférica\n",
    "- $\\theta$ constante: uma superfície lateral de um tronco de cone\n",
    "- $\\phi$ constante: um plano radial"
   ]
  },
  {
   "attachments": {},
   "cell_type": "markdown",
   "id": "4986c135",
   "metadata": {},
   "source": [
    "## Duas coordenadas\n",
    "\n",
    "- $r$ e $\\theta$: um circunferência paralela ao plano $xy$ \n",
    "- $r$ e $\\phi$: um arco de circunferência\n",
    "- $\\theta$ e $\\phi$: uma linha inclinada"
   ]
  },
  {
   "attachments": {},
   "cell_type": "markdown",
   "id": "375d2222",
   "metadata": {},
   "source": [
    "<center> <img src='Ex-Pratico2.3.svg'> </center>"
   ]
  },
  {
   "cell_type": "code",
   "execution_count": null,
   "id": "d9579894",
   "metadata": {},
   "outputs": [],
   "source": []
  },
  {
   "attachments": {},
   "cell_type": "markdown",
   "id": "ccbb5174",
   "metadata": {},
   "source": [
    "<center> <img src='Ex-Pratico2.4.svg'> </center>"
   ]
  },
  {
   "cell_type": "code",
   "execution_count": 1,
   "id": "f23319e6",
   "metadata": {},
   "outputs": [],
   "source": [
    "import sympy as sp\n",
    "from sympy import sin, cos, pi"
   ]
  },
  {
   "cell_type": "code",
   "execution_count": 17,
   "id": "31c5e413",
   "metadata": {},
   "outputs": [],
   "source": [
    "r,th,phi = sp.symbols(['r', 'theta', 'phi'])\n",
    "D = sp.Matrix([r*sin(phi), -(1/r)*sin(th)*cos(phi), r**2])\n",
    "D_esf = D.subs([(r,10),(th,150*pi/180),(phi,330*pi/180)])\n",
    "Dn = sp.Matrix([D_esf[0],0,0])"
   ]
  },
  {
   "cell_type": "code",
   "execution_count": 19,
   "id": "dfe688e3",
   "metadata": {},
   "outputs": [
    {
     "data": {
      "text/latex": [
       "$\\displaystyle \\left[\\begin{matrix}0\\\\-0.0433\\\\100.0\\end{matrix}\\right]$"
      ],
      "text/plain": [
       "Matrix([\n",
       "[      0],\n",
       "[-0.0433],\n",
       "[  100.0]])"
      ]
     },
     "execution_count": 19,
     "metadata": {},
     "output_type": "execute_result"
    }
   ],
   "source": [
    "Dt = D_esf - Dn\n",
    "Dt.evalf(4)"
   ]
  },
  {
   "cell_type": "code",
   "execution_count": 21,
   "id": "0243139a",
   "metadata": {},
   "outputs": [
    {
     "data": {
      "text/latex": [
       "$\\displaystyle \\left[\\begin{matrix}-0.9987\\\\0\\\\-0.04994\\end{matrix}\\right]$"
      ],
      "text/plain": [
       "Matrix([\n",
       "[ -0.9987],\n",
       "[       0],\n",
       "[-0.04994]])"
      ]
     },
     "execution_count": 21,
     "metadata": {},
     "output_type": "execute_result"
    }
   ],
   "source": [
    "D_cone = D.subs([(r,10),(th,150*pi/180),(phi,330*pi/180)])\n",
    "ath = sp.Matrix([0,1,0])\n",
    "v = D_cone.cross(ath)\n",
    "an = v/v.norm()\n",
    "an.evalf(4)"
   ]
  }
 ],
 "metadata": {
  "kernelspec": {
   "display_name": "Python 3 (ipykernel)",
   "language": "python",
   "name": "python3"
  },
  "language_info": {
   "codemirror_mode": {
    "name": "ipython",
    "version": 3
   },
   "file_extension": ".py",
   "mimetype": "text/x-python",
   "name": "python",
   "nbconvert_exporter": "python",
   "pygments_lexer": "ipython3",
   "version": "3.11.1"
  }
 },
 "nbformat": 4,
 "nbformat_minor": 5
}
